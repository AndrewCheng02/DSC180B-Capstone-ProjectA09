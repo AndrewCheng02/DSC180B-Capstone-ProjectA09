{
 "cells": [
  {
   "cell_type": "code",
   "execution_count": 2,
   "id": "64eeb1d0",
   "metadata": {},
   "outputs": [],
   "source": [
    "# Imports\n",
    "import os\n",
    "\n",
    "# Data science and vis tools\n",
    "import numpy as np\n",
    "import pandas as pd\n",
    "import matplotlib.pyplot as plt"
   ]
  },
  {
   "cell_type": "code",
   "execution_count": 3,
   "id": "2760fbac",
   "metadata": {},
   "outputs": [],
   "source": [
    "from sklearn.neighbors import KNeighborsClassifier\n",
    "from sklearn.model_selection import train_test_split\n",
    "from sklearn.metrics import accuracy_score"
   ]
  },
  {
   "cell_type": "code",
   "execution_count": 39,
   "id": "340fcfbc",
   "metadata": {},
   "outputs": [],
   "source": [
    "#Import Simulated Data\n",
    "\n",
    "import pandas as pd\n",
    "import numpy as np\n",
    "import os\n",
    "\n",
    "import gzip # Extract gz file\n",
    "from ast import literal_eval # Gets network matrix array from csv \n",
    "import re\n",
    "\n",
    "distributions = []\n",
    "\n",
    "for i in range(0, 9, 2):\n",
    "    data_file = os.path.abspath('../../Data/sim/dist' + str(i) + '.csv')\n",
    "    data = pd.read_csv(data_file, index_col = 'subject_id', \n",
    "                converters = {'fpcorr' : lambda x : np.array(literal_eval(re.sub('(?<!\\[)\\s+|[\\\\n]', ', ', x)))})\n",
    "    distributions.append(data)"
   ]
  },
  {
   "cell_type": "code",
   "execution_count": 40,
   "id": "c5014cd9",
   "metadata": {},
   "outputs": [],
   "source": [
    "def kkn10(data):\n",
    "    X = data['fpcorr'].apply(lambda x : x.flatten()).to_list()\n",
    "    y = data['gender'].to_list()\n",
    "    \n",
    "    # Generate Train Test Split\n",
    "    X_train, X_test, y_train, y_test = train_test_split(X, y, random_state = 6)\n",
    "    \n",
    "    # Knn classifier\n",
    "    knn10 = KNeighborsClassifier(n_neighbors = 10)\n",
    "    \n",
    "    knn10.fit(X_train, y_train)\n",
    "    y_pred_2 = knn10.predict(X_test)\n",
    "    \n",
    "    print(\"Accuracy with k=10\", accuracy_score(y_test, y_pred_2)*100)"
   ]
  },
  {
   "cell_type": "code",
   "execution_count": 41,
   "id": "b73fa07d",
   "metadata": {},
   "outputs": [
    {
     "name": "stdout",
     "output_type": "stream",
     "text": [
      "Accuracy with k=10 52.0\n",
      "Accuracy with k=10 49.2\n",
      "Accuracy with k=10 52.400000000000006\n",
      "Accuracy with k=10 44.800000000000004\n",
      "Accuracy with k=10 100.0\n"
     ]
    }
   ],
   "source": [
    "for i in distributions:\n",
    "    kkn10(i)"
   ]
  },
  {
   "cell_type": "code",
   "execution_count": 46,
   "id": "b35d65a5",
   "metadata": {},
   "outputs": [
    {
     "data": {
      "text/plain": [
       "184"
      ]
     },
     "execution_count": 46,
     "metadata": {},
     "output_type": "execute_result"
    }
   ],
   "source": [
    "len(distributions[4])"
   ]
  },
  {
   "cell_type": "code",
   "execution_count": null,
   "id": "536a5585",
   "metadata": {},
   "outputs": [],
   "source": []
  }
 ],
 "metadata": {
  "kernelspec": {
   "display_name": "Python 3 (ipykernel)",
   "language": "python",
   "name": "python3"
  },
  "language_info": {
   "codemirror_mode": {
    "name": "ipython",
    "version": 3
   },
   "file_extension": ".py",
   "mimetype": "text/x-python",
   "name": "python",
   "nbconvert_exporter": "python",
   "pygments_lexer": "ipython3",
   "version": "3.9.13"
  }
 },
 "nbformat": 4,
 "nbformat_minor": 5
}
