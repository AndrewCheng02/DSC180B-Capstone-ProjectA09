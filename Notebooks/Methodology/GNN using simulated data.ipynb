{
 "cells": [
  {
   "cell_type": "code",
   "execution_count": 1,
   "id": "72b3c9db",
   "metadata": {},
   "outputs": [
    {
     "ename": "ModuleNotFoundError",
     "evalue": "No module named 'pingouin'",
     "output_type": "error",
     "traceback": [
      "\u001b[1;31m---------------------------------------------------------------------------\u001b[0m",
      "\u001b[1;31mModuleNotFoundError\u001b[0m                       Traceback (most recent call last)",
      "Cell \u001b[1;32mIn[1], line 13\u001b[0m\n\u001b[0;32m     11\u001b[0m \u001b[38;5;66;03m#sim required\u001b[39;00m\n\u001b[0;32m     12\u001b[0m \u001b[38;5;28;01mimport\u001b[39;00m \u001b[38;5;21;01mrandom\u001b[39;00m\n\u001b[1;32m---> 13\u001b[0m \u001b[38;5;28;01mimport\u001b[39;00m \u001b[38;5;21;01mpingouin\u001b[39;00m \u001b[38;5;28;01mas\u001b[39;00m \u001b[38;5;21;01mpg\u001b[39;00m\n\u001b[0;32m     14\u001b[0m \u001b[38;5;28;01mimport\u001b[39;00m \u001b[38;5;21;01mseaborn\u001b[39;00m \u001b[38;5;28;01mas\u001b[39;00m \u001b[38;5;21;01msns\u001b[39;00m\n\u001b[0;32m     15\u001b[0m \u001b[38;5;66;03m#GNN required\u001b[39;00m\n",
      "\u001b[1;31mModuleNotFoundError\u001b[0m: No module named 'pingouin'"
     ]
    }
   ],
   "source": [
    "#Imports\n",
    "#Dataprep\n",
    "import matplotlib.pyplot as plt\n",
    "import numpy as np\n",
    "from nilearn import datasets, plotting, image\n",
    "from nilearn.maskers import NiftiMapsMasker\n",
    "from sklearn.decomposition import FastICA\n",
    "import pandas as pd\n",
    "import tarfile\n",
    "import gzip\n",
    "#sim required\n",
    "import random\n",
    "import pingouin as pg\n",
    "import seaborn as sns\n",
    "#GNN required\n",
    "import torch\n",
    "import torch.nn.functional as F\n",
    "from torch.nn import Linear\n",
    "import torch.nn as nn\n",
    "import torch_geometric\n",
    "from torch_geometric.nn import GCNConv\n",
    "from torch_geometric.nn import SAGEConv\n",
    "from torch_geometric.nn import GraphConv\n",
    "from torch_geometric.data import Data\n",
    "from torch_geometric.loader import DataLoader\n",
    "from torch.utils.data import SubsetRandomSampler\n",
    "from sklearn.metrics import accuracy_score"
   ]
  },
  {
   "cell_type": "code",
   "execution_count": null,
   "id": "5ef62acd",
   "metadata": {},
   "outputs": [],
   "source": [
    "def mult_chance(row,mult_lst,chance):\n",
    "    if np.random.random() < chance:\n",
    "        return row * mult_lst\n",
    "    return row\n",
    "\n",
    "def gen_data(mult_lst,num_rows,num_features = 10):\n",
    "    # gen dataframe of random values from 0.1 to 0.2\n",
    "    df = pd.DataFrame(np.random.uniform(0.1,0.2,size=(num_rows, num_features)))\n",
    "\n",
    "    # multiply some rows by a specific list at a certain chance\n",
    "    df = df.apply(lambda x: mult_chance(x,mult_lst,0.2), axis=1)\n",
    "    return df\n",
    "\n",
    "kwarg_dict = {'vmin':-1, 'vmax':1,'center':0}\n",
    "fisher_dict = {'vmin':-3, 'vmax':3,'center':0}\n",
    "\n",
    "def plot_corr_pcorr(data):\n",
    "    fig, ax = plt.subplots(2,2,figsize=(11,9))\n",
    "    \n",
    "    corr = data.corr()\n",
    "    pcorr = data.pcorr()\n",
    "    fcorr = apply_fisher(corr)\n",
    "    fpcorr = apply_fisher(pcorr)\n",
    "    \n",
    "    sns.heatmap(corr, ax=ax[0][0],**kwarg_dict)\n",
    "    ax[0][0].set_title(\"Pearson Correlation\")\n",
    "    sns.heatmap(pcorr, ax=ax[0][1],**kwarg_dict)\n",
    "    ax[0][1].set_title(\"Partial Correlation\")\n",
    "    \n",
    "    sns.heatmap(fcorr, ax=ax[1][0],**fisher_dict)\n",
    "    ax[1][0].set_title(\"Pearson Correlation w/ Fisher Transform\")\n",
    "    sns.heatmap(fpcorr, ax=ax[1][1],**fisher_dict)\n",
    "    ax[1][1].set_title(\"Partial Correlation w/ Fisher Transform\")\n",
    "    \n",
    "    plt.show()\n",
    "    print(\"Pearson Positive Definite: \", positive_definite(corr))\n",
    "    print(\"Partial Positive Definite: \", positive_definite(pcorr))\n",
    "    print(\"Pearson w/ Fisher Transform Positive Definite: \", positive_definite(fcorr))\n",
    "    print(\"Partial w/ Fisher Transform Positive Definite: \", positive_definite(fpcorr))\n",
    "\n",
    "def positive_definite(data):\n",
    "    # positive definite when all eigenvalues are greater than 0\n",
    "    return np.all(np.linalg.eigvals(data) > 0)\n",
    "\n",
    "def apply_fisher(data):\n",
    "    numpied = data.to_numpy().copy()\n",
    "    np.fill_diagonal(numpied, 0)\n",
    "    return np.arctanh(numpied)"
   ]
  },
  {
   "cell_type": "code",
   "execution_count": 2,
   "id": "4d7e4c40",
   "metadata": {},
   "outputs": [
    {
     "ename": "NameError",
     "evalue": "name 'gen_data' is not defined",
     "output_type": "error",
     "traceback": [
      "\u001b[1;31m---------------------------------------------------------------------------\u001b[0m",
      "\u001b[1;31mNameError\u001b[0m                                 Traceback (most recent call last)",
      "Cell \u001b[1;32mIn[2], line 14\u001b[0m\n\u001b[0;32m      1\u001b[0m male_lst \u001b[38;5;241m=\u001b[39m [\n\u001b[0;32m      2\u001b[0m         \u001b[38;5;241m2\u001b[39m,\n\u001b[0;32m      3\u001b[0m         \u001b[38;5;241m1.8\u001b[39m,\n\u001b[1;32m   (...)\u001b[0m\n\u001b[0;32m     11\u001b[0m         \u001b[38;5;241m1\u001b[39m\n\u001b[0;32m     12\u001b[0m     ]\n\u001b[1;32m---> 14\u001b[0m df \u001b[38;5;241m=\u001b[39m gen_data(male_lst,\u001b[38;5;241m100\u001b[39m)\n\u001b[0;32m     15\u001b[0m plot_corr_pcorr(df)\n",
      "\u001b[1;31mNameError\u001b[0m: name 'gen_data' is not defined"
     ]
    }
   ],
   "source": [
    "male_lst = [\n",
    "        2,\n",
    "        1.8,\n",
    "        1.6,\n",
    "        1.4,\n",
    "        1.2,\n",
    "        1,\n",
    "        1,\n",
    "        1,\n",
    "        1,\n",
    "        1\n",
    "    ]\n",
    "\n",
    "df = gen_data(male_lst,100)\n",
    "plot_corr_pcorr(df)"
   ]
  },
  {
   "cell_type": "code",
   "execution_count": 3,
   "id": "422527fe",
   "metadata": {},
   "outputs": [
    {
     "ename": "NameError",
     "evalue": "name 'df' is not defined",
     "output_type": "error",
     "traceback": [
      "\u001b[1;31m---------------------------------------------------------------------------\u001b[0m",
      "\u001b[1;31mNameError\u001b[0m                                 Traceback (most recent call last)",
      "Cell \u001b[1;32mIn[3], line 1\u001b[0m\n\u001b[1;32m----> 1\u001b[0m df\n",
      "\u001b[1;31mNameError\u001b[0m: name 'df' is not defined"
     ]
    }
   ],
   "source": [
    "df"
   ]
  },
  {
   "cell_type": "code",
   "execution_count": 4,
   "id": "fb43fb35",
   "metadata": {},
   "outputs": [
    {
     "ename": "NameError",
     "evalue": "name 'gen_data' is not defined",
     "output_type": "error",
     "traceback": [
      "\u001b[1;31m---------------------------------------------------------------------------\u001b[0m",
      "\u001b[1;31mNameError\u001b[0m                                 Traceback (most recent call last)",
      "Cell \u001b[1;32mIn[4], line 14\u001b[0m\n\u001b[0;32m      1\u001b[0m female_lst \u001b[38;5;241m=\u001b[39m [\n\u001b[0;32m      2\u001b[0m         \u001b[38;5;241m1\u001b[39m,\n\u001b[0;32m      3\u001b[0m         \u001b[38;5;241m1\u001b[39m,\n\u001b[1;32m   (...)\u001b[0m\n\u001b[0;32m     11\u001b[0m         \u001b[38;5;241m2\u001b[39m\n\u001b[0;32m     12\u001b[0m     ]\n\u001b[1;32m---> 14\u001b[0m df \u001b[38;5;241m=\u001b[39m gen_data(female_lst,\u001b[38;5;241m100\u001b[39m)\n\u001b[0;32m     15\u001b[0m plot_corr_pcorr(df)\n",
      "\u001b[1;31mNameError\u001b[0m: name 'gen_data' is not defined"
     ]
    }
   ],
   "source": [
    "female_lst = [\n",
    "        1,\n",
    "        1,\n",
    "        1,\n",
    "        1,\n",
    "        1,\n",
    "        1.2,\n",
    "        1.4,\n",
    "        1.6,\n",
    "        1.8,\n",
    "        2\n",
    "    ]\n",
    "\n",
    "df = gen_data(female_lst,100)\n",
    "plot_corr_pcorr(df)"
   ]
  },
  {
   "cell_type": "code",
   "execution_count": 5,
   "id": "1a092104",
   "metadata": {},
   "outputs": [],
   "source": [
    "def gen_data2(lst1,num_rows):\n",
    "    df = pd.DataFrame(np.random.uniform(0.1,0.2,size=(num_rows, 10)))\n",
    "    \n",
    "    for lst2 in lst1:\n",
    "        df = df.apply(lambda x: mult_chance(x,lst2,0.2), axis=1)    \n",
    "    return df"
   ]
  },
  {
   "cell_type": "code",
   "execution_count": 6,
   "id": "e4835979",
   "metadata": {},
   "outputs": [
    {
     "ename": "NameError",
     "evalue": "name 'mult_chance' is not defined",
     "output_type": "error",
     "traceback": [
      "\u001b[1;31m---------------------------------------------------------------------------\u001b[0m",
      "\u001b[1;31mNameError\u001b[0m                                 Traceback (most recent call last)",
      "Cell \u001b[1;32mIn[6], line 7\u001b[0m\n\u001b[0;32m      1\u001b[0m tuple_lst \u001b[38;5;241m=\u001b[39m [\n\u001b[0;32m      2\u001b[0m     [\u001b[38;5;241m2\u001b[39m,\u001b[38;5;241m2\u001b[39m,\u001b[38;5;241m1\u001b[39m,\u001b[38;5;241m1\u001b[39m,\u001b[38;5;241m1\u001b[39m,\u001b[38;5;241m1\u001b[39m,\u001b[38;5;241m1\u001b[39m,\u001b[38;5;241m1\u001b[39m,\u001b[38;5;241m1\u001b[39m,\u001b[38;5;241m1\u001b[39m], \u001b[38;5;66;03m# region 0 with region 1\u001b[39;00m\n\u001b[0;32m      3\u001b[0m     [\u001b[38;5;241m1\u001b[39m,\u001b[38;5;241m1\u001b[39m,\u001b[38;5;241m2\u001b[39m,\u001b[38;5;241m2\u001b[39m,\u001b[38;5;241m1\u001b[39m,\u001b[38;5;241m1\u001b[39m,\u001b[38;5;241m1\u001b[39m,\u001b[38;5;241m1\u001b[39m,\u001b[38;5;241m1\u001b[39m,\u001b[38;5;241m1\u001b[39m], \u001b[38;5;66;03m# region 2 with region 3\u001b[39;00m\n\u001b[0;32m      4\u001b[0m     [\u001b[38;5;241m1\u001b[39m,\u001b[38;5;241m1\u001b[39m,\u001b[38;5;241m1\u001b[39m,\u001b[38;5;241m1\u001b[39m,\u001b[38;5;241m2\u001b[39m,\u001b[38;5;241m2\u001b[39m,\u001b[38;5;241m1\u001b[39m,\u001b[38;5;241m1\u001b[39m,\u001b[38;5;241m1\u001b[39m,\u001b[38;5;241m1\u001b[39m] \u001b[38;5;66;03m# region 4 with region 5\u001b[39;00m\n\u001b[0;32m      5\u001b[0m ]\n\u001b[1;32m----> 7\u001b[0m df \u001b[38;5;241m=\u001b[39m gen_data2(tuple_lst,\u001b[38;5;241m100\u001b[39m)\n\u001b[0;32m      8\u001b[0m plot_corr_pcorr(df)\n",
      "Cell \u001b[1;32mIn[5], line 5\u001b[0m, in \u001b[0;36mgen_data2\u001b[1;34m(lst1, num_rows)\u001b[0m\n\u001b[0;32m      2\u001b[0m df \u001b[38;5;241m=\u001b[39m pd\u001b[38;5;241m.\u001b[39mDataFrame(np\u001b[38;5;241m.\u001b[39mrandom\u001b[38;5;241m.\u001b[39muniform(\u001b[38;5;241m0.1\u001b[39m,\u001b[38;5;241m0.2\u001b[39m,size\u001b[38;5;241m=\u001b[39m(num_rows, \u001b[38;5;241m10\u001b[39m)))\n\u001b[0;32m      4\u001b[0m \u001b[38;5;28;01mfor\u001b[39;00m lst2 \u001b[38;5;129;01min\u001b[39;00m lst1:\n\u001b[1;32m----> 5\u001b[0m     df \u001b[38;5;241m=\u001b[39m df\u001b[38;5;241m.\u001b[39mapply(\u001b[38;5;28;01mlambda\u001b[39;00m x: mult_chance(x,lst2,\u001b[38;5;241m0.2\u001b[39m), axis\u001b[38;5;241m=\u001b[39m\u001b[38;5;241m1\u001b[39m)    \n\u001b[0;32m      6\u001b[0m \u001b[38;5;28;01mreturn\u001b[39;00m df\n",
      "File \u001b[1;32m~\\anaconda3\\envs\\capstone\\Lib\\site-packages\\pandas\\core\\frame.py:10347\u001b[0m, in \u001b[0;36mDataFrame.apply\u001b[1;34m(self, func, axis, raw, result_type, args, by_row, engine, engine_kwargs, **kwargs)\u001b[0m\n\u001b[0;32m  10333\u001b[0m \u001b[38;5;28;01mfrom\u001b[39;00m \u001b[38;5;21;01mpandas\u001b[39;00m\u001b[38;5;21;01m.\u001b[39;00m\u001b[38;5;21;01mcore\u001b[39;00m\u001b[38;5;21;01m.\u001b[39;00m\u001b[38;5;21;01mapply\u001b[39;00m \u001b[38;5;28;01mimport\u001b[39;00m frame_apply\n\u001b[0;32m  10335\u001b[0m op \u001b[38;5;241m=\u001b[39m frame_apply(\n\u001b[0;32m  10336\u001b[0m     \u001b[38;5;28mself\u001b[39m,\n\u001b[0;32m  10337\u001b[0m     func\u001b[38;5;241m=\u001b[39mfunc,\n\u001b[1;32m   (...)\u001b[0m\n\u001b[0;32m  10345\u001b[0m     kwargs\u001b[38;5;241m=\u001b[39mkwargs,\n\u001b[0;32m  10346\u001b[0m )\n\u001b[1;32m> 10347\u001b[0m \u001b[38;5;28;01mreturn\u001b[39;00m op\u001b[38;5;241m.\u001b[39mapply()\u001b[38;5;241m.\u001b[39m__finalize__(\u001b[38;5;28mself\u001b[39m, method\u001b[38;5;241m=\u001b[39m\u001b[38;5;124m\"\u001b[39m\u001b[38;5;124mapply\u001b[39m\u001b[38;5;124m\"\u001b[39m)\n",
      "File \u001b[1;32m~\\anaconda3\\envs\\capstone\\Lib\\site-packages\\pandas\\core\\apply.py:916\u001b[0m, in \u001b[0;36mFrameApply.apply\u001b[1;34m(self)\u001b[0m\n\u001b[0;32m    913\u001b[0m \u001b[38;5;28;01melif\u001b[39;00m \u001b[38;5;28mself\u001b[39m\u001b[38;5;241m.\u001b[39mraw:\n\u001b[0;32m    914\u001b[0m     \u001b[38;5;28;01mreturn\u001b[39;00m \u001b[38;5;28mself\u001b[39m\u001b[38;5;241m.\u001b[39mapply_raw(engine\u001b[38;5;241m=\u001b[39m\u001b[38;5;28mself\u001b[39m\u001b[38;5;241m.\u001b[39mengine, engine_kwargs\u001b[38;5;241m=\u001b[39m\u001b[38;5;28mself\u001b[39m\u001b[38;5;241m.\u001b[39mengine_kwargs)\n\u001b[1;32m--> 916\u001b[0m \u001b[38;5;28;01mreturn\u001b[39;00m \u001b[38;5;28mself\u001b[39m\u001b[38;5;241m.\u001b[39mapply_standard()\n",
      "File \u001b[1;32m~\\anaconda3\\envs\\capstone\\Lib\\site-packages\\pandas\\core\\apply.py:1063\u001b[0m, in \u001b[0;36mFrameApply.apply_standard\u001b[1;34m(self)\u001b[0m\n\u001b[0;32m   1061\u001b[0m \u001b[38;5;28;01mdef\u001b[39;00m \u001b[38;5;21mapply_standard\u001b[39m(\u001b[38;5;28mself\u001b[39m):\n\u001b[0;32m   1062\u001b[0m     \u001b[38;5;28;01mif\u001b[39;00m \u001b[38;5;28mself\u001b[39m\u001b[38;5;241m.\u001b[39mengine \u001b[38;5;241m==\u001b[39m \u001b[38;5;124m\"\u001b[39m\u001b[38;5;124mpython\u001b[39m\u001b[38;5;124m\"\u001b[39m:\n\u001b[1;32m-> 1063\u001b[0m         results, res_index \u001b[38;5;241m=\u001b[39m \u001b[38;5;28mself\u001b[39m\u001b[38;5;241m.\u001b[39mapply_series_generator()\n\u001b[0;32m   1064\u001b[0m     \u001b[38;5;28;01melse\u001b[39;00m:\n\u001b[0;32m   1065\u001b[0m         results, res_index \u001b[38;5;241m=\u001b[39m \u001b[38;5;28mself\u001b[39m\u001b[38;5;241m.\u001b[39mapply_series_numba()\n",
      "File \u001b[1;32m~\\anaconda3\\envs\\capstone\\Lib\\site-packages\\pandas\\core\\apply.py:1081\u001b[0m, in \u001b[0;36mFrameApply.apply_series_generator\u001b[1;34m(self)\u001b[0m\n\u001b[0;32m   1078\u001b[0m \u001b[38;5;28;01mwith\u001b[39;00m option_context(\u001b[38;5;124m\"\u001b[39m\u001b[38;5;124mmode.chained_assignment\u001b[39m\u001b[38;5;124m\"\u001b[39m, \u001b[38;5;28;01mNone\u001b[39;00m):\n\u001b[0;32m   1079\u001b[0m     \u001b[38;5;28;01mfor\u001b[39;00m i, v \u001b[38;5;129;01min\u001b[39;00m \u001b[38;5;28menumerate\u001b[39m(series_gen):\n\u001b[0;32m   1080\u001b[0m         \u001b[38;5;66;03m# ignore SettingWithCopy here in case the user mutates\u001b[39;00m\n\u001b[1;32m-> 1081\u001b[0m         results[i] \u001b[38;5;241m=\u001b[39m \u001b[38;5;28mself\u001b[39m\u001b[38;5;241m.\u001b[39mfunc(v, \u001b[38;5;241m*\u001b[39m\u001b[38;5;28mself\u001b[39m\u001b[38;5;241m.\u001b[39margs, \u001b[38;5;241m*\u001b[39m\u001b[38;5;241m*\u001b[39m\u001b[38;5;28mself\u001b[39m\u001b[38;5;241m.\u001b[39mkwargs)\n\u001b[0;32m   1082\u001b[0m         \u001b[38;5;28;01mif\u001b[39;00m \u001b[38;5;28misinstance\u001b[39m(results[i], ABCSeries):\n\u001b[0;32m   1083\u001b[0m             \u001b[38;5;66;03m# If we have a view on v, we need to make a copy because\u001b[39;00m\n\u001b[0;32m   1084\u001b[0m             \u001b[38;5;66;03m#  series_generator will swap out the underlying data\u001b[39;00m\n\u001b[0;32m   1085\u001b[0m             results[i] \u001b[38;5;241m=\u001b[39m results[i]\u001b[38;5;241m.\u001b[39mcopy(deep\u001b[38;5;241m=\u001b[39m\u001b[38;5;28;01mFalse\u001b[39;00m)\n",
      "Cell \u001b[1;32mIn[5], line 5\u001b[0m, in \u001b[0;36mgen_data2.<locals>.<lambda>\u001b[1;34m(x)\u001b[0m\n\u001b[0;32m      2\u001b[0m df \u001b[38;5;241m=\u001b[39m pd\u001b[38;5;241m.\u001b[39mDataFrame(np\u001b[38;5;241m.\u001b[39mrandom\u001b[38;5;241m.\u001b[39muniform(\u001b[38;5;241m0.1\u001b[39m,\u001b[38;5;241m0.2\u001b[39m,size\u001b[38;5;241m=\u001b[39m(num_rows, \u001b[38;5;241m10\u001b[39m)))\n\u001b[0;32m      4\u001b[0m \u001b[38;5;28;01mfor\u001b[39;00m lst2 \u001b[38;5;129;01min\u001b[39;00m lst1:\n\u001b[1;32m----> 5\u001b[0m     df \u001b[38;5;241m=\u001b[39m df\u001b[38;5;241m.\u001b[39mapply(\u001b[38;5;28;01mlambda\u001b[39;00m x: mult_chance(x,lst2,\u001b[38;5;241m0.2\u001b[39m), axis\u001b[38;5;241m=\u001b[39m\u001b[38;5;241m1\u001b[39m)    \n\u001b[0;32m      6\u001b[0m \u001b[38;5;28;01mreturn\u001b[39;00m df\n",
      "\u001b[1;31mNameError\u001b[0m: name 'mult_chance' is not defined"
     ]
    }
   ],
   "source": [
    "tuple_lst = [\n",
    "    [2,2,1,1,1,1,1,1,1,1], # region 0 with region 1\n",
    "    [1,1,2,2,1,1,1,1,1,1], # region 2 with region 3\n",
    "    [1,1,1,1,2,2,1,1,1,1] # region 4 with region 5\n",
    "]\n",
    "\n",
    "df = gen_data2(tuple_lst,100)\n",
    "plot_corr_pcorr(df)"
   ]
  },
  {
   "cell_type": "code",
   "execution_count": null,
   "id": "98ca7286",
   "metadata": {},
   "outputs": [],
   "source": [
    "simulated_subjects = []\n",
    "\n",
    "while len(simulated_subjects) < 500:\n",
    "    df = gen_data(male_lst, 500)\n",
    "    c = df.corr()\n",
    "    p = df.pcorr()\n",
    "    #fc = apply_fisher(c)\n",
    "    #fpc = apply_fisher(p)\n",
    "    if (not positive_definite(c)) or (not positive_definite(p)):\n",
    "        continue\n",
    "    simulated_subjects += [('M',p)]\n",
    "while len(simulated_subjects) < 1000:\n",
    "    df = gen_data(female_lst, 1000)\n",
    "    c = df.corr()\n",
    "    p = df.pcorr()\n",
    "    #fc = apply_fisher(c)\n",
    "    #fpc = apply_fisher(p)\n",
    "    if (not positive_definite(c)) or (not positive_definite(p)):\n",
    "        continue\n",
    "    simulated_subjects += [('F',p)]\n",
    "random.shuffle(simulated_subjects)"
   ]
  },
  {
   "cell_type": "code",
   "execution_count": null,
   "id": "ada7fb5b",
   "metadata": {},
   "outputs": [],
   "source": [
    "len(simulated_subjects)"
   ]
  },
  {
   "cell_type": "code",
   "execution_count": 7,
   "id": "4f8a3bc8",
   "metadata": {},
   "outputs": [
    {
     "ename": "NameError",
     "evalue": "name 'simulated_subjects' is not defined",
     "output_type": "error",
     "traceback": [
      "\u001b[1;31m---------------------------------------------------------------------------\u001b[0m",
      "\u001b[1;31mNameError\u001b[0m                                 Traceback (most recent call last)",
      "Cell \u001b[1;32mIn[7], line 1\u001b[0m\n\u001b[1;32m----> 1\u001b[0m sims \u001b[38;5;241m=\u001b[39m pd\u001b[38;5;241m.\u001b[39mDataFrame(simulated_subjects)\n",
      "\u001b[1;31mNameError\u001b[0m: name 'simulated_subjects' is not defined"
     ]
    }
   ],
   "source": [
    "sims = pd.DataFrame(simulated_subjects)"
   ]
  },
  {
   "cell_type": "code",
   "execution_count": 295,
   "id": "a29e5375",
   "metadata": {},
   "outputs": [],
   "source": [
    "sims = sims.rename(columns={0:\"Gender\", 1:\"netmat\"})"
   ]
  },
  {
   "cell_type": "code",
   "execution_count": 296,
   "id": "529ec6e8",
   "metadata": {},
   "outputs": [],
   "source": [
    "sims['netmat'] = sims['netmat'].apply(lambda x: x.to_numpy())"
   ]
  },
  {
   "cell_type": "code",
   "execution_count": 297,
   "id": "e20c5a97",
   "metadata": {},
   "outputs": [
    {
     "data": {
      "text/html": [
       "<div>\n",
       "<style scoped>\n",
       "    .dataframe tbody tr th:only-of-type {\n",
       "        vertical-align: middle;\n",
       "    }\n",
       "\n",
       "    .dataframe tbody tr th {\n",
       "        vertical-align: top;\n",
       "    }\n",
       "\n",
       "    .dataframe thead th {\n",
       "        text-align: right;\n",
       "    }\n",
       "</style>\n",
       "<table border=\"1\" class=\"dataframe\">\n",
       "  <thead>\n",
       "    <tr style=\"text-align: right;\">\n",
       "      <th></th>\n",
       "      <th>Gender</th>\n",
       "      <th>netmat</th>\n",
       "    </tr>\n",
       "  </thead>\n",
       "  <tbody>\n",
       "    <tr>\n",
       "      <th>0</th>\n",
       "      <td>M</td>\n",
       "      <td>[[1.0, 0.41358447595129505, 0.2781694873406201...</td>\n",
       "    </tr>\n",
       "    <tr>\n",
       "      <th>1</th>\n",
       "      <td>M</td>\n",
       "      <td>[[1.0, 0.46905691340280786, 0.3159627955242864...</td>\n",
       "    </tr>\n",
       "    <tr>\n",
       "      <th>2</th>\n",
       "      <td>M</td>\n",
       "      <td>[[1.0, 0.474194214785042, 0.2471323535421181, ...</td>\n",
       "    </tr>\n",
       "    <tr>\n",
       "      <th>3</th>\n",
       "      <td>M</td>\n",
       "      <td>[[1.0, 0.5068351556267675, 0.26226550311048175...</td>\n",
       "    </tr>\n",
       "    <tr>\n",
       "      <th>4</th>\n",
       "      <td>F</td>\n",
       "      <td>[[1.0, -0.051239904907442686, 0.03466443086763...</td>\n",
       "    </tr>\n",
       "    <tr>\n",
       "      <th>...</th>\n",
       "      <td>...</td>\n",
       "      <td>...</td>\n",
       "    </tr>\n",
       "    <tr>\n",
       "      <th>995</th>\n",
       "      <td>M</td>\n",
       "      <td>[[1.0, 0.4457477836561637, 0.28313839893836096...</td>\n",
       "    </tr>\n",
       "    <tr>\n",
       "      <th>996</th>\n",
       "      <td>M</td>\n",
       "      <td>[[1.0, 0.4613933129349149, 0.3245980246137897,...</td>\n",
       "    </tr>\n",
       "    <tr>\n",
       "      <th>997</th>\n",
       "      <td>F</td>\n",
       "      <td>[[1.0, 0.02328027169890283, 0.0276815763559371...</td>\n",
       "    </tr>\n",
       "    <tr>\n",
       "      <th>998</th>\n",
       "      <td>M</td>\n",
       "      <td>[[1.0, 0.5269784528041882, 0.3095792071919142,...</td>\n",
       "    </tr>\n",
       "    <tr>\n",
       "      <th>999</th>\n",
       "      <td>F</td>\n",
       "      <td>[[1.0, -0.016923032551523807, -0.0141943353386...</td>\n",
       "    </tr>\n",
       "  </tbody>\n",
       "</table>\n",
       "<p>1000 rows × 2 columns</p>\n",
       "</div>"
      ],
      "text/plain": [
       "    Gender                                             netmat\n",
       "0        M  [[1.0, 0.41358447595129505, 0.2781694873406201...\n",
       "1        M  [[1.0, 0.46905691340280786, 0.3159627955242864...\n",
       "2        M  [[1.0, 0.474194214785042, 0.2471323535421181, ...\n",
       "3        M  [[1.0, 0.5068351556267675, 0.26226550311048175...\n",
       "4        F  [[1.0, -0.051239904907442686, 0.03466443086763...\n",
       "..     ...                                                ...\n",
       "995      M  [[1.0, 0.4457477836561637, 0.28313839893836096...\n",
       "996      M  [[1.0, 0.4613933129349149, 0.3245980246137897,...\n",
       "997      F  [[1.0, 0.02328027169890283, 0.0276815763559371...\n",
       "998      M  [[1.0, 0.5269784528041882, 0.3095792071919142,...\n",
       "999      F  [[1.0, -0.016923032551523807, -0.0141943353386...\n",
       "\n",
       "[1000 rows x 2 columns]"
      ]
     },
     "execution_count": 297,
     "metadata": {},
     "output_type": "execute_result"
    }
   ],
   "source": [
    "sims"
   ]
  },
  {
   "cell_type": "code",
   "execution_count": 298,
   "id": "091be780",
   "metadata": {},
   "outputs": [
    {
     "name": "stdout",
     "output_type": "stream",
     "text": [
      "M\n"
     ]
    },
    {
     "data": {
      "text/plain": [
       "<matplotlib.image.AxesImage at 0x15f14882650>"
      ]
     },
     "execution_count": 298,
     "metadata": {},
     "output_type": "execute_result"
    },
    {
     "data": {
      "image/png": "[encoded data removed]",
      "text/plain": [
       "<Figure size 640x480 with 1 Axes>"
      ]
     },
     "metadata": {},
     "output_type": "display_data"
    }
   ],
   "source": [
    "i = 0\n",
    "print(sims.iloc[i].Gender)\n",
    "plt.imshow(sims.iloc[i].netmat)"
   ]
  },
  {
   "cell_type": "code",
   "execution_count": 299,
   "id": "6553ce95",
   "metadata": {},
   "outputs": [],
   "source": [
    "#Create an undirected edge index from a partial correlation matrix\n",
    "def edge_gen_treshold(netmat, treshold):\n",
    "    mask = np.triu(abs(netmat) > treshold, k=1) # using only bottom triangle \n",
    "    edge_i = np.transpose(np.nonzero(mask))\n",
    "    return torch.tensor(edge_i.T)"
   ]
  },
  {
   "cell_type": "code",
   "execution_count": 300,
   "id": "103e7e19",
   "metadata": {},
   "outputs": [],
   "source": [
    "sims['Gender'] = sims[\"Gender\"].replace({\"M\":0, \"F\":1})\n",
    "netmats = sims.netmat\n",
    "labels = torch.tensor(sims.Gender.values)"
   ]
  },
  {
   "cell_type": "code",
   "execution_count": 301,
   "id": "02be255a",
   "metadata": {},
   "outputs": [],
   "source": [
    "def collate(data_list):\n",
    "    graphs, labels = map(list, zip(*data_list))\n",
    "    return {\n",
    "        'graph': graphs,\n",
    "        'label': labels\n",
    "    }\n",
    "\n",
    "# Custom dataset class\n",
    "class CorrelationDataset(torch.utils.data.Dataset):\n",
    "    def __init__(self, netmats, edges, labels, split_ratio=(0.8, 0.1, 0.1)):\n",
    "        self.netmats = netmats\n",
    "        self.labels = labels\n",
    "        self.edges = edges # premade edge_index\n",
    "        self.split_ratios = split_ratio\n",
    "        tot = len(self.netmats)\n",
    "        train_samples = int(split_ratio[0] * tot)\n",
    "        val_samples = int(split_ratio[1] * tot)\n",
    "        \n",
    "        # Splits\n",
    "        self.train_indices = list(range(0, train_samples))  # 0 - train_samples\n",
    "        self.val_indices = list(range(train_samples, train_samples + val_samples))\n",
    "        self.test_indices = list(range(train_samples + val_samples, tot))\n",
    "        \n",
    "    def __len__(self):\n",
    "        return len(self.netmats)\n",
    "\n",
    "    def __getitem__(self, idx):\n",
    "        nmap = torch.tensor(self.netmats.iloc[idx]).float()\n",
    "        edge_index = edge_gen_treshold(nmap, 0.1) #change edge treshhold here\n",
    "        graph_data = Data(x=nmap, edge_index=edge_index)\n",
    "        label = self.labels[idx]\n",
    "        return graph_data, label\n",
    "    \n",
    "    def get_split(self, idx):\n",
    "        if idx in self.train_indices:\n",
    "            return 'train'\n",
    "        elif idx in self.val_indices:\n",
    "            return 'val'\n",
    "        elif idx in self.test_indices:\n",
    "            return 'test'\n",
    "        else:\n",
    "            raise ValueError('Index not in any split')\n",
    "\n",
    "# Create the custom dataset\n",
    "edges = None # No preset\n",
    "collate_fn = collate\n",
    "dataset = CorrelationDataset(netmats, edges, labels, split_ratio=(0.8, 0.1, 0.1))\n",
    "train_loader = torch.utils.data.DataLoader(dataset, batch_size=1, sampler=SubsetRandomSampler(dataset.train_indices), collate_fn=collate_fn)\n",
    "val_loader = torch.utils.data.DataLoader(dataset, batch_size=1, sampler=SubsetRandomSampler(dataset.val_indices), collate_fn=collate_fn)\n",
    "test_loader = torch.utils.data.DataLoader(dataset, batch_size=1, sampler=SubsetRandomSampler(dataset.test_indices), collate_fn=collate_fn)"
   ]
  },
  {
   "cell_type": "code",
   "execution_count": 302,
   "id": "919a8200",
   "metadata": {},
   "outputs": [
    {
     "data": {
      "text/plain": [
       "{'graph': [Data(x=[10, 10], edge_index=[2, 6])], 'label': [tensor(1)]}"
      ]
     },
     "execution_count": 302,
     "metadata": {},
     "output_type": "execute_result"
    }
   ],
   "source": [
    "tester = iter(train_loader)\n",
    "next(tester)"
   ]
  },
  {
   "cell_type": "code",
   "execution_count": 303,
   "id": "576079f2",
   "metadata": {},
   "outputs": [],
   "source": [
    "class simGCNten(nn.Module):\n",
    "    def __init__(self,):\n",
    "        super(simGCNten, self).__init__()\n",
    "        self.conv1 = GCNConv(10, 20)\n",
    "        self.bn1 = nn.BatchNorm1d(20)\n",
    "        self.conv2 = GCNConv(20, 50)\n",
    "        self.bn2 = nn.BatchNorm1d(50)\n",
    "        self.classifier = Linear(50, 1)\n",
    "\n",
    "    def forward(self, data):\n",
    "        data = data['graph'][0]\n",
    "        x, edge_index = data.x, data.edge_index\n",
    "        x = self.conv1(x, edge_index)\n",
    "        x = self.bn1(x)\n",
    "        x = torch.tanh(x)\n",
    "        x = nn.Dropout(p=0.75)(x)\n",
    "        x = self.conv2(x, edge_index)\n",
    "        x = self.bn2(x)\n",
    "        x = torch.tanh(x)\n",
    "        x = nn.Dropout(p=0.75)(x)\n",
    "        x = self.classifier(x).mean(dim=0)\n",
    "        x = torch.sigmoid(x)\n",
    "        return x"
   ]
  },
  {
   "cell_type": "code",
   "execution_count": 304,
   "id": "4bfef158",
   "metadata": {},
   "outputs": [],
   "source": [
    "model = simGCNten()"
   ]
  },
  {
   "cell_type": "code",
   "execution_count": 305,
   "id": "6e50aa43",
   "metadata": {},
   "outputs": [
    {
     "data": {
      "text/plain": [
       "simGCNten(\n",
       "  (conv1): GCNConv(10, 20)\n",
       "  (bn1): BatchNorm1d(20, eps=1e-05, momentum=0.1, affine=True, track_running_stats=True)\n",
       "  (conv2): GCNConv(20, 50)\n",
       "  (bn2): BatchNorm1d(50, eps=1e-05, momentum=0.1, affine=True, track_running_stats=True)\n",
       "  (classifier): Linear(in_features=50, out_features=1, bias=True)\n",
       ")"
      ]
     },
     "execution_count": 305,
     "metadata": {},
     "output_type": "execute_result"
    }
   ],
   "source": [
    "model"
   ]
  },
  {
   "cell_type": "code",
   "execution_count": 306,
   "id": "bbba53c4",
   "metadata": {},
   "outputs": [],
   "source": [
    "criterion = nn.BCELoss()\n",
    "optimizer = torch.optim.Adam(model.parameters(), lr=0.1)"
   ]
  },
  {
   "cell_type": "code",
   "execution_count": 307,
   "id": "655f8b34",
   "metadata": {},
   "outputs": [
    {
     "data": {
      "text/plain": [
       "tensor([0.5514], grad_fn=<SigmoidBackward0>)"
      ]
     },
     "execution_count": 307,
     "metadata": {},
     "output_type": "execute_result"
    }
   ],
   "source": [
    "model(next(tester))"
   ]
  },
  {
   "cell_type": "code",
   "execution_count": 308,
   "id": "eead829e",
   "metadata": {},
   "outputs": [],
   "source": [
    "def train(model, data_loader, device, loss_fn, optimizer):\n",
    "    model.train()\n",
    "    total_loss = 0\n",
    "    num_true = 0\n",
    "    num_true_guesses = 0\n",
    "    for d in data_loader:\n",
    "        m = d['graph'][0]\n",
    "        m = m.to(device)\n",
    "        label = d['label'][0]\n",
    "        optimizer.zero_grad()\n",
    "        out = model(d).squeeze()\n",
    "        loss = loss_fn(out.float(), label.float())\n",
    "        loss.backward()\n",
    "        optimizer.step()\n",
    "        total_loss += loss.item()\n",
    "        pred = (out.double() > 0.5).float()\n",
    "        if pred == label.double():\n",
    "            num_true += 1\n",
    "        if pred == 1:\n",
    "            num_true_guesses += 1\n",
    "    return total_loss, num_true, num_true_guesses\n",
    "\n",
    "def eval(model, loader, device):\n",
    "    model.eval()\n",
    "    cor = 0\n",
    "    tot = 0\n",
    "    for d in loader:\n",
    "        with torch.no_grad():\n",
    "            out = model(d)\n",
    "            pred = (out.double() > 0.5).float()\n",
    "        y = d['label'][0]\n",
    "        cor += (pred == y).sum()\n",
    "        tot += pred.shape[0]\n",
    "    return cor/tot"
   ]
  },
  {
   "cell_type": "code",
   "execution_count": 309,
   "id": "a9bc3dd8",
   "metadata": {},
   "outputs": [
    {
     "name": "stdout",
     "output_type": "stream",
     "text": [
      "Epoch: 1/50, Loss: 241.09865857530167, Avg Loss: 0.301, Train: 98.88%, Validation: 98.00%, Num Correct: 702, True Guesses: 388 \n",
      "Epoch: 2/50, Loss: 91.80942526780609, Avg Loss: 0.115, Train: 98.75%, Validation: 100.00%, Num Correct: 771, True Guesses: 401 \n",
      "Epoch: 3/50, Loss: 103.23058910089587, Avg Loss: 0.129, Train: 98.12%, Validation: 98.00%, Num Correct: 768, True Guesses: 398 \n",
      "Epoch: 4/50, Loss: 75.70221490437483, Avg Loss: 0.095, Train: 97.25%, Validation: 99.00%, Num Correct: 771, True Guesses: 401 \n",
      "Epoch: 5/50, Loss: 50.08630337598194, Avg Loss: 0.063, Train: 98.50%, Validation: 98.00%, Num Correct: 782, True Guesses: 398 \n",
      "Epoch: 6/50, Loss: 58.654280194654085, Avg Loss: 0.073, Train: 98.25%, Validation: 100.00%, Num Correct: 777, True Guesses: 405 \n",
      "Epoch: 7/50, Loss: 62.37008355960098, Avg Loss: 0.078, Train: 99.12%, Validation: 100.00%, Num Correct: 779, True Guesses: 399 \n",
      "Epoch: 8/50, Loss: 44.45571970333896, Avg Loss: 0.056, Train: 96.00%, Validation: 98.00%, Num Correct: 781, True Guesses: 399 \n",
      "Epoch: 9/50, Loss: 36.62926151286143, Avg Loss: 0.046, Train: 98.50%, Validation: 99.00%, Num Correct: 788, True Guesses: 398 \n",
      "Epoch: 10/50, Loss: 42.130572173204264, Avg Loss: 0.053, Train: 99.38%, Validation: 100.00%, Num Correct: 782, True Guesses: 400 \n",
      "Epoch: 11/50, Loss: 45.12091992025378, Avg Loss: 0.056, Train: 99.38%, Validation: 99.00%, Num Correct: 783, True Guesses: 403 \n",
      "Epoch: 12/50, Loss: 22.898537713122423, Avg Loss: 0.029, Train: 99.38%, Validation: 98.00%, Num Correct: 793, True Guesses: 395 \n",
      "Epoch: 13/50, Loss: 42.51544739367809, Avg Loss: 0.053, Train: 98.75%, Validation: 100.00%, Num Correct: 789, True Guesses: 397 \n",
      "Epoch: 14/50, Loss: 62.6081226893103, Avg Loss: 0.078, Train: 97.88%, Validation: 98.00%, Num Correct: 776, True Guesses: 400 \n",
      "Epoch: 15/50, Loss: 52.65274595104014, Avg Loss: 0.066, Train: 98.00%, Validation: 98.00%, Num Correct: 778, True Guesses: 394 \n",
      "Epoch: 16/50, Loss: 49.00154705351525, Avg Loss: 0.061, Train: 94.62%, Validation: 92.00%, Num Correct: 787, True Guesses: 397 \n",
      "Epoch: 17/50, Loss: 40.60253090319742, Avg Loss: 0.051, Train: 97.38%, Validation: 97.00%, Num Correct: 786, True Guesses: 396 \n",
      "Epoch: 18/50, Loss: 34.26964524834239, Avg Loss: 0.043, Train: 99.25%, Validation: 100.00%, Num Correct: 786, True Guesses: 402 \n",
      "Epoch: 19/50, Loss: 45.63584705890038, Avg Loss: 0.057, Train: 97.00%, Validation: 98.00%, Num Correct: 785, True Guesses: 399 \n",
      "Epoch: 20/50, Loss: 18.120955687137805, Avg Loss: 0.023, Train: 99.50%, Validation: 100.00%, Num Correct: 792, True Guesses: 398 \n",
      "Epoch: 21/50, Loss: 22.2474053816943, Avg Loss: 0.028, Train: 98.88%, Validation: 99.00%, Num Correct: 794, True Guesses: 398 \n",
      "Epoch: 22/50, Loss: 39.734007812009935, Avg Loss: 0.050, Train: 97.62%, Validation: 97.00%, Num Correct: 785, True Guesses: 397 \n",
      "Epoch: 23/50, Loss: 47.33538438832516, Avg Loss: 0.059, Train: 98.88%, Validation: 100.00%, Num Correct: 784, True Guesses: 398 \n",
      "Epoch: 24/50, Loss: 44.7374873869558, Avg Loss: 0.056, Train: 98.88%, Validation: 100.00%, Num Correct: 789, True Guesses: 397 \n",
      "Epoch: 25/50, Loss: 27.096991780162657, Avg Loss: 0.034, Train: 99.50%, Validation: 99.00%, Num Correct: 789, True Guesses: 399 \n",
      "Epoch: 26/50, Loss: 34.59960283423197, Avg Loss: 0.043, Train: 99.38%, Validation: 99.00%, Num Correct: 786, True Guesses: 396 \n",
      "Epoch: 27/50, Loss: 20.799884670190504, Avg Loss: 0.026, Train: 99.50%, Validation: 100.00%, Num Correct: 790, True Guesses: 400 \n",
      "Epoch: 28/50, Loss: 19.61112226530439, Avg Loss: 0.025, Train: 96.88%, Validation: 93.00%, Num Correct: 794, True Guesses: 394 \n",
      "Epoch: 29/50, Loss: 12.46784665079241, Avg Loss: 0.016, Train: 96.88%, Validation: 100.00%, Num Correct: 794, True Guesses: 396 \n",
      "Epoch: 30/50, Loss: 25.316060873059666, Avg Loss: 0.032, Train: 97.62%, Validation: 98.00%, Num Correct: 786, True Guesses: 394 \n",
      "Epoch: 31/50, Loss: 20.832441900229288, Avg Loss: 0.026, Train: 97.50%, Validation: 100.00%, Num Correct: 789, True Guesses: 397 \n",
      "Epoch: 32/50, Loss: 15.40977857135108, Avg Loss: 0.019, Train: 97.62%, Validation: 98.00%, Num Correct: 794, True Guesses: 398 \n",
      "Epoch: 33/50, Loss: 22.043780783250266, Avg Loss: 0.028, Train: 98.50%, Validation: 99.00%, Num Correct: 794, True Guesses: 400 \n",
      "Epoch: 34/50, Loss: 28.479820367605548, Avg Loss: 0.036, Train: 98.75%, Validation: 98.00%, Num Correct: 791, True Guesses: 395 \n",
      "Epoch: 35/50, Loss: 26.19177511961719, Avg Loss: 0.033, Train: 99.50%, Validation: 100.00%, Num Correct: 791, True Guesses: 397 \n",
      "Epoch: 36/50, Loss: 32.083697033905395, Avg Loss: 0.040, Train: 96.75%, Validation: 98.00%, Num Correct: 790, True Guesses: 396 \n",
      "Epoch: 37/50, Loss: 20.516216034525492, Avg Loss: 0.026, Train: 99.00%, Validation: 99.00%, Num Correct: 794, True Guesses: 394 \n",
      "Epoch: 38/50, Loss: 31.154326625422144, Avg Loss: 0.039, Train: 99.25%, Validation: 100.00%, Num Correct: 791, True Guesses: 399 \n",
      "Epoch: 39/50, Loss: 32.79903032971405, Avg Loss: 0.041, Train: 99.50%, Validation: 100.00%, Num Correct: 785, True Guesses: 399 \n",
      "Epoch: 40/50, Loss: 18.508146485558164, Avg Loss: 0.023, Train: 98.25%, Validation: 99.00%, Num Correct: 795, True Guesses: 395 \n",
      "Epoch: 41/50, Loss: 30.007701742596833, Avg Loss: 0.038, Train: 98.62%, Validation: 98.00%, Num Correct: 792, True Guesses: 394 \n",
      "Epoch: 42/50, Loss: 23.841586896813013, Avg Loss: 0.030, Train: 99.12%, Validation: 96.00%, Num Correct: 788, True Guesses: 398 \n",
      "Epoch: 43/50, Loss: 18.11452806674668, Avg Loss: 0.023, Train: 98.62%, Validation: 99.00%, Num Correct: 794, True Guesses: 394 \n",
      "Epoch: 44/50, Loss: 33.68653414300326, Avg Loss: 0.042, Train: 99.38%, Validation: 99.00%, Num Correct: 790, True Guesses: 398 \n",
      "Epoch: 45/50, Loss: 34.06627944192313, Avg Loss: 0.043, Train: 98.88%, Validation: 99.00%, Num Correct: 791, True Guesses: 395 \n",
      "Epoch: 46/50, Loss: 39.93093099240542, Avg Loss: 0.050, Train: 96.75%, Validation: 97.00%, Num Correct: 788, True Guesses: 394 \n",
      "Epoch: 47/50, Loss: 28.977244620759397, Avg Loss: 0.036, Train: 98.62%, Validation: 98.00%, Num Correct: 788, True Guesses: 404 \n",
      "Epoch: 48/50, Loss: 16.489263238019987, Avg Loss: 0.021, Train: 99.50%, Validation: 99.00%, Num Correct: 793, True Guesses: 397 \n",
      "Epoch: 49/50, Loss: 14.380256086610279, Avg Loss: 0.018, Train: 99.12%, Validation: 100.00%, Num Correct: 796, True Guesses: 396 \n",
      "Epoch: 50/50, Loss: 28.56650152892249, Avg Loss: 0.036, Train: 99.38%, Validation: 99.00%, Num Correct: 790, True Guesses: 396 \n"
     ]
    },
    {
     "data": {
      "image/png": "[encoded data removed]",
      "text/plain": [
       "<Figure size 640x480 with 1 Axes>"
      ]
     },
     "metadata": {},
     "output_type": "display_data"
    }
   ],
   "source": [
    "device = torch.device(\"cuda\" if torch.cuda.is_available() else \"cpu\")\n",
    "\n",
    "model = simGCNten().to(device)\n",
    "\n",
    "optimizer = torch.optim.Adam(model.parameters(), lr=0.01)\n",
    "criterion = nn.BCELoss()\n",
    "losses = []\n",
    "\n",
    "num_epochs = 50\n",
    "for epoch in range(num_epochs):\n",
    "    loss, num_true, num_true_guesses = train(model, train_loader, device, criterion, optimizer)\n",
    "    train_results = eval(model, train_loader, device)\n",
    "    val_results = eval(model, val_loader, device)\n",
    "    losses.append(loss)\n",
    "    avg_loss = loss / len(train_loader)\n",
    "    print(f'Epoch: {epoch + 1}/{num_epochs}, '\n",
    "          f'Loss: {loss}, '\n",
    "          f'Avg Loss: {avg_loss:.3f}, '\n",
    "          f'Train: {100 * train_results:.2f}%, '\n",
    "          f'Validation: {100 * val_results:.2f}%, '\n",
    "          f'Num Correct: {num_true}, '\n",
    "          f'True Guesses: {num_true_guesses} ')\n",
    "    \n",
    "    \n",
    "plt.plot(losses)\n",
    "plt.show()"
   ]
  },
  {
   "cell_type": "code",
   "execution_count": null,
   "id": "a3db96d7",
   "metadata": {},
   "outputs": [],
   "source": []
  },
  {
   "cell_type": "code",
   "execution_count": null,
   "id": "9704bde9",
   "metadata": {},
   "outputs": [],
   "source": []
  }
 ],
 "metadata": {
  "kernelspec": {
   "display_name": "Python 3 (ipykernel)",
   "language": "python",
   "name": "python3"
  },
  "language_info": {
   "codemirror_mode": {
    "name": "ipython",
    "version": 3
   },
   "file_extension": ".py",
   "mimetype": "text/x-python",
   "name": "python",
   "nbconvert_exporter": "python",
   "pygments_lexer": "ipython3",
   "version": "3.11.2"
  }
 },
 "nbformat": 4,
 "nbformat_minor": 5
}
