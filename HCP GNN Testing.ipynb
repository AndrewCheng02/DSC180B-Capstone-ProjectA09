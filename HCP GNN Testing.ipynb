{
 "cells": [
  {
   "cell_type": "code",
   "execution_count": 4,
   "metadata": {},
   "outputs": [],
   "source": [
    "# #Imports\n",
    "# #Dataprep\n",
    "# import matplotlib.pyplot as plt\n",
    "# import numpy as np\n",
    "# from nilearn import datasets, plotting, image\n",
    "# from nilearn.maskers import NiftiMapsMasker\n",
    "# from sklearn.decomposition import FastICA\n",
    "# import pandas as pd\n",
    "# import tarfile\n",
    "# import gzip\n",
    "# #sim required\n",
    "# import random\n",
    "# import pingouin as pg\n",
    "# import seaborn as sns\n",
    "# #GNN required\n",
    "# import torch\n",
    "# import torch.nn.functional as F\n",
    "# from torch.nn import Linear\n",
    "# import torch.nn as nn\n",
    "# import torch_geometric\n",
    "# from torch_geometric.nn import GCNConv\n",
    "# from torch_geometric.nn import SAGEConv\n",
    "# from torch_geometric.nn import GraphConv\n",
    "# from torch_geometric.data import Data\n",
    "# from torch_geometric.loader import DataLoader\n",
    "# from torch.utils.data import SubsetRandomSampler\n",
    "# from sklearn.metrics import accuracy_score"
   ]
  },
  {
   "cell_type": "markdown",
   "metadata": {},
   "source": [
    "# STEP 1. Input Data Selection"
   ]
  },
  {
   "cell_type": "markdown",
   "metadata": {},
   "source": [
    "**Deliverables:**  \n",
    "**Goal**: Create different sub-graphs two decrease training times and aid in overall interpretability of GNN performance\n",
    "\n",
    "**Sub-graph Types**\n",
    "1. Significant Regions [alpha] \n",
    "2. Significant Regions [bonferroni-corrected] \n",
    "3. Graph Sampling [GRAPHSaint]"
   ]
  },
  {
   "cell_type": "code",
   "execution_count": 2,
   "metadata": {},
   "outputs": [],
   "source": [
    "# imports for this section\n",
    "from ast import literal_eval\n",
    "import re\n",
    "import gzip\n",
    "import pandas as pd\n",
    "import numpy as np"
   ]
  },
  {
   "cell_type": "code",
   "execution_count": 4,
   "metadata": {},
   "outputs": [
    {
     "data": {
      "text/html": [
       "<div>\n",
       "<style scoped>\n",
       "    .dataframe tbody tr th:only-of-type {\n",
       "        vertical-align: middle;\n",
       "    }\n",
       "\n",
       "    .dataframe tbody tr th {\n",
       "        vertical-align: top;\n",
       "    }\n",
       "\n",
       "    .dataframe thead th {\n",
       "        text-align: right;\n",
       "    }\n",
       "</style>\n",
       "<table border=\"1\" class=\"dataframe\">\n",
       "  <thead>\n",
       "    <tr style=\"text-align: right;\">\n",
       "      <th></th>\n",
       "      <th>Gender</th>\n",
       "      <th>Age</th>\n",
       "      <th>netmat</th>\n",
       "    </tr>\n",
       "    <tr>\n",
       "      <th>subject_id</th>\n",
       "      <th></th>\n",
       "      <th></th>\n",
       "      <th></th>\n",
       "    </tr>\n",
       "  </thead>\n",
       "  <tbody>\n",
       "    <tr>\n",
       "      <th>100206</th>\n",
       "      <td>M</td>\n",
       "      <td>26-30</td>\n",
       "      <td>[[0.0, 0.61676, 9.5727, -5.4959, 0.34639, 3.00...</td>\n",
       "    </tr>\n",
       "    <tr>\n",
       "      <th>100307</th>\n",
       "      <td>F</td>\n",
       "      <td>26-30</td>\n",
       "      <td>[[0.0, -0.29664, 17.317, -9.0467, -0.28723, 1....</td>\n",
       "    </tr>\n",
       "    <tr>\n",
       "      <th>100408</th>\n",
       "      <td>M</td>\n",
       "      <td>31-35</td>\n",
       "      <td>[[0.0, 1.6486, 6.6189, -8.8877, 1.4337, 1.006,...</td>\n",
       "    </tr>\n",
       "    <tr>\n",
       "      <th>100610</th>\n",
       "      <td>M</td>\n",
       "      <td>26-30</td>\n",
       "      <td>[[0.0, -0.90275, 7.7215, -8.3907, 3.3144, 2.93...</td>\n",
       "    </tr>\n",
       "    <tr>\n",
       "      <th>101006</th>\n",
       "      <td>F</td>\n",
       "      <td>31-35</td>\n",
       "      <td>[[0.0, -0.088768, 9.4979, -10.412, 1.0646, 4.3...</td>\n",
       "    </tr>\n",
       "  </tbody>\n",
       "</table>\n",
       "</div>"
      ],
      "text/plain": [
       "           Gender    Age                                             netmat\n",
       "subject_id                                                                 \n",
       "100206          M  26-30  [[0.0, 0.61676, 9.5727, -5.4959, 0.34639, 3.00...\n",
       "100307          F  26-30  [[0.0, -0.29664, 17.317, -9.0467, -0.28723, 1....\n",
       "100408          M  31-35  [[0.0, 1.6486, 6.6189, -8.8877, 1.4337, 1.006,...\n",
       "100610          M  26-30  [[0.0, -0.90275, 7.7215, -8.3907, 3.3144, 2.93...\n",
       "101006          F  31-35  [[0.0, -0.088768, 9.4979, -10.412, 1.0646, 4.3..."
      ]
     },
     "execution_count": 4,
     "metadata": {},
     "output_type": "execute_result"
    }
   ],
   "source": [
    "data_file = 'Data/data_clean.csv.gz'\n",
    "\n",
    "with gzip.open(data_file) as filepath:\n",
    "    data = pd.read_csv(filepath, index_col = 'subject_id', \n",
    "            converters = {'netmat' : lambda x : np.array(literal_eval(re.sub('(?<!\\[)\\s+|[\\\\n]', ', ', x)))})\n",
    "    \n",
    "data.head()"
   ]
  },
  {
   "cell_type": "code",
   "execution_count": 32,
   "metadata": {},
   "outputs": [],
   "source": [
    "sig_edges = np.genfromtxt('significant_edges.csv', delimiter=',')"
   ]
  },
  {
   "cell_type": "code",
   "execution_count": 33,
   "metadata": {},
   "outputs": [],
   "source": [
    "# full dataset\n",
    "graphs = np.stack(data.netmat.to_numpy()) # all 1003 correlation matrices\n",
    "# # significant edges\n",
    "# graphs_sig = graphs[:, :, []]\n",
    "# # bonferroni significant edges\n",
    "# graphs_sig_b = \n",
    "# sig_edges = np.genfromtxt('significant_edges.csv', delimiter=',')"
   ]
  },
  {
   "cell_type": "code",
   "execution_count": 20,
   "metadata": {},
   "outputs": [
    {
     "name": "stdout",
     "output_type": "stream",
     "text": [
      "First lists:\n",
      "[[ 1  4  7]\n",
      " [10 13 16]\n",
      " [19 22 25]]\n",
      "\n",
      "Second lists:\n",
      "[[ 2  5  8]\n",
      " [11 14 17]\n",
      " [20 23 26]]\n",
      "\n",
      "Third lists:\n",
      "[[ 3  6  9]\n",
      " [12 15 18]\n",
      " [21 24 27]]\n"
     ]
    }
   ],
   "source": [
    "# Example: Create a NumPy array of nested NumPy arrays with nested lists\n",
    "nested_arrays = np.array([\n",
    "    np.array([[1, 2, 3], [4, 5, 6], [7, 8, 9]]),\n",
    "    np.array([[10, 11, 12], [13, 14, 15], [16, 17, 18]]),\n",
    "    np.array([[19, 20, 21], [22, 23, 24], [25, 26, 27]])\n",
    "])\n",
    "\n",
    "# Indexing the lists for each nested NumPy array\n",
    "first_list = nested_arrays[:, :, 0]\n",
    "second_list = nested_arrays[:, :, 1]\n",
    "third_list = nested_arrays[:, :, 2]\n",
    "\n",
    "print(\"First lists:\")\n",
    "print(first_list)\n",
    "print(\"\\nSecond lists:\")\n",
    "print(second_list)\n",
    "print(\"\\nThird lists:\")\n",
    "print(third_list)"
   ]
  },
  {
   "cell_type": "code",
   "execution_count": null,
   "metadata": {},
   "outputs": [],
   "source": [
    "# STEPS:\n",
    "\n",
    "# STEP 1: INPUT DATA TYPES\n",
    "# -> FILTERING\n",
    "# 1. Sig Regions [alpha] \n",
    "# 2. Sig Regions [bonferroni-corrected] \n",
    "# 3. Graph Sampling [GRAPHSaint]"
   ]
  },
  {
   "cell_type": "code",
   "execution_count": 3,
   "metadata": {},
   "outputs": [],
   "source": [
    "# STEP 2: MODEL DEVELOPMENT - VIEW EMBEDDING SPACES BEFORE TRAINING\n",
    "# STEP 3: MODEL SELECTION/FEATURE SELECTION\n",
    "# we will test many different combinations of inputs and architectures\n",
    "# INPUT TYPES\n",
    "# 1. 10 regions [450 male subjects, 550 female subjects (1000 total netmats)]\n",
    "# 2. 20 regions [450 male subjects, 550 female subjects (1000 total netmats)]\n",
    "# 3. 50 regions [450 male subjects, 550 female subjects (1000 total netmats)]\n",
    "# 4. 100 regions [450 male subjects, 550 female subjects (1000 total netmats)]\n",
    "#\n",
    "# ARCHITECTURE TYPES:\n",
    "# -> layers\n",
    "# 1. 1-layer\n",
    "# 2. 2-layer\n",
    "# 3. 3-layer\n",
    "# 4. 4-layer\n",
    "# -> squishificaton function (mapping to [-1,1])\n",
    "# 1. tanh\n",
    "# 2. ReLu\n",
    "# 3. sigmoid\n",
    "# -> embedding space dimension:\n",
    "# 1. 50\n",
    "# 2. 100\n",
    "# 3. 200"
   ]
  }
 ],
 "metadata": {
  "kernelspec": {
   "display_name": "Python 3",
   "language": "python",
   "name": "python3"
  },
  "language_info": {
   "codemirror_mode": {
    "name": "ipython",
    "version": 3
   },
   "file_extension": ".py",
   "mimetype": "text/x-python",
   "name": "python",
   "nbconvert_exporter": "python",
   "pygments_lexer": "ipython3",
   "version": "3.9.0"
  }
 },
 "nbformat": 4,
 "nbformat_minor": 2
}
