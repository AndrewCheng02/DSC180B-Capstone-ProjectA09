{
 "cells": [
  {
   "cell_type": "code",
   "execution_count": 1,
   "metadata": {},
   "outputs": [],
   "source": [
    "# #Imports\n",
    "# #Dataprep\n",
    "# import matplotlib.pyplot as plt\n",
    "# import numpy as np\n",
    "# from nilearn import datasets, plotting, image\n",
    "# from nilearn.maskers import NiftiMapsMasker\n",
    "# from sklearn.decomposition import FastICA\n",
    "# import pandas as pd\n",
    "# import tarfile\n",
    "# import gzip\n",
    "# #sim required\n",
    "# import random\n",
    "# import pingouin as pg\n",
    "# import seaborn as sns\n",
    "# #GNN required\n",
    "# import torch\n",
    "# import torch.nn.functional as F\n",
    "# from torch.nn import Linear\n",
    "# import torch.nn as nn\n",
    "# import torch_geometric\n",
    "# from torch_geometric.nn import GCNConv\n",
    "# from torch_geometric.nn import SAGEConv\n",
    "# from torch_geometric.nn import GraphConv\n",
    "# from torch_geometric.data import Data\n",
    "# from torch_geometric.loader import DataLoader\n",
    "# from torch.utils.data import SubsetRandomSampler\n",
    "# from sklearn.metrics import accuracy_score"
   ]
  },
  {
   "cell_type": "markdown",
   "metadata": {},
   "source": [
    "# STEP 1. Input Data Selection"
   ]
  },
  {
   "cell_type": "markdown",
   "metadata": {},
   "source": [
    "**Deliverables:**  \n",
    "**Goal**: Create different sub-graphs two decrease training times and aid in overall interpretability of GNN performance\n",
    "\n",
    "**Sub-graph Types**\n",
    "1. Significant Regions [alpha] \n",
    "2. Significant Regions [bonferroni-corrected] \n",
    "3. Graph Sampling [GRAPHSaint]"
   ]
  },
  {
   "cell_type": "code",
   "execution_count": 2,
   "metadata": {},
   "outputs": [
    {
     "name": "stderr",
     "output_type": "stream",
     "text": [
      "C:\\Users\\Jense\\AppData\\Local\\Temp\\ipykernel_8820\\2238771519.py:5: DeprecationWarning: \n",
      "Pyarrow will become a required dependency of pandas in the next major release of pandas (pandas 3.0),\n",
      "(to allow more performant data types, such as the Arrow string type, and better interoperability with other libraries)\n",
      "but was not found to be installed on your system.\n",
      "If this would cause problems for you,\n",
      "please provide us feedback at https://github.com/pandas-dev/pandas/issues/54466\n",
      "        \n",
      "  import pandas as pd\n"
     ]
    }
   ],
   "source": [
    "# imports for this section\n",
    "from ast import literal_eval\n",
    "import re\n",
    "import gzip\n",
    "import pandas as pd\n",
    "import numpy as np\n",
    "import torch"
   ]
  },
  {
   "cell_type": "markdown",
   "metadata": {
    "jp-MarkdownHeadingCollapsed": true
   },
   "source": [
    "## I. Read in the HCP data"
   ]
  },
  {
   "cell_type": "code",
   "execution_count": 3,
   "metadata": {
    "scrolled": true
   },
   "outputs": [
    {
     "data": {
      "text/html": [
       "<div>\n",
       "<style scoped>\n",
       "    .dataframe tbody tr th:only-of-type {\n",
       "        vertical-align: middle;\n",
       "    }\n",
       "\n",
       "    .dataframe tbody tr th {\n",
       "        vertical-align: top;\n",
       "    }\n",
       "\n",
       "    .dataframe thead th {\n",
       "        text-align: right;\n",
       "    }\n",
       "</style>\n",
       "<table border=\"1\" class=\"dataframe\">\n",
       "  <thead>\n",
       "    <tr style=\"text-align: right;\">\n",
       "      <th></th>\n",
       "      <th>Gender</th>\n",
       "      <th>Age</th>\n",
       "      <th>netmat</th>\n",
       "    </tr>\n",
       "    <tr>\n",
       "      <th>subject_id</th>\n",
       "      <th></th>\n",
       "      <th></th>\n",
       "      <th></th>\n",
       "    </tr>\n",
       "  </thead>\n",
       "  <tbody>\n",
       "    <tr>\n",
       "      <th>100206</th>\n",
       "      <td>M</td>\n",
       "      <td>26-30</td>\n",
       "      <td>[[0.0, 0.61676, 9.5727, -5.4959, 0.34639, 3.00...</td>\n",
       "    </tr>\n",
       "    <tr>\n",
       "      <th>100307</th>\n",
       "      <td>F</td>\n",
       "      <td>26-30</td>\n",
       "      <td>[[0.0, -0.29664, 17.317, -9.0467, -0.28723, 1....</td>\n",
       "    </tr>\n",
       "    <tr>\n",
       "      <th>100408</th>\n",
       "      <td>M</td>\n",
       "      <td>31-35</td>\n",
       "      <td>[[0.0, 1.6486, 6.6189, -8.8877, 1.4337, 1.006,...</td>\n",
       "    </tr>\n",
       "    <tr>\n",
       "      <th>100610</th>\n",
       "      <td>M</td>\n",
       "      <td>26-30</td>\n",
       "      <td>[[0.0, -0.90275, 7.7215, -8.3907, 3.3144, 2.93...</td>\n",
       "    </tr>\n",
       "    <tr>\n",
       "      <th>101006</th>\n",
       "      <td>F</td>\n",
       "      <td>31-35</td>\n",
       "      <td>[[0.0, -0.088768, 9.4979, -10.412, 1.0646, 4.3...</td>\n",
       "    </tr>\n",
       "  </tbody>\n",
       "</table>\n",
       "</div>"
      ],
      "text/plain": [
       "           Gender    Age                                             netmat\n",
       "subject_id                                                                 \n",
       "100206          M  26-30  [[0.0, 0.61676, 9.5727, -5.4959, 0.34639, 3.00...\n",
       "100307          F  26-30  [[0.0, -0.29664, 17.317, -9.0467, -0.28723, 1....\n",
       "100408          M  31-35  [[0.0, 1.6486, 6.6189, -8.8877, 1.4337, 1.006,...\n",
       "100610          M  26-30  [[0.0, -0.90275, 7.7215, -8.3907, 3.3144, 2.93...\n",
       "101006          F  31-35  [[0.0, -0.088768, 9.4979, -10.412, 1.0646, 4.3..."
      ]
     },
     "execution_count": 3,
     "metadata": {},
     "output_type": "execute_result"
    }
   ],
   "source": [
    "data_file = 'Data/data_clean.csv.gz'\n",
    "\n",
    "with gzip.open(data_file) as filepath:\n",
    "    data = pd.read_csv(filepath, index_col = 'subject_id', \n",
    "            converters = {'netmat' : lambda x : np.array(literal_eval(re.sub('(?<!\\[)\\s+|[\\\\n]', ', ', x)))})\n",
    "    \n",
    "data.head()"
   ]
  },
  {
   "cell_type": "markdown",
   "metadata": {},
   "source": [
    "## II. Get the input subgraphs"
   ]
  },
  {
   "cell_type": "code",
   "execution_count": 4,
   "metadata": {},
   "outputs": [],
   "source": [
    "# STEP 1: INPUT DATA TYPES\n",
    "# -> FILTERING\n",
    "# 1. Sig Regions [alpha] \n",
    "# 2. Sig Regions [bonferroni-corrected] \n",
    "# 3. Graph Sampling [GRAPHSaint]"
   ]
  },
  {
   "cell_type": "code",
   "execution_count": 5,
   "metadata": {},
   "outputs": [
    {
     "name": "stdout",
     "output_type": "stream",
     "text": [
      "CPU times: total: 281 ms\n",
      "Wall time: 276 ms\n"
     ]
    }
   ],
   "source": [
    "%%time\n",
    "# full dataset\n",
    "graphs = np.stack(data.netmat.to_numpy()) # all 1003 correlation matrices\n",
    "edges = np.argwhere(graphs)\n",
    "# significant edges\n",
    "edges_sig = np.triu(np.genfromtxt('significant_edges.csv', delimiter=',')) # only keep unique edges\n",
    "graphs_sig = np.where(edges_sig, graphs, 0) # only keep significant correlations\n",
    "# bonferroni significant edges\n",
    "edges_sig_b = np.triu(np.genfromtxt('bonferroni_sig_edges.csv', delimiter=',')) # only keep unique edges\n",
    "graphs_sig_b = np.where(edges_sig, graphs, 0)# only keep significant correlations"
   ]
  },
  {
   "cell_type": "code",
   "execution_count": 6,
   "metadata": {},
   "outputs": [],
   "source": [
    "# get edges into correct format for later\n",
    "edges_sig = torch.tensor(np.argwhere(edges_sig).T)\n",
    "edges_sig_b = torch.tensor(np.argwhere(edges_sig_b).T)"
   ]
  },
  {
   "cell_type": "code",
   "execution_count": 7,
   "metadata": {
    "scrolled": true
   },
   "outputs": [
    {
     "name": "stderr",
     "output_type": "stream",
     "text": [
      "C:\\Users\\Jense\\AppData\\Local\\Temp\\ipykernel_8820\\1997748793.py:2: FutureWarning: Downcasting behavior in `replace` is deprecated and will be removed in a future version. To retain the old behavior, explicitly call `result.infer_objects(copy=False)`. To opt-in to the future behavior, set `pd.set_option('future.no_silent_downcasting', True)`\n",
      "  data['Gender'] = data['Gender'].replace({\"M\":0, \"F\":1})\n"
     ]
    }
   ],
   "source": [
    "# labels\n",
    "data['Gender'] = data['Gender'].replace({\"M\":0, \"F\":1})\n",
    "labels = torch.tensor(data['Gender'].values)"
   ]
  },
  {
   "cell_type": "code",
   "execution_count": 8,
   "metadata": {},
   "outputs": [
    {
     "data": {
      "text/plain": [
       "tensor([0, 1, 0,  ..., 1, 0, 1])"
      ]
     },
     "execution_count": 8,
     "metadata": {},
     "output_type": "execute_result"
    }
   ],
   "source": [
    "labels"
   ]
  },
  {
   "cell_type": "markdown",
   "metadata": {},
   "source": [
    "## III. Train-Validate-Test split"
   ]
  },
  {
   "cell_type": "code",
   "execution_count": 9,
   "metadata": {},
   "outputs": [],
   "source": [
    "# imports for this section\n",
    "import torch.nn.functional as F\n",
    "from torch.nn import Linear\n",
    "import torch.nn as nn\n",
    "import torch_geometric\n",
    "from torch_geometric.nn import GCNConv\n",
    "from torch_geometric.nn import SAGEConv\n",
    "from torch_geometric.nn import GraphConv\n",
    "from torch_geometric.data import Data\n",
    "from torch_geometric.loader import DataLoader\n",
    "from torch.utils.data import SubsetRandomSampler\n",
    "from sklearn.metrics import accuracy_score"
   ]
  },
  {
   "cell_type": "code",
   "execution_count": 10,
   "metadata": {},
   "outputs": [],
   "source": [
    "def collate(data_list):\n",
    "    \"\"\"\n",
    "    Unpacks graphs and their corresponding labels from a list of tuples.\n",
    "\n",
    "    Parameters:\n",
    "    - data_list (list of tuples): A list where each tuple contains a graph and its corresponding label.\n",
    "\n",
    "    Returns:\n",
    "    A dictionary with the following keys:\n",
    "    - 'graph' (list): A list containing all the graphs extracted from the tuples.\n",
    "    - 'label' (list): A list containing all the labels extracted from the tuples.\n",
    "    \"\"\"\n",
    "    graphs, labels = map(list, zip(*data_list))\n",
    "    return {\n",
    "        'graph': graphs,\n",
    "        'label': labels\n",
    "    }\n",
    " "
   ]
  },
  {
   "cell_type": "code",
   "execution_count": 11,
   "metadata": {},
   "outputs": [],
   "source": [
    "class CorrelationDataset(torch.utils.data.Dataset):\n",
    "    def __init__(self, netmats, edges, labels, split_ratio=(0.8, 0.1, 0.1)):\n",
    "        \"\"\"\n",
    "        Initializes the dataset with pairwise correlation matrices, labels, and edges.\n",
    "    \n",
    "        Parameters:\n",
    "        - netmats (array-like): Pairwise correlation matrices.\n",
    "        - edges (array-like): Regions that make up each pairwise correlation from `netmats`.\n",
    "        - labels (array-like): Labels indicating gender (0 for male, 1 for female).\n",
    "        - split_ratio (tuple): Ratios for splitting the data into train, validation, and test sets. Default is (0.8, 0.1, 0.1).\n",
    "    \n",
    "        Splits the data into training, validation, and test sets based on the specified split ratios.\n",
    "        \"\"\"\n",
    "        self.netmats = netmats # pairwise correlation matrix\n",
    "        self.labels = labels # female (1) or male (0)\n",
    "        self.edges = edges # regions that make up each pairwise correlation from `netmats`\n",
    "        self.split_ratios = split_ratio\n",
    "        tot = len(self.netmats)\n",
    "        train_samples = int(split_ratio[0] * tot) # 0.8\n",
    "        val_samples = int(split_ratio[1] * tot) # 0.1\n",
    "\n",
    "        # splitting the data\n",
    "        self.train_indices = np.arange(0, train_samples) # training data\n",
    "        self.val_indices = np.arange(train_samples, train_samples + val_samples) # validation data\n",
    "        self.test_indices = np.arange(train_samples + val_samples, tot) # test data\n",
    "\n",
    "    def __len__(self):\n",
    "        \"\"\"\n",
    "        Returns the length of entire dataset (train + validate + test)\n",
    "        \"\"\"\n",
    "        return len(self.netmats)\n",
    "\n",
    "    def __getitem__(self, idx):\n",
    "        \"\"\"\n",
    "        Retrieves the data and label corresponding to the given index.\n",
    "    \n",
    "        Parameters:\n",
    "        - idx (int): Index of the data sample to retrieve.\n",
    "    \n",
    "        Returns:\n",
    "        - graph_data (torch_geometric.data.Data): Graph data containing the correlation matrix and edge indices.\n",
    "        - label (int): Label indicating the gender (0 for male, 1 for female) of the corresponding data sample.\n",
    "        \"\"\"\n",
    "        x = torch.tensor(self.netmats[idx]).float() # correlation matrix\n",
    "        edge_index = self.edges # dependent on input subgraph\n",
    "        graph_data = Data(x=x, edge_index=edge_index) \n",
    "        label = self.labels[idx]\n",
    "        return graph_data, label\n",
    "\n",
    "    def get_split(self, idx):\n",
    "        \"\"\"\n",
    "        Determines the split of a data sample based on its index.\n",
    "    \n",
    "        Parameters:\n",
    "        - idx (int): Index of the data sample.\n",
    "    \n",
    "        Returns:\n",
    "        - split (str): The split of the data sample ('train', 'val', or 'test').\n",
    "    \n",
    "        Raises:\n",
    "        - ValueError: If the index is not found in any of the splits.\n",
    "        \"\"\"\n",
    "        if idx in self.train_indices:\n",
    "            return 'train'\n",
    "        elif idx in self.val_indices:\n",
    "            return 'val'\n",
    "        elif idx in self.test_indices:\n",
    "            return 'test'\n",
    "        else:\n",
    "            raise ValueError('Index not in any split')"
   ]
  },
  {
   "cell_type": "code",
   "execution_count": 12,
   "metadata": {},
   "outputs": [],
   "source": [
    "def create_dataset(netmats, edges, labels=labels, collate_fn=collate):\n",
    "    \"\"\"\n",
    "    Creates a dataset and corresponding data loaders for training, validation, and testing.\n",
    "\n",
    "    Parameters:\n",
    "    - netmats (array-like): Pairwise correlation matrices.\n",
    "    - edges (array-like): Regions that make up each pairwise correlation from `netmats`.\n",
    "    - labels (array-like): Labels indicating gender (0 for male, 1 for female).\n",
    "    - collate_fn (function, optional): Function to collate data samples into batches. Default is `collate`.\n",
    "\n",
    "    Returns:\n",
    "    A dictionary containing the following keys:\n",
    "    - 'dataset' (CorrelationDataset): The created dataset.\n",
    "    - 'train_loader' (torch.utils.data.DataLoader): DataLoader for training data.\n",
    "    - 'validate_loader' (torch.utils.data.DataLoader): DataLoader for validation data.\n",
    "    - 'test_loader' (torch.utils.data.DataLoader): DataLoader for test data.\n",
    "    \"\"\"\n",
    "    dataset = CorrelationDataset(netmats, edges, labels, split_ratio=(0.8, 0.1, 0.1))\n",
    "    train_loader = torch.utils.data.DataLoader(dataset, batch_size=1, sampler=SubsetRandomSampler(dataset.train_indices), collate_fn=collate_fn)\n",
    "    val_loader = torch.utils.data.DataLoader(dataset, batch_size=1, sampler=SubsetRandomSampler(dataset.val_indices), collate_fn=collate_fn)\n",
    "    test_loader = torch.utils.data.DataLoader(dataset, batch_size=1, sampler=SubsetRandomSampler(dataset.test_indices), collate_fn=collate_fn)\n",
    "    return {\n",
    "        'dataset': dataset,\n",
    "        'train_loader': train_loader,\n",
    "        'val_loader': val_loader,\n",
    "        'test_loader': test_loader\n",
    "    }"
   ]
  },
  {
   "cell_type": "code",
   "execution_count": 13,
   "metadata": {},
   "outputs": [
    {
     "name": "stdout",
     "output_type": "stream",
     "text": [
      "CPU times: total: 0 ns\n",
      "Wall time: 0 ns\n"
     ]
    }
   ],
   "source": [
    "%%time\n",
    "# train-validate-test splits\n",
    "# full dataset\n",
    "# full =  create_dataset(graphs, edges.T)\n",
    "# significant pairwise correlations only\n",
    "sig = create_dataset(graphs, edges_sig)\n",
    "# bonferroni significant pairwise correlations only\n",
    "# sig_b = create_dataset(graphs, np.argwhere(edges_sig_b).T)"
   ]
  },
  {
   "cell_type": "code",
   "execution_count": 14,
   "metadata": {},
   "outputs": [
    {
     "data": {
      "text/plain": [
       "{'graph': [Data(x=[100, 100], edge_index=[2, 1695])], 'label': [tensor(1)]}"
      ]
     },
     "execution_count": 14,
     "metadata": {},
     "output_type": "execute_result"
    }
   ],
   "source": [
    "foo = iter(sig['train_loader'])\n",
    "next(foo)"
   ]
  },
  {
   "cell_type": "markdown",
   "metadata": {},
   "source": [
    "# STEP 2. Model Development"
   ]
  },
  {
   "cell_type": "code",
   "execution_count": 24,
   "metadata": {},
   "outputs": [],
   "source": [
    "# new imports for this section\n",
    "import matplotlib.pyplot as plt"
   ]
  },
  {
   "cell_type": "code",
   "execution_count": 172,
   "metadata": {},
   "outputs": [],
   "source": [
    "def train(model, data_loader, device, loss_fn, optimizer):\n",
    "    model.train()\n",
    "    total_loss = 0\n",
    "    num_true = 0\n",
    "    num_true_guesses = 0\n",
    "    for d in data_loader:\n",
    "        m = d['graph'][0]\n",
    "        m = m.to(device)\n",
    "        label = d['label'][0]\n",
    "        optimizer.zero_grad()\n",
    "        out = model(d).squeeze()\n",
    "        loss = loss_fn(out.float(), label.float())\n",
    "        loss.backward()\n",
    "        optimizer.step()\n",
    "        total_loss += loss.item()\n",
    "        pred = (out.double() > 0.5).float()\n",
    "        if pred == label.double():\n",
    "            num_true += 1\n",
    "        if pred == 1:\n",
    "            num_true_guesses += 1\n",
    "    return total_loss, num_true, num_true_guesses\n",
    "\n",
    "def eval(model, loader, device):\n",
    "    model.eval()\n",
    "    cor = 0\n",
    "    tot = 0\n",
    "    for d in loader:\n",
    "        with torch.no_grad():\n",
    "            out = model(d)\n",
    "            pred = (out.double() > 0.5).float()\n",
    "        y = d['label'][0]\n",
    "        cor += (pred == y).sum()\n",
    "        tot += pred.shape[0]\n",
    "    return cor/tot\n",
    "\n",
    "def train_validate_model(model, optimizer, criterion, dataset):\n",
    "    train_data = 'train_loader'\n",
    "    val_data = 'val_loader'\n",
    "    test_data = 'test_loader'\n",
    "\n",
    "    device = torch.device(\"cuda\" if torch.cuda.is_available() else \"cpu\")\n",
    "    model.to(device)\n",
    "    \n",
    "    losses = []\n",
    "    num_epochs = 50\n",
    "    for epoch in range(num_epochs):\n",
    "        loss, num_true, num_true_guesses = train(model, dataset[train_data], device, criterion, optimizer)\n",
    "        train_results = eval(model, dataset[train_data], device)\n",
    "        val_results = eval(model, dataset[val_data], device)\n",
    "        losses.append(loss)\n",
    "        avg_loss = loss / len(sig[train_data])\n",
    "        print(f'Epoch: {epoch + 1}/{num_epochs}, '\n",
    "              f'Loss: {loss}, '\n",
    "              f'Avg Loss: {avg_loss:.3f}, '\n",
    "              f'Train: {100 * train_results:.2f}%, '\n",
    "              f'Validation: {100 * val_results:.2f}%, '\n",
    "              f'Num Correct: {num_true}, '\n",
    "              f'True Guesses: {num_true_guesses} ')\n",
    "    plt.plot(losses)\n",
    "    plt.show() \n",
    "    return avg_loss"
   ]
  },
  {
   "cell_type": "code",
   "execution_count": 177,
   "metadata": {
    "scrolled": true
   },
   "outputs": [
    {
     "name": "stdout",
     "output_type": "stream",
     "text": [
      "GCN(\n",
      "  (conv1): GCNConv(100, 150)\n",
      "  (bn1): BatchNorm1d(150, eps=1e-05, momentum=0.1, affine=True, track_running_stats=True)\n",
      "  (conv2): GCNConv(150, 50)\n",
      "  (bn2): BatchNorm1d(50, eps=1e-05, momentum=0.1, affine=True, track_running_stats=True)\n",
      "  (classifier): Linear(in_features=50, out_features=1, bias=True)\n",
      ")\n"
     ]
    }
   ],
   "source": [
    "class GCN(nn.Module):\n",
    "    def __init__(self,):\n",
    "        super(GCN, self).__init__()\n",
    "        self.conv1 = GCNConv(100, 150)\n",
    "        self.bn1 = nn.BatchNorm1d(150)\n",
    "        self.conv2 = GCNConv(150, 50)\n",
    "        self.bn2 = nn.BatchNorm1d(50)\n",
    "        self.classifier = Linear(50, 1)\n",
    "\n",
    "    def forward(self, data):\n",
    "        data = data['graph'][0]\n",
    "        x, edge_index = data.x, data.edge_index\n",
    "        x = self.conv1(x, edge_index)\n",
    "        x = self.bn1(x)\n",
    "        x = torch.tanh(x)\n",
    "        x = nn.Dropout(p=0.75)(x)\n",
    "        x = self.conv2(x, edge_index)\n",
    "        x = self.bn2(x)\n",
    "        x = torch.tanh(x)\n",
    "        x = nn.Dropout(p=0.75)(x)\n",
    "        x = self.classifier(x).mean(dim=0)\n",
    "        x = torch.sigmoid(x)\n",
    "        return x\n",
    "    \n",
    "model = GCN()\n",
    "print(model)"
   ]
  },
  {
   "cell_type": "code",
   "execution_count": 179,
   "metadata": {},
   "outputs": [
    {
     "name": "stdout",
     "output_type": "stream",
     "text": [
      "Epoch: 1/50, Loss: 553.9281856715679, Avg Loss: 0.691, Train: 46.76%, Validation: 51.00%, Num Correct: 428, True Guesses: 626 \n",
      "Epoch: 2/50, Loss: 551.9193088114262, Avg Loss: 0.688, Train: 51.87%, Validation: 46.00%, Num Correct: 425, True Guesses: 531 \n",
      "Epoch: 3/50, Loss: 554.5436206459999, Avg Loss: 0.691, Train: 45.26%, Validation: 51.00%, Num Correct: 421, True Guesses: 735 \n",
      "Epoch: 4/50, Loss: 547.5814880430698, Avg Loss: 0.683, Train: 42.14%, Validation: 47.00%, Num Correct: 444, True Guesses: 568 \n",
      "Epoch: 5/50, Loss: 537.8227994143963, Avg Loss: 0.671, Train: 38.28%, Validation: 42.00%, Num Correct: 467, True Guesses: 651 \n",
      "Epoch: 6/50, Loss: 521.7958734929562, Avg Loss: 0.651, Train: 36.78%, Validation: 41.00%, Num Correct: 502, True Guesses: 532 \n",
      "Epoch: 7/50, Loss: 482.20167081803083, Avg Loss: 0.601, Train: 35.66%, Validation: 41.00%, Num Correct: 542, True Guesses: 484 \n",
      "Epoch: 8/50, Loss: 455.2750052176416, Avg Loss: 0.568, Train: 34.16%, Validation: 40.00%, Num Correct: 573, True Guesses: 471 \n",
      "Epoch: 9/50, Loss: 430.1060725077987, Avg Loss: 0.536, Train: 33.54%, Validation: 44.00%, Num Correct: 594, True Guesses: 454 \n",
      "Epoch: 10/50, Loss: 415.9422990810126, Avg Loss: 0.519, Train: 34.66%, Validation: 43.00%, Num Correct: 601, True Guesses: 441 \n",
      "Epoch: 11/50, Loss: 389.9565868023783, Avg Loss: 0.486, Train: 35.54%, Validation: 40.00%, Num Correct: 626, True Guesses: 448 \n",
      "Epoch: 12/50, Loss: 391.5719941747375, Avg Loss: 0.488, Train: 35.41%, Validation: 41.00%, Num Correct: 615, True Guesses: 435 \n",
      "Epoch: 13/50, Loss: 376.40180076286197, Avg Loss: 0.469, Train: 35.91%, Validation: 39.00%, Num Correct: 633, True Guesses: 449 \n",
      "Epoch: 14/50, Loss: 383.1629740782082, Avg Loss: 0.478, Train: 35.29%, Validation: 40.00%, Num Correct: 624, True Guesses: 448 \n",
      "Epoch: 15/50, Loss: 360.114590436453, Avg Loss: 0.449, Train: 33.92%, Validation: 48.00%, Num Correct: 644, True Guesses: 448 \n",
      "Epoch: 16/50, Loss: 352.0797146752011, Avg Loss: 0.439, Train: 32.54%, Validation: 43.00%, Num Correct: 634, True Guesses: 440 \n",
      "Epoch: 17/50, Loss: 353.80218442482874, Avg Loss: 0.441, Train: 36.16%, Validation: 44.00%, Num Correct: 638, True Guesses: 438 \n",
      "Epoch: 18/50, Loss: 343.9648276644293, Avg Loss: 0.429, Train: 36.41%, Validation: 37.00%, Num Correct: 642, True Guesses: 428 \n",
      "Epoch: 19/50, Loss: 331.1179185414221, Avg Loss: 0.413, Train: 32.67%, Validation: 39.00%, Num Correct: 654, True Guesses: 446 \n",
      "Epoch: 20/50, Loss: 340.1253505158238, Avg Loss: 0.424, Train: 34.16%, Validation: 41.00%, Num Correct: 645, True Guesses: 441 \n",
      "Epoch: 21/50, Loss: 347.7180650867522, Avg Loss: 0.434, Train: 40.15%, Validation: 36.00%, Num Correct: 633, True Guesses: 437 \n",
      "Epoch: 22/50, Loss: 312.09176627593115, Avg Loss: 0.389, Train: 34.54%, Validation: 39.00%, Num Correct: 665, True Guesses: 433 \n",
      "Epoch: 23/50, Loss: 336.49368140718434, Avg Loss: 0.420, Train: 33.54%, Validation: 41.00%, Num Correct: 649, True Guesses: 447 \n",
      "Epoch: 24/50, Loss: 336.23281036596745, Avg Loss: 0.419, Train: 33.67%, Validation: 40.00%, Num Correct: 650, True Guesses: 436 \n",
      "Epoch: 25/50, Loss: 316.17632034770213, Avg Loss: 0.394, Train: 33.29%, Validation: 42.00%, Num Correct: 661, True Guesses: 445 \n",
      "Epoch: 26/50, Loss: 311.56956283468753, Avg Loss: 0.388, Train: 33.04%, Validation: 35.00%, Num Correct: 658, True Guesses: 438 \n",
      "Epoch: 27/50, Loss: 302.7389518979471, Avg Loss: 0.377, Train: 32.67%, Validation: 40.00%, Num Correct: 659, True Guesses: 443 \n",
      "Epoch: 28/50, Loss: 291.4071522442391, Avg Loss: 0.363, Train: 31.42%, Validation: 40.00%, Num Correct: 672, True Guesses: 426 \n",
      "Epoch: 29/50, Loss: 307.67251446889713, Avg Loss: 0.384, Train: 32.54%, Validation: 41.00%, Num Correct: 655, True Guesses: 433 \n",
      "Epoch: 30/50, Loss: 299.11586464132415, Avg Loss: 0.373, Train: 33.42%, Validation: 36.00%, Num Correct: 664, True Guesses: 428 \n",
      "Epoch: 31/50, Loss: 292.52386008080794, Avg Loss: 0.365, Train: 34.79%, Validation: 31.00%, Num Correct: 665, True Guesses: 443 \n",
      "Epoch: 32/50, Loss: 278.8356157277012, Avg Loss: 0.348, Train: 31.92%, Validation: 40.00%, Num Correct: 678, True Guesses: 432 \n",
      "Epoch: 33/50, Loss: 301.9683777546743, Avg Loss: 0.377, Train: 35.29%, Validation: 39.00%, Num Correct: 670, True Guesses: 434 \n",
      "Epoch: 34/50, Loss: 290.48447013029363, Avg Loss: 0.362, Train: 35.16%, Validation: 41.00%, Num Correct: 675, True Guesses: 443 \n",
      "Epoch: 35/50, Loss: 302.4787364313088, Avg Loss: 0.377, Train: 33.92%, Validation: 47.00%, Num Correct: 679, True Guesses: 443 \n",
      "Epoch: 36/50, Loss: 281.9896098243771, Avg Loss: 0.352, Train: 34.79%, Validation: 35.00%, Num Correct: 683, True Guesses: 431 \n",
      "Epoch: 37/50, Loss: 270.83800837839954, Avg Loss: 0.338, Train: 35.29%, Validation: 40.00%, Num Correct: 682, True Guesses: 438 \n",
      "Epoch: 38/50, Loss: 270.08677704341244, Avg Loss: 0.337, Train: 33.04%, Validation: 41.00%, Num Correct: 685, True Guesses: 439 \n",
      "Epoch: 39/50, Loss: 276.24131983995903, Avg Loss: 0.344, Train: 34.16%, Validation: 42.00%, Num Correct: 684, True Guesses: 428 \n",
      "Epoch: 40/50, Loss: 264.1861763053457, Avg Loss: 0.329, Train: 34.91%, Validation: 40.00%, Num Correct: 687, True Guesses: 441 \n",
      "Epoch: 41/50, Loss: 274.8781819610449, Avg Loss: 0.343, Train: 33.29%, Validation: 42.00%, Num Correct: 681, True Guesses: 429 \n",
      "Epoch: 42/50, Loss: 269.76737091813993, Avg Loss: 0.336, Train: 33.04%, Validation: 38.00%, Num Correct: 685, True Guesses: 445 \n",
      "Epoch: 43/50, Loss: 258.64007576028234, Avg Loss: 0.322, Train: 33.17%, Validation: 41.00%, Num Correct: 681, True Guesses: 435 \n",
      "Epoch: 44/50, Loss: 269.7810882569174, Avg Loss: 0.336, Train: 32.67%, Validation: 39.00%, Num Correct: 685, True Guesses: 441 \n",
      "Epoch: 45/50, Loss: 279.45003923767945, Avg Loss: 0.348, Train: 38.90%, Validation: 39.00%, Num Correct: 676, True Guesses: 452 \n",
      "Epoch: 46/50, Loss: 265.4103803887847, Avg Loss: 0.331, Train: 33.29%, Validation: 41.00%, Num Correct: 679, True Guesses: 427 \n",
      "Epoch: 47/50, Loss: 253.43968061234045, Avg Loss: 0.316, Train: 33.17%, Validation: 38.00%, Num Correct: 700, True Guesses: 426 \n",
      "Epoch: 48/50, Loss: 297.17609468259616, Avg Loss: 0.371, Train: 32.79%, Validation: 46.00%, Num Correct: 668, True Guesses: 434 \n",
      "Epoch: 49/50, Loss: 253.30415814963635, Avg Loss: 0.316, Train: 32.67%, Validation: 39.00%, Num Correct: 693, True Guesses: 439 \n",
      "Epoch: 50/50, Loss: 261.5718418400793, Avg Loss: 0.326, Train: 35.66%, Validation: 38.00%, Num Correct: 689, True Guesses: 439 \n"
     ]
    },
    {
     "data": {
      "image/png": "[encoded data removed]",
      "text/plain": [
       "<Figure size 640x480 with 1 Axes>"
      ]
     },
     "metadata": {},
     "output_type": "display_data"
    },
    {
     "data": {
      "text/plain": [
       "0.3261494287282784"
      ]
     },
     "execution_count": 179,
     "metadata": {},
     "output_type": "execute_result"
    }
   ],
   "source": [
    "train_validate_model(model=model, optimizer=torch.optim.Adam(model.parameters(), lr=0.003), criterion=nn.BCELoss(), dataset=sig)"
   ]
  },
  {
   "cell_type": "code",
   "execution_count": 194,
   "metadata": {},
   "outputs": [],
   "source": [
    "# 2-layer models\n",
    "\n",
    "class twoGCN_custom(nn.Module):\n",
    "    \"\"\"\n",
    "    Graph Convolutional Network (GCN) with customizable hyperparameters.\n",
    "\n",
    "    Args:\n",
    "        input_dim (int): Dimension of the input features.\n",
    "        hidden_dim1 (int): Dimension of the first hidden layer.\n",
    "        hidden_dim2 (int): Dimension of the second hidden layer.\n",
    "        output_dim (int): Dimension of the output.\n",
    "        dropout_prob (float): Dropout probability.\n",
    "\n",
    "    Attributes:\n",
    "        conv1 (GCNConv): First graph convolutional layer.\n",
    "        bn1 (BatchNorm1d): Batch normalization layer for the first hidden layer.\n",
    "        conv2 (GCNConv): Second graph convolutional layer.\n",
    "        bn2 (BatchNorm1d): Batch normalization layer for the second hidden layer.\n",
    "        classifier (Linear): Linear layer for classification.\n",
    "        dropout_prob (float): Dropout probability.\n",
    "\n",
    "    \"\"\"\n",
    "    def __init__(self, input_dim, hidden_dim1, hidden_dim2, dropout_prob):\n",
    "        super(twoGCN_custom, self).__init__()\n",
    "        self.conv1 = GCNConv(input_dim, hidden_dim1)\n",
    "        self.bn1 = nn.BatchNorm1d(hidden_dim1)\n",
    "        self.conv2 = GCNConv(hidden_dim1, hidden_dim2)\n",
    "        self.bn2 = nn.BatchNorm1d(hidden_dim2)\n",
    "        self.classifier = Linear(hidden_dim2, 1) # output dimension will always be 1\n",
    "        self.dropout_prob = dropout_prob\n",
    "\n",
    "    def forward(self, data):\n",
    "        data = data['graph'][0]\n",
    "        x, edge_index = data.x, data.edge_index\n",
    "        x = self.conv1(x, edge_index)\n",
    "        x = self.bn1(x)\n",
    "        x = torch.tanh(x)\n",
    "        x = nn.Dropout(p=self.dropout_prob)(x)\n",
    "        x = self.conv2(x, edge_index)\n",
    "        x = self.bn2(x)\n",
    "        x = torch.tanh(x)\n",
    "        x = nn.Dropout(p=self.dropout_prob)(x)\n",
    "        x = self.classifier(x).mean(dim=0)\n",
    "        x = torch.sigmoid(x)\n",
    "        return x"
   ]
  },
  {
   "cell_type": "code",
   "execution_count": 196,
   "metadata": {},
   "outputs": [
    {
     "name": "stdout",
     "output_type": "stream",
     "text": [
      "twoGCN_custom(\n",
      "  (conv1): GCNConv(100, 150)\n",
      "  (bn1): BatchNorm1d(150, eps=1e-05, momentum=0.1, affine=True, track_running_stats=True)\n",
      "  (conv2): GCNConv(150, 50)\n",
      "  (bn2): BatchNorm1d(50, eps=1e-05, momentum=0.1, affine=True, track_running_stats=True)\n",
      "  (classifier): Linear(in_features=50, out_features=1, bias=True)\n",
      ")\n",
      "Epoch: 1/50, Loss: 554.6957270503044, Avg Loss: 0.692, Train: 45.26%, Validation: 45.00%, Num Correct: 434, True Guesses: 802 \n",
      "Epoch: 2/50, Loss: 553.6416662931442, Avg Loss: 0.690, Train: 46.38%, Validation: 41.00%, Num Correct: 435, True Guesses: 801 \n",
      "Epoch: 3/50, Loss: 554.3143500685692, Avg Loss: 0.691, Train: 48.25%, Validation: 43.00%, Num Correct: 434, True Guesses: 802 \n",
      "Epoch: 4/50, Loss: 554.8472759127617, Avg Loss: 0.692, Train: 48.75%, Validation: 46.00%, Num Correct: 433, True Guesses: 799 \n",
      "Epoch: 5/50, Loss: 553.7416647076607, Avg Loss: 0.690, Train: 50.12%, Validation: 50.00%, Num Correct: 433, True Guesses: 801 \n",
      "Epoch: 6/50, Loss: 553.9663127660751, Avg Loss: 0.691, Train: 49.13%, Validation: 45.00%, Num Correct: 433, True Guesses: 801 \n",
      "Epoch: 7/50, Loss: 553.9502220153809, Avg Loss: 0.691, Train: 47.13%, Validation: 50.00%, Num Correct: 434, True Guesses: 802 \n",
      "Epoch: 8/50, Loss: 553.0172303318977, Avg Loss: 0.690, Train: 47.38%, Validation: 48.00%, Num Correct: 434, True Guesses: 802 \n",
      "Epoch: 9/50, Loss: 552.6071073412895, Avg Loss: 0.689, Train: 48.63%, Validation: 47.00%, Num Correct: 434, True Guesses: 802 \n",
      "Epoch: 10/50, Loss: 552.8314628005028, Avg Loss: 0.689, Train: 46.76%, Validation: 43.00%, Num Correct: 434, True Guesses: 802 \n",
      "Epoch: 11/50, Loss: 553.6431208848953, Avg Loss: 0.690, Train: 50.00%, Validation: 49.00%, Num Correct: 435, True Guesses: 801 \n",
      "Epoch: 12/50, Loss: 553.7479690313339, Avg Loss: 0.690, Train: 48.75%, Validation: 49.00%, Num Correct: 434, True Guesses: 802 \n",
      "Epoch: 13/50, Loss: 553.4764496088028, Avg Loss: 0.690, Train: 48.13%, Validation: 43.00%, Num Correct: 433, True Guesses: 801 \n",
      "Epoch: 14/50, Loss: 554.6846609711647, Avg Loss: 0.692, Train: 48.50%, Validation: 46.00%, Num Correct: 433, True Guesses: 801 \n",
      "Epoch: 15/50, Loss: 553.5974627733231, Avg Loss: 0.690, Train: 47.76%, Validation: 48.00%, Num Correct: 434, True Guesses: 802 \n",
      "Epoch: 16/50, Loss: 553.2886098623276, Avg Loss: 0.690, Train: 46.51%, Validation: 39.00%, Num Correct: 434, True Guesses: 802 \n",
      "Epoch: 17/50, Loss: 552.5599556565285, Avg Loss: 0.689, Train: 47.13%, Validation: 49.00%, Num Correct: 433, True Guesses: 801 \n",
      "Epoch: 18/50, Loss: 554.1774740815163, Avg Loss: 0.691, Train: 48.88%, Validation: 46.00%, Num Correct: 434, True Guesses: 802 \n",
      "Epoch: 19/50, Loss: 554.1749724149704, Avg Loss: 0.691, Train: 46.13%, Validation: 49.00%, Num Correct: 433, True Guesses: 801 \n",
      "Epoch: 20/50, Loss: 553.8262314200401, Avg Loss: 0.691, Train: 47.76%, Validation: 43.00%, Num Correct: 434, True Guesses: 802 \n",
      "Epoch: 21/50, Loss: 553.7386142015457, Avg Loss: 0.690, Train: 47.38%, Validation: 46.00%, Num Correct: 432, True Guesses: 798 \n",
      "Epoch: 22/50, Loss: 553.7058852910995, Avg Loss: 0.690, Train: 46.01%, Validation: 48.00%, Num Correct: 434, True Guesses: 800 \n",
      "Epoch: 23/50, Loss: 554.1252656579018, Avg Loss: 0.691, Train: 49.13%, Validation: 45.00%, Num Correct: 434, True Guesses: 802 \n",
      "Epoch: 24/50, Loss: 553.2048449516296, Avg Loss: 0.690, Train: 44.51%, Validation: 49.00%, Num Correct: 434, True Guesses: 800 \n",
      "Epoch: 25/50, Loss: 554.4130569696426, Avg Loss: 0.691, Train: 49.88%, Validation: 46.00%, Num Correct: 435, True Guesses: 801 \n",
      "Epoch: 26/50, Loss: 552.2937935590744, Avg Loss: 0.689, Train: 48.88%, Validation: 51.00%, Num Correct: 434, True Guesses: 802 \n",
      "Epoch: 27/50, Loss: 554.055938065052, Avg Loss: 0.691, Train: 48.50%, Validation: 41.00%, Num Correct: 434, True Guesses: 800 \n",
      "Epoch: 28/50, Loss: 554.0749059319496, Avg Loss: 0.691, Train: 45.76%, Validation: 50.00%, Num Correct: 434, True Guesses: 802 \n",
      "Epoch: 29/50, Loss: 553.3719813227654, Avg Loss: 0.690, Train: 44.64%, Validation: 47.00%, Num Correct: 434, True Guesses: 802 \n",
      "Epoch: 30/50, Loss: 554.6755403280258, Avg Loss: 0.692, Train: 48.38%, Validation: 48.00%, Num Correct: 433, True Guesses: 799 \n",
      "Epoch: 31/50, Loss: 553.6362673640251, Avg Loss: 0.690, Train: 49.13%, Validation: 42.00%, Num Correct: 435, True Guesses: 801 \n",
      "Epoch: 32/50, Loss: 553.7026373147964, Avg Loss: 0.690, Train: 50.12%, Validation: 42.00%, Num Correct: 434, True Guesses: 802 \n",
      "Epoch: 33/50, Loss: 553.4513150453568, Avg Loss: 0.690, Train: 48.38%, Validation: 46.00%, Num Correct: 435, True Guesses: 801 \n",
      "Epoch: 34/50, Loss: 554.0346497297287, Avg Loss: 0.691, Train: 49.63%, Validation: 49.00%, Num Correct: 434, True Guesses: 802 \n",
      "Epoch: 35/50, Loss: 553.369671523571, Avg Loss: 0.690, Train: 46.26%, Validation: 45.00%, Num Correct: 434, True Guesses: 802 \n",
      "Epoch: 36/50, Loss: 553.3557512760162, Avg Loss: 0.690, Train: 48.13%, Validation: 41.00%, Num Correct: 433, True Guesses: 801 \n",
      "Epoch: 37/50, Loss: 552.5580041408539, Avg Loss: 0.689, Train: 47.01%, Validation: 41.00%, Num Correct: 434, True Guesses: 802 \n",
      "Epoch: 38/50, Loss: 553.350999891758, Avg Loss: 0.690, Train: 45.14%, Validation: 49.00%, Num Correct: 434, True Guesses: 802 \n",
      "Epoch: 39/50, Loss: 554.3321802616119, Avg Loss: 0.691, Train: 48.63%, Validation: 47.00%, Num Correct: 433, True Guesses: 801 \n",
      "Epoch: 40/50, Loss: 553.9827675819397, Avg Loss: 0.691, Train: 49.25%, Validation: 45.00%, Num Correct: 434, True Guesses: 802 \n",
      "Epoch: 41/50, Loss: 554.1048978567123, Avg Loss: 0.691, Train: 48.75%, Validation: 45.00%, Num Correct: 433, True Guesses: 801 \n",
      "Epoch: 42/50, Loss: 553.6275623440742, Avg Loss: 0.690, Train: 46.01%, Validation: 43.00%, Num Correct: 433, True Guesses: 801 \n",
      "Epoch: 43/50, Loss: 552.9342546463013, Avg Loss: 0.689, Train: 49.00%, Validation: 47.00%, Num Correct: 436, True Guesses: 800 \n",
      "Epoch: 44/50, Loss: 553.8068356513977, Avg Loss: 0.691, Train: 46.51%, Validation: 48.00%, Num Correct: 433, True Guesses: 801 \n",
      "Epoch: 45/50, Loss: 554.1446940302849, Avg Loss: 0.691, Train: 49.13%, Validation: 51.00%, Num Correct: 435, True Guesses: 801 \n",
      "Epoch: 46/50, Loss: 553.2693748474121, Avg Loss: 0.690, Train: 49.00%, Validation: 39.00%, Num Correct: 434, True Guesses: 802 \n",
      "Epoch: 47/50, Loss: 554.3662778735161, Avg Loss: 0.691, Train: 45.89%, Validation: 43.00%, Num Correct: 434, True Guesses: 802 \n",
      "Epoch: 48/50, Loss: 553.8057997226715, Avg Loss: 0.691, Train: 48.13%, Validation: 45.00%, Num Correct: 432, True Guesses: 800 \n",
      "Epoch: 49/50, Loss: 553.1613115668297, Avg Loss: 0.690, Train: 49.25%, Validation: 45.00%, Num Correct: 434, True Guesses: 802 \n",
      "Epoch: 50/50, Loss: 553.8771057724953, Avg Loss: 0.691, Train: 46.13%, Validation: 54.00%, Num Correct: 434, True Guesses: 802 \n"
     ]
    },
    {
     "data": {
      "image/png": "[encoded data removed]",
      "text/plain": [
       "<Figure size 640x480 with 1 Axes>"
      ]
     },
     "metadata": {},
     "output_type": "display_data"
    },
    {
     "data": {
      "text/plain": [
       "0.690619832634034"
      ]
     },
     "execution_count": 196,
     "metadata": {},
     "output_type": "execute_result"
    }
   ],
   "source": [
    "twoGCN_1 = twoGCN_custom(\n",
    "    input_dim=100,\n",
    "    hidden_dim1=150, \n",
    "    hidden_dim2=50, \n",
    "    dropout_prob=0.50,\n",
    "    activation_functions=[torch.tanh, torch.tanh]\n",
    ")\n",
    "print(twoGCN_1)\n",
    "train_validate_model(model=twoGCN_1, optimizer=torch.optim.Adam(model.parameters(), lr=0.003), criterion=nn.BCELoss(), dataset=sig)"
   ]
  },
  {
   "cell_type": "code",
   "execution_count": null,
   "metadata": {},
   "outputs": [],
   "source": [
    "# twoGCN_1 = twoGCN_custom(\n",
    "#     input_dim=100,\n",
    "#     hidden_dim1=150, \n",
    "#     hidden_dim2=50, \n",
    "#     dropout_prob=0.50,\n",
    "#     activation_functions=[torch.tanh, torch.tanh]\n",
    "# )\n",
    "# print(twoGCN_1)\n",
    "# train_validate_model(model=twoGCN_1, optimizer=torch.optim.Adam(model.parameters(), lr=0.003), criterion=nn.BCELoss(), dataset=sig)"
   ]
  },
  {
   "cell_type": "code",
   "execution_count": null,
   "metadata": {},
   "outputs": [],
   "source": [
    "# twoGCN_3 = twoGCN_custom(\n",
    "#     input_dim=100, \n",
    "#     hidden_dim1=150, \n",
    "#     hidden_dim2=50, \n",
    "#     dropout_prob=0.50,\n",
    "#     activation_functions=[tanh, tanh]\n",
    "# )\n",
    "# print(twoGCN_2)\n",
    "# train_validate_model(model=twoGCN_3, optimizer=torch.optim.Adam(model.parameters(), lr=0.003), criterion=nn.BCELoss(), dataset=sig)"
   ]
  }
 ],
 "metadata": {
  "kernelspec": {
   "display_name": "Python 3 (ipykernel)",
   "language": "python",
   "name": "python3"
  },
  "language_info": {
   "codemirror_mode": {
    "name": "ipython",
    "version": 3
   },
   "file_extension": ".py",
   "mimetype": "text/x-python",
   "name": "python",
   "nbconvert_exporter": "python",
   "pygments_lexer": "ipython3",
   "version": "3.11.2"
  }
 },
 "nbformat": 4,
 "nbformat_minor": 4
}
