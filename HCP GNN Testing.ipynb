{
 "cells": [
  {
   "cell_type": "code",
   "execution_count": 1,
   "metadata": {},
   "outputs": [],
   "source": [
    "# #Imports\n",
    "# #Dataprep\n",
    "# import matplotlib.pyplot as plt\n",
    "# import numpy as np\n",
    "# from nilearn import datasets, plotting, image\n",
    "# from nilearn.maskers import NiftiMapsMasker\n",
    "# from sklearn.decomposition import FastICA\n",
    "# import pandas as pd\n",
    "# import tarfile\n",
    "# import gzip\n",
    "# #sim required\n",
    "# import random\n",
    "# import pingouin as pg\n",
    "# import seaborn as sns\n",
    "# #GNN required\n",
    "# import torch\n",
    "# import torch.nn.functional as F\n",
    "# from torch.nn import Linear\n",
    "# import torch.nn as nn\n",
    "# import torch_geometric\n",
    "# from torch_geometric.nn import GCNConv\n",
    "# from torch_geometric.nn import SAGEConv\n",
    "# from torch_geometric.nn import GraphConv\n",
    "# from torch_geometric.data import Data\n",
    "# from torch_geometric.loader import DataLoader\n",
    "# from torch.utils.data import SubsetRandomSampler\n",
    "# from sklearn.metrics import accuracy_score"
   ]
  },
  {
   "cell_type": "markdown",
   "metadata": {},
   "source": [
    "# STEP 1. Input Data Selection"
   ]
  },
  {
   "cell_type": "markdown",
   "metadata": {},
   "source": [
    "**Deliverables:**  \n",
    "**Goal**: Create different sub-graphs two decrease training times and aid in overall interpretability of GNN performance\n",
    "\n",
    "**Sub-graph Types**\n",
    "1. Significant Regions [alpha] \n",
    "2. Significant Regions [bonferroni-corrected] \n",
    "3. Graph Sampling [GRAPHSaint]"
   ]
  },
  {
   "cell_type": "code",
   "execution_count": 2,
   "metadata": {},
   "outputs": [
    {
     "name": "stderr",
     "output_type": "stream",
     "text": [
      "C:\\Users\\Jense\\AppData\\Local\\Temp\\ipykernel_8820\\2238771519.py:5: DeprecationWarning: \n",
      "Pyarrow will become a required dependency of pandas in the next major release of pandas (pandas 3.0),\n",
      "(to allow more performant data types, such as the Arrow string type, and better interoperability with other libraries)\n",
      "but was not found to be installed on your system.\n",
      "If this would cause problems for you,\n",
      "please provide us feedback at https://github.com/pandas-dev/pandas/issues/54466\n",
      "        \n",
      "  import pandas as pd\n"
     ]
    }
   ],
   "source": [
    "# imports for this section\n",
    "from ast import literal_eval\n",
    "import re\n",
    "import gzip\n",
    "import pandas as pd\n",
    "import numpy as np\n",
    "import torch"
   ]
  },
  {
   "cell_type": "markdown",
   "metadata": {
    "jp-MarkdownHeadingCollapsed": true
   },
   "source": [
    "## I. Read in the HCP data"
   ]
  },
  {
   "cell_type": "code",
   "execution_count": 3,
   "metadata": {
    "scrolled": true
   },
   "outputs": [
    {
     "data": {
      "text/html": [
       "<div>\n",
       "<style scoped>\n",
       "    .dataframe tbody tr th:only-of-type {\n",
       "        vertical-align: middle;\n",
       "    }\n",
       "\n",
       "    .dataframe tbody tr th {\n",
       "        vertical-align: top;\n",
       "    }\n",
       "\n",
       "    .dataframe thead th {\n",
       "        text-align: right;\n",
       "    }\n",
       "</style>\n",
       "<table border=\"1\" class=\"dataframe\">\n",
       "  <thead>\n",
       "    <tr style=\"text-align: right;\">\n",
       "      <th></th>\n",
       "      <th>Gender</th>\n",
       "      <th>Age</th>\n",
       "      <th>netmat</th>\n",
       "    </tr>\n",
       "    <tr>\n",
       "      <th>subject_id</th>\n",
       "      <th></th>\n",
       "      <th></th>\n",
       "      <th></th>\n",
       "    </tr>\n",
       "  </thead>\n",
       "  <tbody>\n",
       "    <tr>\n",
       "      <th>100206</th>\n",
       "      <td>M</td>\n",
       "      <td>26-30</td>\n",
       "      <td>[[0.0, 0.61676, 9.5727, -5.4959, 0.34639, 3.00...</td>\n",
       "    </tr>\n",
       "    <tr>\n",
       "      <th>100307</th>\n",
       "      <td>F</td>\n",
       "      <td>26-30</td>\n",
       "      <td>[[0.0, -0.29664, 17.317, -9.0467, -0.28723, 1....</td>\n",
       "    </tr>\n",
       "    <tr>\n",
       "      <th>100408</th>\n",
       "      <td>M</td>\n",
       "      <td>31-35</td>\n",
       "      <td>[[0.0, 1.6486, 6.6189, -8.8877, 1.4337, 1.006,...</td>\n",
       "    </tr>\n",
       "    <tr>\n",
       "      <th>100610</th>\n",
       "      <td>M</td>\n",
       "      <td>26-30</td>\n",
       "      <td>[[0.0, -0.90275, 7.7215, -8.3907, 3.3144, 2.93...</td>\n",
       "    </tr>\n",
       "    <tr>\n",
       "      <th>101006</th>\n",
       "      <td>F</td>\n",
       "      <td>31-35</td>\n",
       "      <td>[[0.0, -0.088768, 9.4979, -10.412, 1.0646, 4.3...</td>\n",
       "    </tr>\n",
       "  </tbody>\n",
       "</table>\n",
       "</div>"
      ],
      "text/plain": [
       "           Gender    Age                                             netmat\n",
       "subject_id                                                                 \n",
       "100206          M  26-30  [[0.0, 0.61676, 9.5727, -5.4959, 0.34639, 3.00...\n",
       "100307          F  26-30  [[0.0, -0.29664, 17.317, -9.0467, -0.28723, 1....\n",
       "100408          M  31-35  [[0.0, 1.6486, 6.6189, -8.8877, 1.4337, 1.006,...\n",
       "100610          M  26-30  [[0.0, -0.90275, 7.7215, -8.3907, 3.3144, 2.93...\n",
       "101006          F  31-35  [[0.0, -0.088768, 9.4979, -10.412, 1.0646, 4.3..."
      ]
     },
     "execution_count": 3,
     "metadata": {},
     "output_type": "execute_result"
    }
   ],
   "source": [
    "data_file = 'Data/data_clean.csv.gz'\n",
    "\n",
    "with gzip.open(data_file) as filepath:\n",
    "    data = pd.read_csv(filepath, index_col = 'subject_id', \n",
    "            converters = {'netmat' : lambda x : np.array(literal_eval(re.sub('(?<!\\[)\\s+|[\\\\n]', ', ', x)))})\n",
    "    \n",
    "data.head()"
   ]
  },
  {
   "cell_type": "markdown",
   "metadata": {},
   "source": [
    "## II. Get the input subgraphs"
   ]
  },
  {
   "cell_type": "code",
   "execution_count": 4,
   "metadata": {},
   "outputs": [],
   "source": [
    "# STEP 1: INPUT DATA TYPES\n",
    "# -> FILTERING\n",
    "# 1. Sig Regions [alpha] \n",
    "# 2. Sig Regions [bonferroni-corrected] \n",
    "# 3. Graph Sampling [GRAPHSaint]"
   ]
  },
  {
   "cell_type": "code",
   "execution_count": 5,
   "metadata": {},
   "outputs": [
    {
     "name": "stdout",
     "output_type": "stream",
     "text": [
      "CPU times: total: 281 ms\n",
      "Wall time: 276 ms\n"
     ]
    }
   ],
   "source": [
    "%%time\n",
    "# full dataset\n",
    "graphs = np.stack(data.netmat.to_numpy()) # all 1003 correlation matrices\n",
    "edges = np.argwhere(graphs)\n",
    "# significant edges\n",
    "edges_sig = np.triu(np.genfromtxt('significant_edges.csv', delimiter=',')) # only keep unique edges\n",
    "graphs_sig = np.where(edges_sig, graphs, 0) # only keep significant correlations\n",
    "# bonferroni significant edges\n",
    "edges_sig_b = np.triu(np.genfromtxt('bonferroni_sig_edges.csv', delimiter=',')) # only keep unique edges\n",
    "graphs_sig_b = np.where(edges_sig, graphs, 0)# only keep significant correlations"
   ]
  },
  {
   "cell_type": "code",
   "execution_count": 6,
   "metadata": {},
   "outputs": [],
   "source": [
    "# get edges into correct format for later\n",
    "edges_sig = torch.tensor(np.argwhere(edges_sig).T)\n",
    "edges_sig_b = torch.tensor(np.argwhere(edges_sig_b).T)"
   ]
  },
  {
   "cell_type": "code",
   "execution_count": 7,
   "metadata": {
    "scrolled": true
   },
   "outputs": [
    {
     "name": "stderr",
     "output_type": "stream",
     "text": [
      "C:\\Users\\Jense\\AppData\\Local\\Temp\\ipykernel_8820\\1997748793.py:2: FutureWarning: Downcasting behavior in `replace` is deprecated and will be removed in a future version. To retain the old behavior, explicitly call `result.infer_objects(copy=False)`. To opt-in to the future behavior, set `pd.set_option('future.no_silent_downcasting', True)`\n",
      "  data['Gender'] = data['Gender'].replace({\"M\":0, \"F\":1})\n"
     ]
    }
   ],
   "source": [
    "# labels\n",
    "data['Gender'] = data['Gender'].replace({\"M\":0, \"F\":1})\n",
    "labels = torch.tensor(data['Gender'].values)"
   ]
  },
  {
   "cell_type": "code",
   "execution_count": 8,
   "metadata": {},
   "outputs": [
    {
     "data": {
      "text/plain": [
       "tensor([0, 1, 0,  ..., 1, 0, 1])"
      ]
     },
     "execution_count": 8,
     "metadata": {},
     "output_type": "execute_result"
    }
   ],
   "source": [
    "labels"
   ]
  },
  {
   "cell_type": "markdown",
   "metadata": {},
   "source": [
    "## III. Train-Validate-Test split"
   ]
  },
  {
   "cell_type": "code",
   "execution_count": 9,
   "metadata": {},
   "outputs": [],
   "source": [
    "# imports for this section\n",
    "import torch.nn.functional as F\n",
    "from torch.nn import Linear\n",
    "import torch.nn as nn\n",
    "import torch_geometric\n",
    "from torch_geometric.nn import GCNConv\n",
    "from torch_geometric.nn import SAGEConv\n",
    "from torch_geometric.nn import GraphConv\n",
    "from torch_geometric.data import Data\n",
    "from torch_geometric.loader import DataLoader\n",
    "from torch.utils.data import SubsetRandomSampler\n",
    "from sklearn.metrics import accuracy_score"
   ]
  },
  {
   "cell_type": "code",
   "execution_count": 10,
   "metadata": {},
   "outputs": [],
   "source": [
    "def collate(data_list):\n",
    "    \"\"\"\n",
    "    Unpacks graphs and their corresponding labels from a list of tuples.\n",
    "\n",
    "    Parameters:\n",
    "    - data_list (list of tuples): A list where each tuple contains a graph and its corresponding label.\n",
    "\n",
    "    Returns:\n",
    "    A dictionary with the following keys:\n",
    "    - 'graph' (list): A list containing all the graphs extracted from the tuples.\n",
    "    - 'label' (list): A list containing all the labels extracted from the tuples.\n",
    "    \"\"\"\n",
    "    graphs, labels = map(list, zip(*data_list))\n",
    "    return {\n",
    "        'graph': graphs,\n",
    "        'label': labels\n",
    "    }\n",
    " "
   ]
  },
  {
   "cell_type": "code",
   "execution_count": 11,
   "metadata": {},
   "outputs": [],
   "source": [
    "class CorrelationDataset(torch.utils.data.Dataset):\n",
    "    def __init__(self, netmats, edges, labels, split_ratio=(0.8, 0.1, 0.1)):\n",
    "        \"\"\"\n",
    "        Initializes the dataset with pairwise correlation matrices, labels, and edges.\n",
    "    \n",
    "        Parameters:\n",
    "        - netmats (array-like): Pairwise correlation matrices.\n",
    "        - edges (array-like): Regions that make up each pairwise correlation from `netmats`.\n",
    "        - labels (array-like): Labels indicating gender (0 for male, 1 for female).\n",
    "        - split_ratio (tuple): Ratios for splitting the data into train, validation, and test sets. Default is (0.8, 0.1, 0.1).\n",
    "    \n",
    "        Splits the data into training, validation, and test sets based on the specified split ratios.\n",
    "        \"\"\"\n",
    "        self.netmats = netmats # pairwise correlation matrix\n",
    "        self.labels = labels # female (1) or male (0)\n",
    "        self.edges = edges # regions that make up each pairwise correlation from `netmats`\n",
    "        self.split_ratios = split_ratio\n",
    "        tot = len(self.netmats)\n",
    "        train_samples = int(split_ratio[0] * tot) # 0.8\n",
    "        val_samples = int(split_ratio[1] * tot) # 0.1\n",
    "\n",
    "        # splitting the data\n",
    "        self.train_indices = np.arange(0, train_samples) # training data\n",
    "        self.val_indices = np.arange(train_samples, train_samples + val_samples) # validation data\n",
    "        self.test_indices = np.arange(train_samples + val_samples, tot) # test data\n",
    "\n",
    "    def __len__(self):\n",
    "        \"\"\"\n",
    "        Returns the length of entire dataset (train + validate + test)\n",
    "        \"\"\"\n",
    "        return len(self.netmats)\n",
    "\n",
    "    def __getitem__(self, idx):\n",
    "        \"\"\"\n",
    "        Retrieves the data and label corresponding to the given index.\n",
    "    \n",
    "        Parameters:\n",
    "        - idx (int): Index of the data sample to retrieve.\n",
    "    \n",
    "        Returns:\n",
    "        - graph_data (torch_geometric.data.Data): Graph data containing the correlation matrix and edge indices.\n",
    "        - label (int): Label indicating the gender (0 for male, 1 for female) of the corresponding data sample.\n",
    "        \"\"\"\n",
    "        x = torch.tensor(self.netmats[idx]).float() # correlation matrix\n",
    "        edge_index = self.edges # dependent on input subgraph\n",
    "        graph_data = Data(x=x, edge_index=edge_index) \n",
    "        label = self.labels[idx]\n",
    "        return graph_data, label\n",
    "\n",
    "    def get_split(self, idx):\n",
    "        \"\"\"\n",
    "        Determines the split of a data sample based on its index.\n",
    "    \n",
    "        Parameters:\n",
    "        - idx (int): Index of the data sample.\n",
    "    \n",
    "        Returns:\n",
    "        - split (str): The split of the data sample ('train', 'val', or 'test').\n",
    "    \n",
    "        Raises:\n",
    "        - ValueError: If the index is not found in any of the splits.\n",
    "        \"\"\"\n",
    "        if idx in self.train_indices:\n",
    "            return 'train'\n",
    "        elif idx in self.val_indices:\n",
    "            return 'val'\n",
    "        elif idx in self.test_indices:\n",
    "            return 'test'\n",
    "        else:\n",
    "            raise ValueError('Index not in any split')"
   ]
  },
  {
   "cell_type": "code",
   "execution_count": 12,
   "metadata": {},
   "outputs": [],
   "source": [
    "def create_dataset(netmats, edges, labels=labels, collate_fn=collate):\n",
    "    \"\"\"\n",
    "    Creates a dataset and corresponding data loaders for training, validation, and testing.\n",
    "\n",
    "    Parameters:\n",
    "    - netmats (array-like): Pairwise correlation matrices.\n",
    "    - edges (array-like): Regions that make up each pairwise correlation from `netmats`.\n",
    "    - labels (array-like): Labels indicating gender (0 for male, 1 for female).\n",
    "    - collate_fn (function, optional): Function to collate data samples into batches. Default is `collate`.\n",
    "\n",
    "    Returns:\n",
    "    A dictionary containing the following keys:\n",
    "    - 'dataset' (CorrelationDataset): The created dataset.\n",
    "    - 'train_loader' (torch.utils.data.DataLoader): DataLoader for training data.\n",
    "    - 'validate_loader' (torch.utils.data.DataLoader): DataLoader for validation data.\n",
    "    - 'test_loader' (torch.utils.data.DataLoader): DataLoader for test data.\n",
    "    \"\"\"\n",
    "    dataset = CorrelationDataset(netmats, edges, labels, split_ratio=(0.8, 0.1, 0.1))\n",
    "    train_loader = torch.utils.data.DataLoader(dataset, batch_size=1, sampler=SubsetRandomSampler(dataset.train_indices), collate_fn=collate_fn)\n",
    "    val_loader = torch.utils.data.DataLoader(dataset, batch_size=1, sampler=SubsetRandomSampler(dataset.val_indices), collate_fn=collate_fn)\n",
    "    test_loader = torch.utils.data.DataLoader(dataset, batch_size=1, sampler=SubsetRandomSampler(dataset.test_indices), collate_fn=collate_fn)\n",
    "    return {\n",
    "        'dataset': dataset,\n",
    "        'train_loader': train_loader,\n",
    "        'val_loader': val_loader,\n",
    "        'test_loader': test_loader\n",
    "    }"
   ]
  },
  {
   "cell_type": "code",
   "execution_count": 13,
   "metadata": {},
   "outputs": [
    {
     "name": "stdout",
     "output_type": "stream",
     "text": [
      "CPU times: total: 0 ns\n",
      "Wall time: 0 ns\n"
     ]
    }
   ],
   "source": [
    "%%time\n",
    "# train-validate-test splits\n",
    "# full dataset\n",
    "# full =  create_dataset(graphs, edges.T)\n",
    "# significant pairwise correlations only\n",
    "sig = create_dataset(graphs, edges_sig)\n",
    "# bonferroni significant pairwise correlations only\n",
    "# sig_b = create_dataset(graphs, np.argwhere(edges_sig_b).T)"
   ]
  },
  {
   "cell_type": "code",
   "execution_count": 14,
   "metadata": {},
   "outputs": [
    {
     "data": {
      "text/plain": [
       "{'graph': [Data(x=[100, 100], edge_index=[2, 1695])], 'label': [tensor(1)]}"
      ]
     },
     "execution_count": 14,
     "metadata": {},
     "output_type": "execute_result"
    }
   ],
   "source": [
    "foo = iter(sig['train_loader'])\n",
    "next(foo)"
   ]
  },
  {
   "cell_type": "markdown",
   "metadata": {},
   "source": [
    "## IV. Model Development"
   ]
  },
  {
   "cell_type": "code",
   "execution_count": 24,
   "metadata": {},
   "outputs": [],
   "source": [
    "# new imports for this section\n",
    "import matplotlib.pyplot as plt"
   ]
  },
  {
   "cell_type": "code",
   "execution_count": 172,
   "metadata": {},
   "outputs": [],
   "source": [
    "def train(model, data_loader, device, loss_fn, optimizer):\n",
    "    model.train()\n",
    "    total_loss = 0\n",
    "    num_true = 0\n",
    "    num_true_guesses = 0\n",
    "    for d in data_loader:\n",
    "        m = d['graph'][0]\n",
    "        m = m.to(device)\n",
    "        label = d['label'][0]\n",
    "        optimizer.zero_grad()\n",
    "        out = model(d).squeeze()\n",
    "        loss = loss_fn(out.float(), label.float())\n",
    "        loss.backward()\n",
    "        optimizer.step()\n",
    "        total_loss += loss.item()\n",
    "        pred = (out.double() > 0.5).float()\n",
    "        if pred == label.double():\n",
    "            num_true += 1\n",
    "        if pred == 1:\n",
    "            num_true_guesses += 1\n",
    "    return total_loss, num_true, num_true_guesses\n",
    "\n",
    "def eval(model, loader, device):\n",
    "    model.eval()\n",
    "    cor = 0\n",
    "    tot = 0\n",
    "    for d in loader:\n",
    "        with torch.no_grad():\n",
    "            out = model(d)\n",
    "            pred = (out.double() > 0.5).float()\n",
    "        y = d['label'][0]\n",
    "        cor += (pred == y).sum()\n",
    "        tot += pred.shape[0]\n",
    "    return cor/tot\n",
    "\n",
    "def train_validate_model(model, optimizer, criterion, dataset):\n",
    "    train_data = 'train_loader'\n",
    "    val_data = 'val_loader'\n",
    "    test_data = 'test_loader'\n",
    "\n",
    "    device = torch.device(\"cuda\" if torch.cuda.is_available() else \"cpu\")\n",
    "    model.to(device)\n",
    "    \n",
    "    losses = []\n",
    "    num_epochs = 50\n",
    "    for epoch in range(num_epochs):\n",
    "        loss, num_true, num_true_guesses = train(model, dataset[train_data], device, criterion, optimizer)\n",
    "        train_results = eval(model, dataset[train_data], device)\n",
    "        val_results = eval(model, dataset[val_data], device)\n",
    "        losses.append(loss)\n",
    "        avg_loss = loss / len(sig[train_data])\n",
    "        print(f'Epoch: {epoch + 1}/{num_epochs}, '\n",
    "              f'Loss: {loss}, '\n",
    "              f'Avg Loss: {avg_loss:.3f}, '\n",
    "              f'Train: {100 * train_results:.2f}%, '\n",
    "              f'Validation: {100 * val_results:.2f}%, '\n",
    "              f'Num Correct: {num_true}, '\n",
    "              f'True Guesses: {num_true_guesses} ')\n",
    "    plt.plot(losses)\n",
    "    plt.show() \n",
    "    return avg_loss"
   ]
  },
  {
   "cell_type": "code",
   "execution_count": 177,
   "metadata": {
    "scrolled": true
   },
   "outputs": [
    {
     "name": "stdout",
     "output_type": "stream",
     "text": [
      "GCN(\n",
      "  (conv1): GCNConv(100, 150)\n",
      "  (bn1): BatchNorm1d(150, eps=1e-05, momentum=0.1, affine=True, track_running_stats=True)\n",
      "  (conv2): GCNConv(150, 50)\n",
      "  (bn2): BatchNorm1d(50, eps=1e-05, momentum=0.1, affine=True, track_running_stats=True)\n",
      "  (classifier): Linear(in_features=50, out_features=1, bias=True)\n",
      ")\n"
     ]
    }
   ],
   "source": [
    "class GCN(nn.Module):\n",
    "    def __init__(self,):\n",
    "        super(GCN, self).__init__()\n",
    "        self.conv1 = GCNConv(100, 150)\n",
    "        self.bn1 = nn.BatchNorm1d(150)\n",
    "        self.conv2 = GCNConv(150, 50)\n",
    "        self.bn2 = nn.BatchNorm1d(50)\n",
    "        self.classifier = Linear(50, 1)\n",
    "\n",
    "    def forward(self, data):\n",
    "        data = data['graph'][0]\n",
    "        x, edge_index = data.x, data.edge_index\n",
    "        x = self.conv1(x, edge_index)\n",
    "        x = self.bn1(x)\n",
    "        x = torch.tanh(x)\n",
    "        x = nn.Dropout(p=0.75)(x)\n",
    "        x = self.conv2(x, edge_index)\n",
    "        x = self.bn2(x)\n",
    "        x = torch.tanh(x)\n",
    "        x = nn.Dropout(p=0.75)(x)\n",
    "        x = self.classifier(x).mean(dim=0)\n",
    "        x = torch.sigmoid(x)\n",
    "        return x\n",
    "    \n",
    "model = GCN()\n",
    "print(model)"
   ]
  },
  {
   "cell_type": "code",
   "execution_count": 179,
   "metadata": {},
   "outputs": [
    {
     "name": "stdout",
     "output_type": "stream",
     "text": [
      "Epoch: 1/50, Loss: 553.9281856715679, Avg Loss: 0.691, Train: 46.76%, Validation: 51.00%, Num Correct: 428, True Guesses: 626 \n",
      "Epoch: 2/50, Loss: 551.9193088114262, Avg Loss: 0.688, Train: 51.87%, Validation: 46.00%, Num Correct: 425, True Guesses: 531 \n",
      "Epoch: 3/50, Loss: 554.5436206459999, Avg Loss: 0.691, Train: 45.26%, Validation: 51.00%, Num Correct: 421, True Guesses: 735 \n",
      "Epoch: 4/50, Loss: 547.5814880430698, Avg Loss: 0.683, Train: 42.14%, Validation: 47.00%, Num Correct: 444, True Guesses: 568 \n",
      "Epoch: 5/50, Loss: 537.8227994143963, Avg Loss: 0.671, Train: 38.28%, Validation: 42.00%, Num Correct: 467, True Guesses: 651 \n",
      "Epoch: 6/50, Loss: 521.7958734929562, Avg Loss: 0.651, Train: 36.78%, Validation: 41.00%, Num Correct: 502, True Guesses: 532 \n",
      "Epoch: 7/50, Loss: 482.20167081803083, Avg Loss: 0.601, Train: 35.66%, Validation: 41.00%, Num Correct: 542, True Guesses: 484 \n",
      "Epoch: 8/50, Loss: 455.2750052176416, Avg Loss: 0.568, Train: 34.16%, Validation: 40.00%, Num Correct: 573, True Guesses: 471 \n",
      "Epoch: 9/50, Loss: 430.1060725077987, Avg Loss: 0.536, Train: 33.54%, Validation: 44.00%, Num Correct: 594, True Guesses: 454 \n",
      "Epoch: 10/50, Loss: 415.9422990810126, Avg Loss: 0.519, Train: 34.66%, Validation: 43.00%, Num Correct: 601, True Guesses: 441 \n",
      "Epoch: 11/50, Loss: 389.9565868023783, Avg Loss: 0.486, Train: 35.54%, Validation: 40.00%, Num Correct: 626, True Guesses: 448 \n",
      "Epoch: 12/50, Loss: 391.5719941747375, Avg Loss: 0.488, Train: 35.41%, Validation: 41.00%, Num Correct: 615, True Guesses: 435 \n",
      "Epoch: 13/50, Loss: 376.40180076286197, Avg Loss: 0.469, Train: 35.91%, Validation: 39.00%, Num Correct: 633, True Guesses: 449 \n",
      "Epoch: 14/50, Loss: 383.1629740782082, Avg Loss: 0.478, Train: 35.29%, Validation: 40.00%, Num Correct: 624, True Guesses: 448 \n",
      "Epoch: 15/50, Loss: 360.114590436453, Avg Loss: 0.449, Train: 33.92%, Validation: 48.00%, Num Correct: 644, True Guesses: 448 \n",
      "Epoch: 16/50, Loss: 352.0797146752011, Avg Loss: 0.439, Train: 32.54%, Validation: 43.00%, Num Correct: 634, True Guesses: 440 \n",
      "Epoch: 17/50, Loss: 353.80218442482874, Avg Loss: 0.441, Train: 36.16%, Validation: 44.00%, Num Correct: 638, True Guesses: 438 \n",
      "Epoch: 18/50, Loss: 343.9648276644293, Avg Loss: 0.429, Train: 36.41%, Validation: 37.00%, Num Correct: 642, True Guesses: 428 \n",
      "Epoch: 19/50, Loss: 331.1179185414221, Avg Loss: 0.413, Train: 32.67%, Validation: 39.00%, Num Correct: 654, True Guesses: 446 \n",
      "Epoch: 20/50, Loss: 340.1253505158238, Avg Loss: 0.424, Train: 34.16%, Validation: 41.00%, Num Correct: 645, True Guesses: 441 \n",
      "Epoch: 21/50, Loss: 347.7180650867522, Avg Loss: 0.434, Train: 40.15%, Validation: 36.00%, Num Correct: 633, True Guesses: 437 \n",
      "Epoch: 22/50, Loss: 312.09176627593115, Avg Loss: 0.389, Train: 34.54%, Validation: 39.00%, Num Correct: 665, True Guesses: 433 \n",
      "Epoch: 23/50, Loss: 336.49368140718434, Avg Loss: 0.420, Train: 33.54%, Validation: 41.00%, Num Correct: 649, True Guesses: 447 \n",
      "Epoch: 24/50, Loss: 336.23281036596745, Avg Loss: 0.419, Train: 33.67%, Validation: 40.00%, Num Correct: 650, True Guesses: 436 \n",
      "Epoch: 25/50, Loss: 316.17632034770213, Avg Loss: 0.394, Train: 33.29%, Validation: 42.00%, Num Correct: 661, True Guesses: 445 \n",
      "Epoch: 26/50, Loss: 311.56956283468753, Avg Loss: 0.388, Train: 33.04%, Validation: 35.00%, Num Correct: 658, True Guesses: 438 \n",
      "Epoch: 27/50, Loss: 302.7389518979471, Avg Loss: 0.377, Train: 32.67%, Validation: 40.00%, Num Correct: 659, True Guesses: 443 \n",
      "Epoch: 28/50, Loss: 291.4071522442391, Avg Loss: 0.363, Train: 31.42%, Validation: 40.00%, Num Correct: 672, True Guesses: 426 \n",
      "Epoch: 29/50, Loss: 307.67251446889713, Avg Loss: 0.384, Train: 32.54%, Validation: 41.00%, Num Correct: 655, True Guesses: 433 \n",
      "Epoch: 30/50, Loss: 299.11586464132415, Avg Loss: 0.373, Train: 33.42%, Validation: 36.00%, Num Correct: 664, True Guesses: 428 \n",
      "Epoch: 31/50, Loss: 292.52386008080794, Avg Loss: 0.365, Train: 34.79%, Validation: 31.00%, Num Correct: 665, True Guesses: 443 \n",
      "Epoch: 32/50, Loss: 278.8356157277012, Avg Loss: 0.348, Train: 31.92%, Validation: 40.00%, Num Correct: 678, True Guesses: 432 \n",
      "Epoch: 33/50, Loss: 301.9683777546743, Avg Loss: 0.377, Train: 35.29%, Validation: 39.00%, Num Correct: 670, True Guesses: 434 \n",
      "Epoch: 34/50, Loss: 290.48447013029363, Avg Loss: 0.362, Train: 35.16%, Validation: 41.00%, Num Correct: 675, True Guesses: 443 \n",
      "Epoch: 35/50, Loss: 302.4787364313088, Avg Loss: 0.377, Train: 33.92%, Validation: 47.00%, Num Correct: 679, True Guesses: 443 \n",
      "Epoch: 36/50, Loss: 281.9896098243771, Avg Loss: 0.352, Train: 34.79%, Validation: 35.00%, Num Correct: 683, True Guesses: 431 \n",
      "Epoch: 37/50, Loss: 270.83800837839954, Avg Loss: 0.338, Train: 35.29%, Validation: 40.00%, Num Correct: 682, True Guesses: 438 \n",
      "Epoch: 38/50, Loss: 270.08677704341244, Avg Loss: 0.337, Train: 33.04%, Validation: 41.00%, Num Correct: 685, True Guesses: 439 \n",
      "Epoch: 39/50, Loss: 276.24131983995903, Avg Loss: 0.344, Train: 34.16%, Validation: 42.00%, Num Correct: 684, True Guesses: 428 \n",
      "Epoch: 40/50, Loss: 264.1861763053457, Avg Loss: 0.329, Train: 34.91%, Validation: 40.00%, Num Correct: 687, True Guesses: 441 \n",
      "Epoch: 41/50, Loss: 274.8781819610449, Avg Loss: 0.343, Train: 33.29%, Validation: 42.00%, Num Correct: 681, True Guesses: 429 \n",
      "Epoch: 42/50, Loss: 269.76737091813993, Avg Loss: 0.336, Train: 33.04%, Validation: 38.00%, Num Correct: 685, True Guesses: 445 \n",
      "Epoch: 43/50, Loss: 258.64007576028234, Avg Loss: 0.322, Train: 33.17%, Validation: 41.00%, Num Correct: 681, True Guesses: 435 \n",
      "Epoch: 44/50, Loss: 269.7810882569174, Avg Loss: 0.336, Train: 32.67%, Validation: 39.00%, Num Correct: 685, True Guesses: 441 \n",
      "Epoch: 45/50, Loss: 279.45003923767945, Avg Loss: 0.348, Train: 38.90%, Validation: 39.00%, Num Correct: 676, True Guesses: 452 \n",
      "Epoch: 46/50, Loss: 265.4103803887847, Avg Loss: 0.331, Train: 33.29%, Validation: 41.00%, Num Correct: 679, True Guesses: 427 \n",
      "Epoch: 47/50, Loss: 253.43968061234045, Avg Loss: 0.316, Train: 33.17%, Validation: 38.00%, Num Correct: 700, True Guesses: 426 \n",
      "Epoch: 48/50, Loss: 297.17609468259616, Avg Loss: 0.371, Train: 32.79%, Validation: 46.00%, Num Correct: 668, True Guesses: 434 \n",
      "Epoch: 49/50, Loss: 253.30415814963635, Avg Loss: 0.316, Train: 32.67%, Validation: 39.00%, Num Correct: 693, True Guesses: 439 \n",
      "Epoch: 50/50, Loss: 261.5718418400793, Avg Loss: 0.326, Train: 35.66%, Validation: 38.00%, Num Correct: 689, True Guesses: 439 \n"
     ]
    },
    {
     "data": {
      "image/png": "[encoded data removed]",
      "text/plain": [
       "<Figure size 640x480 with 1 Axes>"
      ]
     },
     "metadata": {},
     "output_type": "display_data"
    },
    {
     "data": {
      "text/plain": [
       "0.3261494287282784"
      ]
     },
     "execution_count": 179,
     "metadata": {},
     "output_type": "execute_result"
    }
   ],
   "source": [
    "train_validate_model(model=model, optimizer=torch.optim.Adam(model.parameters(), lr=0.003), criterion=nn.BCELoss(), dataset=sig)"
   ]
  },
  {
   "cell_type": "code",
   "execution_count": 194,
   "metadata": {},
   "outputs": [],
   "source": [
    "# 2-layer models\n",
    "\n",
    "class twoGCN_custom(nn.Module):\n",
    "    \"\"\"\n",
    "    Graph Convolutional Network (GCN) with customizable hyperparameters.\n",
    "\n",
    "    Args:\n",
    "        input_dim (int): Dimension of the input features.\n",
    "        hidden_dim1 (int): Dimension of the first hidden layer.\n",
    "        hidden_dim2 (int): Dimension of the second hidden layer.\n",
    "        output_dim (int): Dimension of the output.\n",
    "        dropout_prob (float): Dropout probability.\n",
    "\n",
    "    Attributes:\n",
    "        conv1 (GCNConv): First graph convolutional layer.\n",
    "        bn1 (BatchNorm1d): Batch normalization layer for the first hidden layer.\n",
    "        conv2 (GCNConv): Second graph convolutional layer.\n",
    "        bn2 (BatchNorm1d): Batch normalization layer for the second hidden layer.\n",
    "        classifier (Linear): Linear layer for classification.\n",
    "        dropout_prob (float): Dropout probability.\n",
    "\n",
    "    \"\"\"\n",
    "    def __init__(self, input_dim, hidden_dim1, hidden_dim2, dropout_prob):\n",
    "        super(twoGCN_custom, self).__init__()\n",
    "        self.conv1 = GCNConv(input_dim, hidden_dim1)\n",
    "        self.bn1 = nn.BatchNorm1d(hidden_dim1)\n",
    "        self.conv2 = GCNConv(hidden_dim1, hidden_dim2)\n",
    "        self.bn2 = nn.BatchNorm1d(hidden_dim2)\n",
    "        self.classifier = Linear(hidden_dim2, 1) # output dimension will always be 1\n",
    "        self.dropout_prob = dropout_prob\n",
    "\n",
    "    def forward(self, data):\n",
    "        data = data['graph'][0]\n",
    "        x, edge_index = data.x, data.edge_index\n",
    "        x = self.conv1(x, edge_index)\n",
    "        x = self.bn1(x)\n",
    "        x = torch.tanh(x)\n",
    "        x = nn.Dropout(p=self.dropout_prob)(x)\n",
    "        x = self.conv2(x, edge_index)\n",
    "        x = self.bn2(x)\n",
    "        x = torch.tanh(x)\n",
    "        x = nn.Dropout(p=self.dropout_prob)(x)\n",
    "        x = self.classifier(x).mean(dim=0)\n",
    "        x = torch.sigmoid(x)\n",
    "        return x"
   ]
  },
  {
   "cell_type": "code",
   "execution_count": 195,
   "metadata": {},
   "outputs": [
    {
     "name": "stdout",
     "output_type": "stream",
     "text": [
      "twoGCN_custom(\n",
      "  (conv1): GCNConv(100, 150)\n",
      "  (bn1): BatchNorm1d(150, eps=1e-05, momentum=0.1, affine=True, track_running_stats=True)\n",
      "  (conv2): GCNConv(150, 50)\n",
      "  (bn2): BatchNorm1d(50, eps=1e-05, momentum=0.1, affine=True, track_running_stats=True)\n",
      "  (classifier): Linear(in_features=50, out_features=1, bias=True)\n",
      ")\n",
      "Epoch: 1/50, Loss: 554.1513394713402, Avg Loss: 0.691, Train: 51.62%, Validation: 52.00%, Num Correct: 421, True Guesses: 665 \n",
      "Epoch: 2/50, Loss: 555.713864326477, Avg Loss: 0.693, Train: 50.75%, Validation: 58.00%, Num Correct: 413, True Guesses: 677 \n",
      "Epoch: 3/50, Loss: 555.1831057071686, Avg Loss: 0.692, Train: 53.12%, Validation: 46.00%, Num Correct: 424, True Guesses: 662 \n",
      "Epoch: 4/50, Loss: 555.3193711638451, Avg Loss: 0.692, Train: 51.87%, Validation: 55.00%, Num Correct: 412, True Guesses: 678 \n",
      "Epoch: 5/50, Loss: 556.0938875079155, Avg Loss: 0.693, Train: 52.37%, Validation: 47.00%, Num Correct: 404, True Guesses: 666 \n",
      "Epoch: 6/50, Loss: 555.1137402653694, Avg Loss: 0.692, Train: 51.00%, Validation: 52.00%, Num Correct: 427, True Guesses: 667 \n",
      "Epoch: 7/50, Loss: 555.6252665519714, Avg Loss: 0.693, Train: 52.00%, Validation: 53.00%, Num Correct: 411, True Guesses: 671 \n",
      "Epoch: 8/50, Loss: 556.0921890735626, Avg Loss: 0.693, Train: 51.12%, Validation: 48.00%, Num Correct: 413, True Guesses: 653 \n",
      "Epoch: 9/50, Loss: 555.6004852056503, Avg Loss: 0.693, Train: 48.38%, Validation: 55.00%, Num Correct: 395, True Guesses: 653 \n",
      "Epoch: 10/50, Loss: 555.0355906486511, Avg Loss: 0.692, Train: 51.25%, Validation: 43.00%, Num Correct: 423, True Guesses: 655 \n",
      "Epoch: 11/50, Loss: 555.9989376068115, Avg Loss: 0.693, Train: 51.12%, Validation: 50.00%, Num Correct: 414, True Guesses: 674 \n",
      "Epoch: 12/50, Loss: 555.8799725174904, Avg Loss: 0.693, Train: 50.75%, Validation: 52.00%, Num Correct: 419, True Guesses: 667 \n",
      "Epoch: 13/50, Loss: 555.4344089627266, Avg Loss: 0.693, Train: 52.99%, Validation: 50.00%, Num Correct: 412, True Guesses: 678 \n",
      "Epoch: 14/50, Loss: 555.0618036985397, Avg Loss: 0.692, Train: 50.12%, Validation: 51.00%, Num Correct: 416, True Guesses: 668 \n",
      "Epoch: 15/50, Loss: 555.1616614460945, Avg Loss: 0.692, Train: 49.38%, Validation: 54.00%, Num Correct: 425, True Guesses: 677 \n",
      "Epoch: 16/50, Loss: 554.9738630056381, Avg Loss: 0.692, Train: 49.13%, Validation: 54.00%, Num Correct: 421, True Guesses: 671 \n",
      "Epoch: 17/50, Loss: 555.1765239834785, Avg Loss: 0.692, Train: 51.12%, Validation: 56.00%, Num Correct: 412, True Guesses: 666 \n",
      "Epoch: 18/50, Loss: 554.9264975190163, Avg Loss: 0.692, Train: 50.62%, Validation: 50.00%, Num Correct: 428, True Guesses: 652 \n",
      "Epoch: 19/50, Loss: 555.3653203845024, Avg Loss: 0.692, Train: 52.12%, Validation: 49.00%, Num Correct: 436, True Guesses: 692 \n",
      "Epoch: 20/50, Loss: 555.3612604141235, Avg Loss: 0.692, Train: 53.24%, Validation: 50.00%, Num Correct: 427, True Guesses: 671 \n",
      "Epoch: 21/50, Loss: 555.0824365019798, Avg Loss: 0.692, Train: 51.75%, Validation: 49.00%, Num Correct: 412, True Guesses: 668 \n",
      "Epoch: 22/50, Loss: 554.9952149391174, Avg Loss: 0.692, Train: 50.37%, Validation: 37.00%, Num Correct: 437, True Guesses: 663 \n",
      "Epoch: 23/50, Loss: 555.0600780844688, Avg Loss: 0.692, Train: 53.37%, Validation: 48.00%, Num Correct: 440, True Guesses: 654 \n",
      "Epoch: 24/50, Loss: 554.8560121655464, Avg Loss: 0.692, Train: 50.00%, Validation: 49.00%, Num Correct: 421, True Guesses: 653 \n",
      "Epoch: 25/50, Loss: 555.4055652022362, Avg Loss: 0.693, Train: 51.12%, Validation: 52.00%, Num Correct: 410, True Guesses: 664 \n",
      "Epoch: 26/50, Loss: 554.7769042253494, Avg Loss: 0.692, Train: 52.37%, Validation: 59.00%, Num Correct: 423, True Guesses: 677 \n",
      "Epoch: 27/50, Loss: 555.8906936645508, Avg Loss: 0.693, Train: 50.87%, Validation: 51.00%, Num Correct: 414, True Guesses: 664 \n",
      "Epoch: 28/50, Loss: 555.9485040307045, Avg Loss: 0.693, Train: 50.25%, Validation: 46.00%, Num Correct: 411, True Guesses: 681 \n",
      "Epoch: 29/50, Loss: 555.3877238035202, Avg Loss: 0.693, Train: 50.50%, Validation: 55.00%, Num Correct: 415, True Guesses: 673 \n",
      "Epoch: 30/50, Loss: 554.6860311031342, Avg Loss: 0.692, Train: 54.11%, Validation: 48.00%, Num Correct: 431, True Guesses: 669 \n",
      "Epoch: 31/50, Loss: 555.7991720438004, Avg Loss: 0.693, Train: 52.74%, Validation: 49.00%, Num Correct: 417, True Guesses: 671 \n",
      "Epoch: 32/50, Loss: 555.686871945858, Avg Loss: 0.693, Train: 50.00%, Validation: 47.00%, Num Correct: 407, True Guesses: 665 \n",
      "Epoch: 33/50, Loss: 556.5433408021927, Avg Loss: 0.694, Train: 50.25%, Validation: 49.00%, Num Correct: 393, True Guesses: 663 \n",
      "Epoch: 34/50, Loss: 555.20362585783, Avg Loss: 0.692, Train: 51.62%, Validation: 56.00%, Num Correct: 414, True Guesses: 688 \n",
      "Epoch: 35/50, Loss: 555.6302596330643, Avg Loss: 0.693, Train: 52.24%, Validation: 52.00%, Num Correct: 413, True Guesses: 667 \n",
      "Epoch: 36/50, Loss: 554.7955407500267, Avg Loss: 0.692, Train: 52.24%, Validation: 55.00%, Num Correct: 426, True Guesses: 670 \n",
      "Epoch: 37/50, Loss: 555.4029088020325, Avg Loss: 0.693, Train: 51.87%, Validation: 47.00%, Num Correct: 417, True Guesses: 679 \n",
      "Epoch: 38/50, Loss: 555.3961895704269, Avg Loss: 0.693, Train: 52.74%, Validation: 52.00%, Num Correct: 423, True Guesses: 661 \n",
      "Epoch: 39/50, Loss: 555.9594368338585, Avg Loss: 0.693, Train: 52.24%, Validation: 53.00%, Num Correct: 402, True Guesses: 676 \n",
      "Epoch: 40/50, Loss: 555.0842547416687, Avg Loss: 0.692, Train: 53.62%, Validation: 55.00%, Num Correct: 443, True Guesses: 677 \n",
      "Epoch: 41/50, Loss: 556.2096046805382, Avg Loss: 0.694, Train: 51.12%, Validation: 55.00%, Num Correct: 401, True Guesses: 675 \n"
     ]
    },
    {
     "ename": "KeyboardInterrupt",
     "evalue": "",
     "output_type": "error",
     "traceback": [
      "\u001b[1;31m---------------------------------------------------------------------------\u001b[0m",
      "\u001b[1;31mKeyboardInterrupt\u001b[0m                         Traceback (most recent call last)",
      "Cell \u001b[1;32mIn[195], line 9\u001b[0m\n\u001b[0;32m      1\u001b[0m twoGCN_1 \u001b[38;5;241m=\u001b[39m twoGCN_custom(\n\u001b[0;32m      2\u001b[0m     input_dim\u001b[38;5;241m=\u001b[39m\u001b[38;5;241m100\u001b[39m,\n\u001b[0;32m      3\u001b[0m     hidden_dim1\u001b[38;5;241m=\u001b[39m\u001b[38;5;241m150\u001b[39m, \n\u001b[1;32m   (...)\u001b[0m\n\u001b[0;32m      6\u001b[0m     activation_functions\u001b[38;5;241m=\u001b[39m[torch\u001b[38;5;241m.\u001b[39mtanh, torch\u001b[38;5;241m.\u001b[39mtanh]\n\u001b[0;32m      7\u001b[0m )\n\u001b[0;32m      8\u001b[0m \u001b[38;5;28mprint\u001b[39m(twoGCN_1)\n\u001b[1;32m----> 9\u001b[0m train_validate_model(model\u001b[38;5;241m=\u001b[39mtwoGCN_1, optimizer\u001b[38;5;241m=\u001b[39mtorch\u001b[38;5;241m.\u001b[39moptim\u001b[38;5;241m.\u001b[39mAdam(model\u001b[38;5;241m.\u001b[39mparameters(), lr\u001b[38;5;241m=\u001b[39m\u001b[38;5;241m0.003\u001b[39m), criterion\u001b[38;5;241m=\u001b[39mnn\u001b[38;5;241m.\u001b[39mBCELoss(), dataset\u001b[38;5;241m=\u001b[39msig)\n",
      "Cell \u001b[1;32mIn[172], line 49\u001b[0m, in \u001b[0;36mtrain_validate_model\u001b[1;34m(model, optimizer, criterion, dataset)\u001b[0m\n\u001b[0;32m     47\u001b[0m loss, num_true, num_true_guesses \u001b[38;5;241m=\u001b[39m train(model, dataset[train_data], device, criterion, optimizer)\n\u001b[0;32m     48\u001b[0m train_results \u001b[38;5;241m=\u001b[39m \u001b[38;5;28meval\u001b[39m(model, dataset[train_data], device)\n\u001b[1;32m---> 49\u001b[0m val_results \u001b[38;5;241m=\u001b[39m \u001b[38;5;28meval\u001b[39m(model, dataset[val_data], device)\n\u001b[0;32m     50\u001b[0m losses\u001b[38;5;241m.\u001b[39mappend(loss)\n\u001b[0;32m     51\u001b[0m avg_loss \u001b[38;5;241m=\u001b[39m loss \u001b[38;5;241m/\u001b[39m \u001b[38;5;28mlen\u001b[39m(sig[train_data])\n",
      "Cell \u001b[1;32mIn[172], line 29\u001b[0m, in \u001b[0;36meval\u001b[1;34m(model, loader, device)\u001b[0m\n\u001b[0;32m     27\u001b[0m \u001b[38;5;28;01mfor\u001b[39;00m d \u001b[38;5;129;01min\u001b[39;00m loader:\n\u001b[0;32m     28\u001b[0m     \u001b[38;5;28;01mwith\u001b[39;00m torch\u001b[38;5;241m.\u001b[39mno_grad():\n\u001b[1;32m---> 29\u001b[0m         out \u001b[38;5;241m=\u001b[39m model(d)\n\u001b[0;32m     30\u001b[0m         pred \u001b[38;5;241m=\u001b[39m (out\u001b[38;5;241m.\u001b[39mdouble() \u001b[38;5;241m>\u001b[39m \u001b[38;5;241m0.5\u001b[39m)\u001b[38;5;241m.\u001b[39mfloat()\n\u001b[0;32m     31\u001b[0m     y \u001b[38;5;241m=\u001b[39m d[\u001b[38;5;124m'\u001b[39m\u001b[38;5;124mlabel\u001b[39m\u001b[38;5;124m'\u001b[39m][\u001b[38;5;241m0\u001b[39m]\n",
      "File \u001b[1;32m~\\anaconda3\\envs\\capstone\\Lib\\site-packages\\torch\\nn\\modules\\module.py:1511\u001b[0m, in \u001b[0;36mModule._wrapped_call_impl\u001b[1;34m(self, *args, **kwargs)\u001b[0m\n\u001b[0;32m   1509\u001b[0m     \u001b[38;5;28;01mreturn\u001b[39;00m \u001b[38;5;28mself\u001b[39m\u001b[38;5;241m.\u001b[39m_compiled_call_impl(\u001b[38;5;241m*\u001b[39margs, \u001b[38;5;241m*\u001b[39m\u001b[38;5;241m*\u001b[39mkwargs)  \u001b[38;5;66;03m# type: ignore[misc]\u001b[39;00m\n\u001b[0;32m   1510\u001b[0m \u001b[38;5;28;01melse\u001b[39;00m:\n\u001b[1;32m-> 1511\u001b[0m     \u001b[38;5;28;01mreturn\u001b[39;00m \u001b[38;5;28mself\u001b[39m\u001b[38;5;241m.\u001b[39m_call_impl(\u001b[38;5;241m*\u001b[39margs, \u001b[38;5;241m*\u001b[39m\u001b[38;5;241m*\u001b[39mkwargs)\n",
      "File \u001b[1;32m~\\anaconda3\\envs\\capstone\\Lib\\site-packages\\torch\\nn\\modules\\module.py:1520\u001b[0m, in \u001b[0;36mModule._call_impl\u001b[1;34m(self, *args, **kwargs)\u001b[0m\n\u001b[0;32m   1515\u001b[0m \u001b[38;5;66;03m# If we don't have any hooks, we want to skip the rest of the logic in\u001b[39;00m\n\u001b[0;32m   1516\u001b[0m \u001b[38;5;66;03m# this function, and just call forward.\u001b[39;00m\n\u001b[0;32m   1517\u001b[0m \u001b[38;5;28;01mif\u001b[39;00m \u001b[38;5;129;01mnot\u001b[39;00m (\u001b[38;5;28mself\u001b[39m\u001b[38;5;241m.\u001b[39m_backward_hooks \u001b[38;5;129;01mor\u001b[39;00m \u001b[38;5;28mself\u001b[39m\u001b[38;5;241m.\u001b[39m_backward_pre_hooks \u001b[38;5;129;01mor\u001b[39;00m \u001b[38;5;28mself\u001b[39m\u001b[38;5;241m.\u001b[39m_forward_hooks \u001b[38;5;129;01mor\u001b[39;00m \u001b[38;5;28mself\u001b[39m\u001b[38;5;241m.\u001b[39m_forward_pre_hooks\n\u001b[0;32m   1518\u001b[0m         \u001b[38;5;129;01mor\u001b[39;00m _global_backward_pre_hooks \u001b[38;5;129;01mor\u001b[39;00m _global_backward_hooks\n\u001b[0;32m   1519\u001b[0m         \u001b[38;5;129;01mor\u001b[39;00m _global_forward_hooks \u001b[38;5;129;01mor\u001b[39;00m _global_forward_pre_hooks):\n\u001b[1;32m-> 1520\u001b[0m     \u001b[38;5;28;01mreturn\u001b[39;00m forward_call(\u001b[38;5;241m*\u001b[39margs, \u001b[38;5;241m*\u001b[39m\u001b[38;5;241m*\u001b[39mkwargs)\n\u001b[0;32m   1522\u001b[0m \u001b[38;5;28;01mtry\u001b[39;00m:\n\u001b[0;32m   1523\u001b[0m     result \u001b[38;5;241m=\u001b[39m \u001b[38;5;28;01mNone\u001b[39;00m\n",
      "Cell \u001b[1;32mIn[194], line 38\u001b[0m, in \u001b[0;36mtwoGCN_custom.forward\u001b[1;34m(self, data)\u001b[0m\n\u001b[0;32m     36\u001b[0m data \u001b[38;5;241m=\u001b[39m data[\u001b[38;5;124m'\u001b[39m\u001b[38;5;124mgraph\u001b[39m\u001b[38;5;124m'\u001b[39m][\u001b[38;5;241m0\u001b[39m]\n\u001b[0;32m     37\u001b[0m x, edge_index \u001b[38;5;241m=\u001b[39m data\u001b[38;5;241m.\u001b[39mx, data\u001b[38;5;241m.\u001b[39medge_index\n\u001b[1;32m---> 38\u001b[0m x \u001b[38;5;241m=\u001b[39m \u001b[38;5;28mself\u001b[39m\u001b[38;5;241m.\u001b[39mconv1(x, edge_index)\n\u001b[0;32m     39\u001b[0m x \u001b[38;5;241m=\u001b[39m \u001b[38;5;28mself\u001b[39m\u001b[38;5;241m.\u001b[39mbn1(x)\n\u001b[0;32m     40\u001b[0m x \u001b[38;5;241m=\u001b[39m torch\u001b[38;5;241m.\u001b[39mtanh(x)\n",
      "File \u001b[1;32m~\\anaconda3\\envs\\capstone\\Lib\\site-packages\\torch\\nn\\modules\\module.py:1511\u001b[0m, in \u001b[0;36mModule._wrapped_call_impl\u001b[1;34m(self, *args, **kwargs)\u001b[0m\n\u001b[0;32m   1509\u001b[0m     \u001b[38;5;28;01mreturn\u001b[39;00m \u001b[38;5;28mself\u001b[39m\u001b[38;5;241m.\u001b[39m_compiled_call_impl(\u001b[38;5;241m*\u001b[39margs, \u001b[38;5;241m*\u001b[39m\u001b[38;5;241m*\u001b[39mkwargs)  \u001b[38;5;66;03m# type: ignore[misc]\u001b[39;00m\n\u001b[0;32m   1510\u001b[0m \u001b[38;5;28;01melse\u001b[39;00m:\n\u001b[1;32m-> 1511\u001b[0m     \u001b[38;5;28;01mreturn\u001b[39;00m \u001b[38;5;28mself\u001b[39m\u001b[38;5;241m.\u001b[39m_call_impl(\u001b[38;5;241m*\u001b[39margs, \u001b[38;5;241m*\u001b[39m\u001b[38;5;241m*\u001b[39mkwargs)\n",
      "File \u001b[1;32m~\\anaconda3\\envs\\capstone\\Lib\\site-packages\\torch\\nn\\modules\\module.py:1520\u001b[0m, in \u001b[0;36mModule._call_impl\u001b[1;34m(self, *args, **kwargs)\u001b[0m\n\u001b[0;32m   1515\u001b[0m \u001b[38;5;66;03m# If we don't have any hooks, we want to skip the rest of the logic in\u001b[39;00m\n\u001b[0;32m   1516\u001b[0m \u001b[38;5;66;03m# this function, and just call forward.\u001b[39;00m\n\u001b[0;32m   1517\u001b[0m \u001b[38;5;28;01mif\u001b[39;00m \u001b[38;5;129;01mnot\u001b[39;00m (\u001b[38;5;28mself\u001b[39m\u001b[38;5;241m.\u001b[39m_backward_hooks \u001b[38;5;129;01mor\u001b[39;00m \u001b[38;5;28mself\u001b[39m\u001b[38;5;241m.\u001b[39m_backward_pre_hooks \u001b[38;5;129;01mor\u001b[39;00m \u001b[38;5;28mself\u001b[39m\u001b[38;5;241m.\u001b[39m_forward_hooks \u001b[38;5;129;01mor\u001b[39;00m \u001b[38;5;28mself\u001b[39m\u001b[38;5;241m.\u001b[39m_forward_pre_hooks\n\u001b[0;32m   1518\u001b[0m         \u001b[38;5;129;01mor\u001b[39;00m _global_backward_pre_hooks \u001b[38;5;129;01mor\u001b[39;00m _global_backward_hooks\n\u001b[0;32m   1519\u001b[0m         \u001b[38;5;129;01mor\u001b[39;00m _global_forward_hooks \u001b[38;5;129;01mor\u001b[39;00m _global_forward_pre_hooks):\n\u001b[1;32m-> 1520\u001b[0m     \u001b[38;5;28;01mreturn\u001b[39;00m forward_call(\u001b[38;5;241m*\u001b[39margs, \u001b[38;5;241m*\u001b[39m\u001b[38;5;241m*\u001b[39mkwargs)\n\u001b[0;32m   1522\u001b[0m \u001b[38;5;28;01mtry\u001b[39;00m:\n\u001b[0;32m   1523\u001b[0m     result \u001b[38;5;241m=\u001b[39m \u001b[38;5;28;01mNone\u001b[39;00m\n",
      "File \u001b[1;32m~\\anaconda3\\envs\\capstone\\Lib\\site-packages\\torch_geometric\\nn\\conv\\gcn_conv.py:244\u001b[0m, in \u001b[0;36mGCNConv.forward\u001b[1;34m(self, x, edge_index, edge_weight)\u001b[0m\n\u001b[0;32m    241\u001b[0m x \u001b[38;5;241m=\u001b[39m \u001b[38;5;28mself\u001b[39m\u001b[38;5;241m.\u001b[39mlin(x)\n\u001b[0;32m    243\u001b[0m \u001b[38;5;66;03m# propagate_type: (x: Tensor, edge_weight: OptTensor)\u001b[39;00m\n\u001b[1;32m--> 244\u001b[0m out \u001b[38;5;241m=\u001b[39m \u001b[38;5;28mself\u001b[39m\u001b[38;5;241m.\u001b[39mpropagate(edge_index, x\u001b[38;5;241m=\u001b[39mx, edge_weight\u001b[38;5;241m=\u001b[39medge_weight,\n\u001b[0;32m    245\u001b[0m                      size\u001b[38;5;241m=\u001b[39m\u001b[38;5;28;01mNone\u001b[39;00m)\n\u001b[0;32m    247\u001b[0m \u001b[38;5;28;01mif\u001b[39;00m \u001b[38;5;28mself\u001b[39m\u001b[38;5;241m.\u001b[39mbias \u001b[38;5;129;01mis\u001b[39;00m \u001b[38;5;129;01mnot\u001b[39;00m \u001b[38;5;28;01mNone\u001b[39;00m:\n\u001b[0;32m    248\u001b[0m     out \u001b[38;5;241m=\u001b[39m out \u001b[38;5;241m+\u001b[39m \u001b[38;5;28mself\u001b[39m\u001b[38;5;241m.\u001b[39mbias\n",
      "File \u001b[1;32m~\\anaconda3\\envs\\capstone\\Lib\\site-packages\\torch_geometric\\nn\\conv\\message_passing.py:455\u001b[0m, in \u001b[0;36mMessagePassing.propagate\u001b[1;34m(self, edge_index, size, **kwargs)\u001b[0m\n\u001b[0;32m    452\u001b[0m     \u001b[38;5;28;01mfor\u001b[39;00m arg \u001b[38;5;129;01min\u001b[39;00m decomp_args:\n\u001b[0;32m    453\u001b[0m         kwargs[arg] \u001b[38;5;241m=\u001b[39m decomp_kwargs[arg][i]\n\u001b[1;32m--> 455\u001b[0m coll_dict \u001b[38;5;241m=\u001b[39m \u001b[38;5;28mself\u001b[39m\u001b[38;5;241m.\u001b[39m_collect(\u001b[38;5;28mself\u001b[39m\u001b[38;5;241m.\u001b[39m_user_args, edge_index, size,\n\u001b[0;32m    456\u001b[0m                           kwargs)\n\u001b[0;32m    458\u001b[0m msg_kwargs \u001b[38;5;241m=\u001b[39m \u001b[38;5;28mself\u001b[39m\u001b[38;5;241m.\u001b[39minspector\u001b[38;5;241m.\u001b[39mdistribute(\u001b[38;5;124m'\u001b[39m\u001b[38;5;124mmessage\u001b[39m\u001b[38;5;124m'\u001b[39m, coll_dict)\n\u001b[0;32m    459\u001b[0m \u001b[38;5;28;01mfor\u001b[39;00m hook \u001b[38;5;129;01min\u001b[39;00m \u001b[38;5;28mself\u001b[39m\u001b[38;5;241m.\u001b[39m_message_forward_pre_hooks\u001b[38;5;241m.\u001b[39mvalues():\n",
      "File \u001b[1;32m~\\anaconda3\\envs\\capstone\\Lib\\site-packages\\torch_geometric\\nn\\conv\\message_passing.py:329\u001b[0m, in \u001b[0;36mMessagePassing._collect\u001b[1;34m(self, args, edge_index, size, kwargs)\u001b[0m\n\u001b[0;32m    327\u001b[0m         \u001b[38;5;28;01mif\u001b[39;00m \u001b[38;5;28misinstance\u001b[39m(data, Tensor):\n\u001b[0;32m    328\u001b[0m             \u001b[38;5;28mself\u001b[39m\u001b[38;5;241m.\u001b[39m_set_size(size, dim, data)\n\u001b[1;32m--> 329\u001b[0m             data \u001b[38;5;241m=\u001b[39m \u001b[38;5;28mself\u001b[39m\u001b[38;5;241m.\u001b[39m_lift(data, edge_index, dim)\n\u001b[0;32m    331\u001b[0m         out[arg] \u001b[38;5;241m=\u001b[39m data\n\u001b[0;32m    333\u001b[0m \u001b[38;5;28;01mif\u001b[39;00m is_torch_sparse_tensor(edge_index):\n",
      "File \u001b[1;32m~\\anaconda3\\envs\\capstone\\Lib\\site-packages\\torch_geometric\\nn\\conv\\message_passing.py:266\u001b[0m, in \u001b[0;36mMessagePassing._lift\u001b[1;34m(self, src, edge_index, dim)\u001b[0m\n\u001b[0;32m    264\u001b[0m \u001b[38;5;28;01mtry\u001b[39;00m:\n\u001b[0;32m    265\u001b[0m     index \u001b[38;5;241m=\u001b[39m edge_index[dim]\n\u001b[1;32m--> 266\u001b[0m     \u001b[38;5;28;01mreturn\u001b[39;00m src\u001b[38;5;241m.\u001b[39mindex_select(\u001b[38;5;28mself\u001b[39m\u001b[38;5;241m.\u001b[39mnode_dim, index)\n\u001b[0;32m    267\u001b[0m \u001b[38;5;28;01mexcept\u001b[39;00m (\u001b[38;5;167;01mIndexError\u001b[39;00m, \u001b[38;5;167;01mRuntimeError\u001b[39;00m) \u001b[38;5;28;01mas\u001b[39;00m e:\n\u001b[0;32m    268\u001b[0m     \u001b[38;5;28;01mif\u001b[39;00m index\u001b[38;5;241m.\u001b[39mmin() \u001b[38;5;241m<\u001b[39m \u001b[38;5;241m0\u001b[39m \u001b[38;5;129;01mor\u001b[39;00m index\u001b[38;5;241m.\u001b[39mmax() \u001b[38;5;241m>\u001b[39m\u001b[38;5;241m=\u001b[39m src\u001b[38;5;241m.\u001b[39msize(\u001b[38;5;28mself\u001b[39m\u001b[38;5;241m.\u001b[39mnode_dim):\n",
      "\u001b[1;31mKeyboardInterrupt\u001b[0m: "
     ]
    }
   ],
   "source": [
    "twoGCN_1 = twoGCN_custom(\n",
    "    input_dim=100,\n",
    "    hidden_dim1=150, \n",
    "    hidden_dim2=50, \n",
    "    dropout_prob=0.50,\n",
    "    activation_functions=[torch.tanh, torch.tanh]\n",
    ")\n",
    "print(twoGCN_1)\n",
    "train_validate_model(model=twoGCN_1, optimizer=torch.optim.Adam(model.parameters(), lr=0.003), criterion=nn.BCELoss(), dataset=sig)"
   ]
  },
  {
   "cell_type": "code",
   "execution_count": null,
   "metadata": {},
   "outputs": [],
   "source": [
    "# twoGCN_1 = twoGCN_custom(\n",
    "#     input_dim=100,\n",
    "#     hidden_dim1=150, \n",
    "#     hidden_dim2=50, \n",
    "#     dropout_prob=0.50,\n",
    "#     activation_functions=[torch.tanh, torch.tanh]\n",
    "# )\n",
    "# print(twoGCN_1)\n",
    "# train_validate_model(model=twoGCN_1, optimizer=torch.optim.Adam(model.parameters(), lr=0.003), criterion=nn.BCELoss(), dataset=sig)"
   ]
  },
  {
   "cell_type": "code",
   "execution_count": null,
   "metadata": {},
   "outputs": [],
   "source": [
    "# twoGCN_3 = twoGCN_custom(\n",
    "#     input_dim=100, \n",
    "#     hidden_dim1=150, \n",
    "#     hidden_dim2=50, \n",
    "#     dropout_prob=0.50,\n",
    "#     activation_functions=[tanh, tanh]\n",
    "# )\n",
    "# print(twoGCN_2)\n",
    "# train_validate_model(model=twoGCN_3, optimizer=torch.optim.Adam(model.parameters(), lr=0.003), criterion=nn.BCELoss(), dataset=sig)"
   ]
  }
 ],
 "metadata": {
  "kernelspec": {
   "display_name": "Python 3 (ipykernel)",
   "language": "python",
   "name": "python3"
  },
  "language_info": {
   "codemirror_mode": {
    "name": "ipython",
    "version": 3
   },
   "file_extension": ".py",
   "mimetype": "text/x-python",
   "name": "python",
   "nbconvert_exporter": "python",
   "pygments_lexer": "ipython3",
   "version": "3.11.2"
  }
 },
 "nbformat": 4,
 "nbformat_minor": 4
}
