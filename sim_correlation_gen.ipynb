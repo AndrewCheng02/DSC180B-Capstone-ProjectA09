{
 "cells": [
  {
   "cell_type": "code",
   "execution_count": 18,
   "id": "d5363f55",
   "metadata": {},
   "outputs": [],
   "source": [
    "import numpy as np\n",
    "import matplotlib.pyplot as plt\n",
    "import seaborn as sns\n",
    "import pandas as pd\n",
    "import random"
   ]
  },
  {
   "cell_type": "code",
   "execution_count": 4,
   "id": "5fb8778e",
   "metadata": {},
   "outputs": [],
   "source": [
    "def mult_chance(row,mult_lst,chance):\n",
    "    if np.random.random() < chance:\n",
    "        return row * mult_lst\n",
    "    return row\n",
    "\n",
    "def gen_50(mult_lst):\n",
    "    # gen dataframe of random values from 0.1 to 0.2\n",
    "    df = pd.DataFrame(np.random.uniform(0.1,0.2,size=(50, 10)))\n",
    "\n",
    "    # multiply some rows by a specific list at a certain chance\n",
    "    df = df.apply(lambda x: mult_chance(x,mult_lst,0.2), axis=1)\n",
    "    return df"
   ]
  },
  {
   "cell_type": "code",
   "execution_count": 8,
   "id": "4a93e715",
   "metadata": {},
   "outputs": [
    {
     "data": {
      "text/html": [
       "<div>\n",
       "<style scoped>\n",
       "    .dataframe tbody tr th:only-of-type {\n",
       "        vertical-align: middle;\n",
       "    }\n",
       "\n",
       "    .dataframe tbody tr th {\n",
       "        vertical-align: top;\n",
       "    }\n",
       "\n",
       "    .dataframe thead th {\n",
       "        text-align: right;\n",
       "    }\n",
       "</style>\n",
       "<table border=\"1\" class=\"dataframe\">\n",
       "  <thead>\n",
       "    <tr style=\"text-align: right;\">\n",
       "      <th></th>\n",
       "      <th>0</th>\n",
       "      <th>1</th>\n",
       "      <th>2</th>\n",
       "      <th>3</th>\n",
       "      <th>4</th>\n",
       "      <th>5</th>\n",
       "      <th>6</th>\n",
       "      <th>7</th>\n",
       "      <th>8</th>\n",
       "      <th>9</th>\n",
       "    </tr>\n",
       "  </thead>\n",
       "  <tbody>\n",
       "    <tr>\n",
       "      <th>0</th>\n",
       "      <td>0.251866</td>\n",
       "      <td>0.231055</td>\n",
       "      <td>0.185355</td>\n",
       "      <td>0.219153</td>\n",
       "      <td>0.190766</td>\n",
       "      <td>0.142216</td>\n",
       "      <td>0.163567</td>\n",
       "      <td>0.169097</td>\n",
       "      <td>0.142962</td>\n",
       "      <td>0.176928</td>\n",
       "    </tr>\n",
       "    <tr>\n",
       "      <th>1</th>\n",
       "      <td>0.137481</td>\n",
       "      <td>0.159948</td>\n",
       "      <td>0.131435</td>\n",
       "      <td>0.162839</td>\n",
       "      <td>0.119288</td>\n",
       "      <td>0.187439</td>\n",
       "      <td>0.113183</td>\n",
       "      <td>0.117842</td>\n",
       "      <td>0.152798</td>\n",
       "      <td>0.146571</td>\n",
       "    </tr>\n",
       "    <tr>\n",
       "      <th>2</th>\n",
       "      <td>0.121580</td>\n",
       "      <td>0.186748</td>\n",
       "      <td>0.183153</td>\n",
       "      <td>0.135467</td>\n",
       "      <td>0.191310</td>\n",
       "      <td>0.172078</td>\n",
       "      <td>0.178153</td>\n",
       "      <td>0.122032</td>\n",
       "      <td>0.169720</td>\n",
       "      <td>0.122117</td>\n",
       "    </tr>\n",
       "    <tr>\n",
       "      <th>3</th>\n",
       "      <td>0.119615</td>\n",
       "      <td>0.193784</td>\n",
       "      <td>0.138262</td>\n",
       "      <td>0.106942</td>\n",
       "      <td>0.129685</td>\n",
       "      <td>0.150225</td>\n",
       "      <td>0.119323</td>\n",
       "      <td>0.127071</td>\n",
       "      <td>0.181262</td>\n",
       "      <td>0.101663</td>\n",
       "    </tr>\n",
       "    <tr>\n",
       "      <th>4</th>\n",
       "      <td>0.147339</td>\n",
       "      <td>0.149843</td>\n",
       "      <td>0.117734</td>\n",
       "      <td>0.136878</td>\n",
       "      <td>0.156865</td>\n",
       "      <td>0.160624</td>\n",
       "      <td>0.198033</td>\n",
       "      <td>0.133463</td>\n",
       "      <td>0.115248</td>\n",
       "      <td>0.126906</td>\n",
       "    </tr>\n",
       "  </tbody>\n",
       "</table>\n",
       "</div>"
      ],
      "text/plain": [
       "          0         1         2         3         4         5         6  \\\n",
       "0  0.251866  0.231055  0.185355  0.219153  0.190766  0.142216  0.163567   \n",
       "1  0.137481  0.159948  0.131435  0.162839  0.119288  0.187439  0.113183   \n",
       "2  0.121580  0.186748  0.183153  0.135467  0.191310  0.172078  0.178153   \n",
       "3  0.119615  0.193784  0.138262  0.106942  0.129685  0.150225  0.119323   \n",
       "4  0.147339  0.149843  0.117734  0.136878  0.156865  0.160624  0.198033   \n",
       "\n",
       "          7         8         9  \n",
       "0  0.169097  0.142962  0.176928  \n",
       "1  0.117842  0.152798  0.146571  \n",
       "2  0.122032  0.169720  0.122117  \n",
       "3  0.127071  0.181262  0.101663  \n",
       "4  0.133463  0.115248  0.126906  "
      ]
     },
     "metadata": {},
     "output_type": "display_data"
    },
    {
     "data": {
      "text/plain": [
       "<AxesSubplot: >"
      ]
     },
     "execution_count": 8,
     "metadata": {},
     "output_type": "execute_result"
    },
    {
     "data": {
      "image/png": "[encoded data removed]",
      "text/plain": [
       "<Figure size 640x480 with 2 Axes>"
      ]
     },
     "metadata": {},
     "output_type": "display_data"
    }
   ],
   "source": [
    "male_lst = [\n",
    "        2,\n",
    "        1.8,\n",
    "        1.6,\n",
    "        1.4,\n",
    "        1.2,\n",
    "        1,\n",
    "        1,\n",
    "        1,\n",
    "        1,\n",
    "        1\n",
    "    ]\n",
    "\n",
    "df = gen_50(male_lst)\n",
    "display(df.head())\n",
    "sns.heatmap(df.corr())"
   ]
  },
  {
   "cell_type": "code",
   "execution_count": 10,
   "id": "afce890d",
   "metadata": {},
   "outputs": [
    {
     "data": {
      "text/html": [
       "<div>\n",
       "<style scoped>\n",
       "    .dataframe tbody tr th:only-of-type {\n",
       "        vertical-align: middle;\n",
       "    }\n",
       "\n",
       "    .dataframe tbody tr th {\n",
       "        vertical-align: top;\n",
       "    }\n",
       "\n",
       "    .dataframe thead th {\n",
       "        text-align: right;\n",
       "    }\n",
       "</style>\n",
       "<table border=\"1\" class=\"dataframe\">\n",
       "  <thead>\n",
       "    <tr style=\"text-align: right;\">\n",
       "      <th></th>\n",
       "      <th>0</th>\n",
       "      <th>1</th>\n",
       "      <th>2</th>\n",
       "      <th>3</th>\n",
       "      <th>4</th>\n",
       "      <th>5</th>\n",
       "      <th>6</th>\n",
       "      <th>7</th>\n",
       "      <th>8</th>\n",
       "      <th>9</th>\n",
       "    </tr>\n",
       "  </thead>\n",
       "  <tbody>\n",
       "    <tr>\n",
       "      <th>0</th>\n",
       "      <td>0.104679</td>\n",
       "      <td>0.148318</td>\n",
       "      <td>0.196807</td>\n",
       "      <td>0.137549</td>\n",
       "      <td>0.159156</td>\n",
       "      <td>0.115130</td>\n",
       "      <td>0.146587</td>\n",
       "      <td>0.173856</td>\n",
       "      <td>0.146377</td>\n",
       "      <td>0.134636</td>\n",
       "    </tr>\n",
       "    <tr>\n",
       "      <th>1</th>\n",
       "      <td>0.147243</td>\n",
       "      <td>0.141182</td>\n",
       "      <td>0.192965</td>\n",
       "      <td>0.173636</td>\n",
       "      <td>0.142675</td>\n",
       "      <td>0.139964</td>\n",
       "      <td>0.179475</td>\n",
       "      <td>0.166856</td>\n",
       "      <td>0.171829</td>\n",
       "      <td>0.196599</td>\n",
       "    </tr>\n",
       "    <tr>\n",
       "      <th>2</th>\n",
       "      <td>0.170783</td>\n",
       "      <td>0.102754</td>\n",
       "      <td>0.132311</td>\n",
       "      <td>0.125596</td>\n",
       "      <td>0.100308</td>\n",
       "      <td>0.223192</td>\n",
       "      <td>0.244297</td>\n",
       "      <td>0.285612</td>\n",
       "      <td>0.197232</td>\n",
       "      <td>0.233332</td>\n",
       "    </tr>\n",
       "    <tr>\n",
       "      <th>3</th>\n",
       "      <td>0.196617</td>\n",
       "      <td>0.182510</td>\n",
       "      <td>0.117603</td>\n",
       "      <td>0.107484</td>\n",
       "      <td>0.141350</td>\n",
       "      <td>0.137579</td>\n",
       "      <td>0.183135</td>\n",
       "      <td>0.100285</td>\n",
       "      <td>0.159671</td>\n",
       "      <td>0.148071</td>\n",
       "    </tr>\n",
       "    <tr>\n",
       "      <th>4</th>\n",
       "      <td>0.140886</td>\n",
       "      <td>0.168982</td>\n",
       "      <td>0.126951</td>\n",
       "      <td>0.157346</td>\n",
       "      <td>0.104817</td>\n",
       "      <td>0.136896</td>\n",
       "      <td>0.225661</td>\n",
       "      <td>0.200373</td>\n",
       "      <td>0.268860</td>\n",
       "      <td>0.300347</td>\n",
       "    </tr>\n",
       "  </tbody>\n",
       "</table>\n",
       "</div>"
      ],
      "text/plain": [
       "          0         1         2         3         4         5         6  \\\n",
       "0  0.104679  0.148318  0.196807  0.137549  0.159156  0.115130  0.146587   \n",
       "1  0.147243  0.141182  0.192965  0.173636  0.142675  0.139964  0.179475   \n",
       "2  0.170783  0.102754  0.132311  0.125596  0.100308  0.223192  0.244297   \n",
       "3  0.196617  0.182510  0.117603  0.107484  0.141350  0.137579  0.183135   \n",
       "4  0.140886  0.168982  0.126951  0.157346  0.104817  0.136896  0.225661   \n",
       "\n",
       "          7         8         9  \n",
       "0  0.173856  0.146377  0.134636  \n",
       "1  0.166856  0.171829  0.196599  \n",
       "2  0.285612  0.197232  0.233332  \n",
       "3  0.100285  0.159671  0.148071  \n",
       "4  0.200373  0.268860  0.300347  "
      ]
     },
     "metadata": {},
     "output_type": "display_data"
    },
    {
     "data": {
      "text/plain": [
       "<AxesSubplot: >"
      ]
     },
     "execution_count": 10,
     "metadata": {},
     "output_type": "execute_result"
    },
    {
     "data": {
      "image/png": "[encoded data removed]",
      "text/plain": [
       "<Figure size 640x480 with 2 Axes>"
      ]
     },
     "metadata": {},
     "output_type": "display_data"
    }
   ],
   "source": [
    "female_lst = [\n",
    "        1,\n",
    "        1,\n",
    "        1,\n",
    "        1,\n",
    "        1,\n",
    "        1.2,\n",
    "        1.4,\n",
    "        1.6,\n",
    "        1.8,\n",
    "        2\n",
    "    ]\n",
    "\n",
    "df = gen_50(female_lst)\n",
    "display(df.head())\n",
    "sns.heatmap(df.corr())"
   ]
  },
  {
   "cell_type": "markdown",
   "id": "1ec592ab",
   "metadata": {},
   "source": [
    "## List of sim correlation matrices for testing GNN"
   ]
  },
  {
   "cell_type": "markdown",
   "id": "1ec8a728",
   "metadata": {},
   "source": [
    "The lst below contains 100 tuples. Index 0 has 'M' or \"F' and index 1 is the correlation matrix."
   ]
  },
  {
   "cell_type": "code",
   "execution_count": 23,
   "id": "551c6643",
   "metadata": {},
   "outputs": [],
   "source": [
    "lst = []\n",
    "\n",
    "for i in np.arange(50):\n",
    "    df = gen_50(male_lst)\n",
    "    lst += [('M',df.corr())]\n",
    "for i in np.arange(50):\n",
    "    df = gen_50(female_lst)\n",
    "    lst += [('F',df.corr())]\n",
    "random.shuffle(lst)"
   ]
  },
  {
   "cell_type": "code",
   "execution_count": 25,
   "id": "6e4a89fb",
   "metadata": {},
   "outputs": [
    {
     "data": {
      "text/plain": [
       "<AxesSubplot: >"
      ]
     },
     "execution_count": 25,
     "metadata": {},
     "output_type": "execute_result"
    },
    {
     "data": {
      "image/png": "[encoded data removed]",
      "text/plain": [
       "<Figure size 640x480 with 2 Axes>"
      ]
     },
     "metadata": {},
     "output_type": "display_data"
    }
   ],
   "source": [
    "sns.heatmap(lst[0][1])"
   ]
  },
  {
   "cell_type": "code",
   "execution_count": null,
   "id": "a8e11041",
   "metadata": {},
   "outputs": [],
   "source": []
  }
 ],
 "metadata": {
  "kernelspec": {
   "display_name": "Python 3 (ipykernel)",
   "language": "python",
   "name": "python3"
  },
  "language_info": {
   "codemirror_mode": {
    "name": "ipython",
    "version": 3
   },
   "file_extension": ".py",
   "mimetype": "text/x-python",
   "name": "python",
   "nbconvert_exporter": "python",
   "pygments_lexer": "ipython3",
   "version": "3.10.0"
  }
 },
 "nbformat": 4,
 "nbformat_minor": 5
}
