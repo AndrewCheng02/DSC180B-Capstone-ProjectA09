{
 "cells": [
  {
   "cell_type": "code",
   "execution_count": 2,
   "metadata": {},
   "outputs": [],
   "source": [
    "# #Imports\n",
    "# #Dataprep\n",
    "# import matplotlib.pyplot as plt\n",
    "# import numpy as np\n",
    "# from nilearn import datasets, plotting, image\n",
    "# from nilearn.maskers import NiftiMapsMasker\n",
    "# from sklearn.decomposition import FastICA\n",
    "# import pandas as pd\n",
    "# import tarfile\n",
    "# import gzip\n",
    "# #sim required\n",
    "# import random\n",
    "# import pingouin as pg\n",
    "# import seaborn as sns\n",
    "# #GNN required\n",
    "# import torch\n",
    "# import torch.nn.functional as F\n",
    "# from torch.nn import Linear\n",
    "# import torch.nn as nn\n",
    "# import torch_geometric\n",
    "# from torch_geometric.nn import GCNConv\n",
    "# from torch_geometric.nn import SAGEConv\n",
    "# from torch_geometric.nn import GraphConv\n",
    "# from torch_geometric.data import Data\n",
    "# from torch_geometric.loader import DataLoader\n",
    "# from torch.utils.data import SubsetRandomSampler\n",
    "# from sklearn.metrics import accuracy_score"
   ]
  },
  {
   "cell_type": "markdown",
   "metadata": {},
   "source": [
    "# STEP 1. Data Generation"
   ]
  },
  {
   "cell_type": "markdown",
   "metadata": {},
   "source": [
    "## DELIVERABLES:\n",
    "**Gen'l:** \n",
    "- have the same distribution as the original dataset\n",
    "\n",
    "**DATASET CHARACTERISTICS**\n",
    "- average male characteristics\n",
    "- average female characteristics\n",
    "\n",
    "**FILTERING CORRELATION MATRICES**\n",
    "- significant regions ($\\alpha$)\n",
    "- significant regions (bonferroni-corrected $\\alpha$)"
   ]
  },
  {
   "cell_type": "code",
   "execution_count": null,
   "metadata": {},
   "outputs": [],
   "source": [
    "# STEPS:\n",
    "\n",
    "# STEP 1: DATA GENERATION\n",
    "\n",
    "# simulate dataset to look very similar to og dataset\n",
    "# what does it mean to like similar to og dataset?\n",
    "#\n",
    "# SIMULATED DATA DELIVERABLES:\n",
    "# - have the same distribution as the original dataset\n",
    "# - we will start with lower dimensional data and examine the change in GNN performance with increase in dimensionality\n",
    "# -> DIMENSIONS:\n",
    "# 10 regions\n",
    "# 20 regions\n",
    "# 50 regions\n",
    "# 100 regions\n",
    "# -> SAMPLES: \n",
    "# 100 regions, 450 male subjects, 550 female subjects (1000 total netmats)\n",
    "# -> DATASET CHARACTERISTICS: \n",
    "# average male characteristics -\n",
    "# - <insert here>\n",
    "# average female characteristics - \n",
    "# - <insert here>\n",
    "# -> FILTERING\n",
    "# get these by doing a quick multiple comparisons t-test under bonferroni-alpha\n",
    "# 1. Sig Regions [alpha] \n",
    "# 2. Sig Regions [bonferroni-corrected] "
   ]
  },
  {
   "cell_type": "code",
   "execution_count": 3,
   "metadata": {},
   "outputs": [],
   "source": [
    "# STEP 2: MODEL DEVELOPMENT - VIEW EMBEDDING SPACES BEFORE TRAINING\n",
    "# STEP 3: MODEL SELECTION/FEATURE SELECTION\n",
    "# we will test many different combinations of inputs and architectures\n",
    "# INPUT TYPES\n",
    "# 1. 10 regions [450 male subjects, 550 female subjects (1000 total netmats)]\n",
    "# 2. 20 regions [450 male subjects, 550 female subjects (1000 total netmats)]\n",
    "# 3. 50 regions [450 male subjects, 550 female subjects (1000 total netmats)]\n",
    "# 4. 100 regions [450 male subjects, 550 female subjects (1000 total netmats)]\n",
    "#\n",
    "# ARCHITECTURE TYPES:\n",
    "# -> layers\n",
    "# 1. 1-layer\n",
    "# 2. 2-layer\n",
    "# 3. 3-layer\n",
    "# 4. 4-layer\n",
    "# -> squishificaton function (mapping to [-1,1])\n",
    "# 1. tanh\n",
    "# 2. ReLu\n",
    "# 3. sigmoid\n",
    "# -> embedding space dimension:\n",
    "# 1. 50\n",
    "# 2. 100\n",
    "# 3. 200"
   ]
  }
 ],
 "metadata": {
  "kernelspec": {
   "display_name": "Python 3",
   "language": "python",
   "name": "python3"
  },
  "language_info": {
   "codemirror_mode": {
    "name": "ipython",
    "version": 3
   },
   "file_extension": ".py",
   "mimetype": "text/x-python",
   "name": "python",
   "nbconvert_exporter": "python",
   "pygments_lexer": "ipython3",
   "version": "3.9.0"
  }
 },
 "nbformat": 4,
 "nbformat_minor": 2
}
