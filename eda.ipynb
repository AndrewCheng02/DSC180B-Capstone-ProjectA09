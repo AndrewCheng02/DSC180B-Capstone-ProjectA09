{
 "cells": [
  {
   "cell_type": "code",
   "execution_count": 1,
   "metadata": {},
   "outputs": [],
   "source": [
    "import pandas as pd\n",
    "import numpy as np"
   ]
  },
  {
   "cell_type": "markdown",
   "metadata": {},
   "source": [
    "## Permutation Testing  \n",
    "Here, we will perform an A/B test to compare the pairwise correlation matrices of male and female subjects."
   ]
  },
  {
   "cell_type": "markdown",
   "metadata": {},
   "source": [
    "## Step 1. Find observed difference in male and female subjects"
   ]
  },
  {
   "cell_type": "code",
   "execution_count": 22,
   "metadata": {},
   "outputs": [
    {
     "data": {
      "text/plain": [
       "'[[ 0.       0.61676  9.5727  ...  0.38609 -0.18148  2.4279 ]\\r\\n [ 0.61676  0.       2.856   ... -0.7748  -0.43767 -1.0479 ]\\r\\n [ 9.5727   2.856    0.      ...  0.34688 -0.34526 -1.2173 ]\\r\\n ...\\r\\n [ 0.38609 -0.7748   0.34688 ...  0.      -0.30947  3.0171 ]\\r\\n [-0.18148 -0.43767 -0.34526 ... -0.30947  0.       0.26007]\\r\\n [ 2.4279  -1.0479  -1.2173  ...  3.0171   0.26007  0.     ]]'"
      ]
     },
     "execution_count": 22,
     "metadata": {},
     "output_type": "execute_result"
    }
   ],
   "source": [
    "# load in data\n",
    "fp = \"Data/data_clean.csv\"\n",
    "df = pd.read_csv(fp)\n",
    "\n",
    "sex = \"Gender\" # column name for male or female assignment\n",
    "netmat = \"netmat\"\n",
    "m = \"M\"\n",
    "f = \"F\"\n",
    "male_df = df[df[sex] == m] # get all males\n",
    "female_df = df[df[sex] == f] # get all females\n",
    "\n",
    "df[netmat][0] #net.groupby([sex]).mean() # find \"average\" correlation matrix for males and females"
   ]
  }
 ],
 "metadata": {
  "kernelspec": {
   "display_name": "Python 3",
   "language": "python",
   "name": "python3"
  },
  "language_info": {
   "codemirror_mode": {
    "name": "ipython",
    "version": 3
   },
   "file_extension": ".py",
   "mimetype": "text/x-python",
   "name": "python",
   "nbconvert_exporter": "python",
   "pygments_lexer": "ipython3",
   "version": "3.9.0"
  }
 },
 "nbformat": 4,
 "nbformat_minor": 2
}
