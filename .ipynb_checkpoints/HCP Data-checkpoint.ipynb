{
 "cells": [
  {
   "cell_type": "code",
   "execution_count": 1,
   "id": "d5af6e8c",
   "metadata": {},
   "outputs": [],
   "source": [
    "#Imports\n",
    "import matplotlib.pyplot as plt\n",
    "import numpy as np\n",
    "from nilearn import datasets, plotting, image\n",
    "from nilearn.maskers import NiftiMapsMasker\n",
    "from sklearn.decomposition import FastICA\n",
    "import pandas as pd\n",
    "import tarfile\n",
    "import gzip"
   ]
  },
  {
   "cell_type": "markdown",
   "id": "564096f0",
   "metadata": {},
   "source": [
    "Netmat matricies Data file: **Data/HCP/HCP_PTN1200/netmats_3T_HCP1200_MSMAll_ICAd100_ts2.tar.gz**\n",
    "\n",
    "- 1003 subjects\n",
    "- For time series (4800 total timepoints)"
   ]
  },
  {
   "cell_type": "code",
   "execution_count": 2,
   "id": "a9343c59",
   "metadata": {},
   "outputs": [],
   "source": [
    "hcp_file = 'Data/netmats_3T_HCP1200_MSMAll_ICAd100_ts2.tar.gz'"
   ]
  },
  {
   "cell_type": "code",
   "execution_count": 3,
   "id": "a1fd3896",
   "metadata": {},
   "outputs": [],
   "source": [
    "# Read Network Matricies\n",
    "data_raw = []\n",
    "\n",
    "with gzip.open(hcp_file, 'rb') as gz_file:\n",
    "    with tarfile.open(fileobj=gz_file, mode='r') as tar:\n",
    "        \n",
    "        # Extract a text file\n",
    "        for file in tar.getnames():\n",
    "            if file.endswith('.txt'):\n",
    "                # Read the content and load it into a NumPy array\n",
    "                subjects = np.loadtxt(tar.extractfile(file), dtype=float)\n",
    "                \n",
    "                ICAd = int(np.sqrt(subjects.shape[1]))\n",
    "                \n",
    "                # Convert into matrix\n",
    "                matrix = np.array([np.reshape(i, (ICAd, ICAd)) for i in subjects])\n",
    "                data_raw.append(matrix)"
   ]
  },
  {
   "cell_type": "code",
   "execution_count": 4,
   "id": "645d0bc6",
   "metadata": {},
   "outputs": [
    {
     "data": {
      "text/plain": [
       "(1003, 100, 100)"
      ]
     },
     "execution_count": 4,
     "metadata": {},
     "output_type": "execute_result"
    }
   ],
   "source": [
    "data_raw[0].shape"
   ]
  },
  {
   "cell_type": "code",
   "execution_count": 5,
   "id": "bf4550da",
   "metadata": {},
   "outputs": [
    {
     "data": {
      "text/plain": [
       "(1003, 100, 100)"
      ]
     },
     "execution_count": 5,
     "metadata": {},
     "output_type": "execute_result"
    }
   ],
   "source": [
    "data_raw[1].shape"
   ]
  },
  {
   "cell_type": "markdown",
   "id": "36d84b00",
   "metadata": {},
   "source": [
    "1. netmats1: Using \"full\" normalized temporal correlation between every node timeseries and every other. This is a common approach and is\n",
    "very simple, but it has various practical and interpretational disadvantages [Smith 2012]."
   ]
  },
  {
   "cell_type": "code",
   "execution_count": 6,
   "id": "ac12edbd",
   "metadata": {},
   "outputs": [
    {
     "data": {
      "text/plain": [
       "array([[ 0.     , -1.5323 , 35.936  , ...,  0.80711,  4.5279 ,  4.9836 ],\n",
       "       [-1.5323 ,  0.     , -9.1569 , ...,  0.52657,  3.277  ,  1.7371 ],\n",
       "       [35.936  , -9.1569 ,  0.     , ..., -0.67059,  0.22134, -0.87813],\n",
       "       ...,\n",
       "       [ 0.80711,  0.52657, -0.67059, ...,  0.     ,  1.2762 ,  3.6853 ],\n",
       "       [ 4.5279 ,  3.277  ,  0.22134, ...,  1.2762 ,  0.     ,  4.497  ],\n",
       "       [ 4.9836 ,  1.7371 , -0.87813, ...,  3.6853 ,  4.497  ,  0.     ]])"
      ]
     },
     "execution_count": 6,
     "metadata": {},
     "output_type": "execute_result"
    }
   ],
   "source": [
    "net_mat1 = data_raw[0]\n",
    "net_mat1[0]"
   ]
  },
  {
   "cell_type": "markdown",
   "id": "55d6431c",
   "metadata": {},
   "source": [
    "2. netmats2: Using partial temporal correlation between nodes' timeseries. This aims to estimate direct connection strengths better than\n",
    "achieved by full correlation. To slightly improve the estimates of partial correlation coefficients, a small amount of L2 regularization is\n",
    "applied (setting rho=0.01 in the Ridge Regression netmats option in FSLNets) [Smith OHBM 2014, FSLNets]."
   ]
  },
  {
   "cell_type": "code",
   "execution_count": 7,
   "id": "0ae135dd",
   "metadata": {},
   "outputs": [
    {
     "data": {
      "text/plain": [
       "array([[ 0.     ,  0.61676,  9.5727 , ...,  0.38609, -0.18148,  2.4279 ],\n",
       "       [ 0.61676,  0.     ,  2.856  , ..., -0.7748 , -0.43767, -1.0479 ],\n",
       "       [ 9.5727 ,  2.856  ,  0.     , ...,  0.34688, -0.34526, -1.2173 ],\n",
       "       ...,\n",
       "       [ 0.38609, -0.7748 ,  0.34688, ...,  0.     , -0.30947,  3.0171 ],\n",
       "       [-0.18148, -0.43767, -0.34526, ..., -0.30947,  0.     ,  0.26007],\n",
       "       [ 2.4279 , -1.0479 , -1.2173 , ...,  3.0171 ,  0.26007,  0.     ]])"
      ]
     },
     "execution_count": 7,
     "metadata": {},
     "output_type": "execute_result"
    }
   ],
   "source": [
    "net_mat2 = data_raw[1]\n",
    "net_mat2[0]"
   ]
  },
  {
   "cell_type": "code",
   "execution_count": 8,
   "id": "eab60a13",
   "metadata": {},
   "outputs": [],
   "source": [
    "id_file = 'Data/IDs/subjectIDs.txt'\n",
    "id_recon1_file = 'Data/IDs/subjectIDs_recon1.txt'\n",
    "id_recon2_file = 'Data/IDs/subjectIDs_recon2.txt'"
   ]
  },
  {
   "cell_type": "code",
   "execution_count": 9,
   "id": "bdac6343",
   "metadata": {},
   "outputs": [],
   "source": [
    "# Read Subject IDs\n",
    "subject_IDs = np.loadtxt(id_file, dtype=int)"
   ]
  },
  {
   "cell_type": "code",
   "execution_count": 10,
   "id": "177718be",
   "metadata": {},
   "outputs": [
    {
     "data": {
      "text/plain": [
       "(1003,)"
      ]
     },
     "execution_count": 10,
     "metadata": {},
     "output_type": "execute_result"
    }
   ],
   "source": [
    "subject_IDs.shape"
   ]
  },
  {
   "cell_type": "code",
   "execution_count": 11,
   "id": "9207b67a",
   "metadata": {},
   "outputs": [],
   "source": [
    "# Read Subject Descriptions\n",
    "subject_data = pd.read_csv('Data/subjects.csv', index_col = 'Subject')"
   ]
  },
  {
   "cell_type": "code",
   "execution_count": 12,
   "id": "0902d45a",
   "metadata": {
    "scrolled": false
   },
   "outputs": [
    {
     "data": {
      "text/html": [
       "<div>\n",
       "<style scoped>\n",
       "    .dataframe tbody tr th:only-of-type {\n",
       "        vertical-align: middle;\n",
       "    }\n",
       "\n",
       "    .dataframe tbody tr th {\n",
       "        vertical-align: top;\n",
       "    }\n",
       "\n",
       "    .dataframe thead th {\n",
       "        text-align: right;\n",
       "    }\n",
       "</style>\n",
       "<table border=\"1\" class=\"dataframe\">\n",
       "  <thead>\n",
       "    <tr style=\"text-align: right;\">\n",
       "      <th></th>\n",
       "      <th>Release</th>\n",
       "      <th>Acquisition</th>\n",
       "      <th>Gender</th>\n",
       "      <th>Age</th>\n",
       "      <th>3T_Full_MR_Compl</th>\n",
       "      <th>T1_Count</th>\n",
       "      <th>T2_Count</th>\n",
       "      <th>3T_RS-fMRI_Count</th>\n",
       "      <th>3T_RS-fMRI_PctCompl</th>\n",
       "      <th>3T_Full_Task_fMRI</th>\n",
       "      <th>...</th>\n",
       "      <th>Noise_Comp</th>\n",
       "      <th>Odor_Unadj</th>\n",
       "      <th>Odor_AgeAdj</th>\n",
       "      <th>PainIntens_RawScore</th>\n",
       "      <th>PainInterf_Tscore</th>\n",
       "      <th>Taste_Unadj</th>\n",
       "      <th>Taste_AgeAdj</th>\n",
       "      <th>Mars_Log_Score</th>\n",
       "      <th>Mars_Errs</th>\n",
       "      <th>Mars_Final</th>\n",
       "    </tr>\n",
       "    <tr>\n",
       "      <th>Subject</th>\n",
       "      <th></th>\n",
       "      <th></th>\n",
       "      <th></th>\n",
       "      <th></th>\n",
       "      <th></th>\n",
       "      <th></th>\n",
       "      <th></th>\n",
       "      <th></th>\n",
       "      <th></th>\n",
       "      <th></th>\n",
       "      <th></th>\n",
       "      <th></th>\n",
       "      <th></th>\n",
       "      <th></th>\n",
       "      <th></th>\n",
       "      <th></th>\n",
       "      <th></th>\n",
       "      <th></th>\n",
       "      <th></th>\n",
       "      <th></th>\n",
       "      <th></th>\n",
       "    </tr>\n",
       "  </thead>\n",
       "  <tbody>\n",
       "    <tr>\n",
       "      <th>100004</th>\n",
       "      <td>S900</td>\n",
       "      <td>Q06</td>\n",
       "      <td>M</td>\n",
       "      <td>22-25</td>\n",
       "      <td>False</td>\n",
       "      <td>0</td>\n",
       "      <td>0</td>\n",
       "      <td>0</td>\n",
       "      <td>0.0</td>\n",
       "      <td>False</td>\n",
       "      <td>...</td>\n",
       "      <td>5.2</td>\n",
       "      <td>101.12</td>\n",
       "      <td>86.45</td>\n",
       "      <td>2.0</td>\n",
       "      <td>45.9</td>\n",
       "      <td>107.17</td>\n",
       "      <td>105.31</td>\n",
       "      <td>1.80</td>\n",
       "      <td>0.0</td>\n",
       "      <td>1.80</td>\n",
       "    </tr>\n",
       "    <tr>\n",
       "      <th>100206</th>\n",
       "      <td>S900</td>\n",
       "      <td>Q11</td>\n",
       "      <td>M</td>\n",
       "      <td>26-30</td>\n",
       "      <td>True</td>\n",
       "      <td>1</td>\n",
       "      <td>1</td>\n",
       "      <td>4</td>\n",
       "      <td>100.0</td>\n",
       "      <td>True</td>\n",
       "      <td>...</td>\n",
       "      <td>6.0</td>\n",
       "      <td>108.79</td>\n",
       "      <td>97.19</td>\n",
       "      <td>1.0</td>\n",
       "      <td>49.7</td>\n",
       "      <td>72.63</td>\n",
       "      <td>72.03</td>\n",
       "      <td>1.84</td>\n",
       "      <td>0.0</td>\n",
       "      <td>1.84</td>\n",
       "    </tr>\n",
       "    <tr>\n",
       "      <th>100307</th>\n",
       "      <td>Q1</td>\n",
       "      <td>Q01</td>\n",
       "      <td>F</td>\n",
       "      <td>26-30</td>\n",
       "      <td>True</td>\n",
       "      <td>1</td>\n",
       "      <td>1</td>\n",
       "      <td>4</td>\n",
       "      <td>100.0</td>\n",
       "      <td>True</td>\n",
       "      <td>...</td>\n",
       "      <td>3.6</td>\n",
       "      <td>101.12</td>\n",
       "      <td>86.45</td>\n",
       "      <td>0.0</td>\n",
       "      <td>38.6</td>\n",
       "      <td>71.69</td>\n",
       "      <td>71.76</td>\n",
       "      <td>1.76</td>\n",
       "      <td>0.0</td>\n",
       "      <td>1.76</td>\n",
       "    </tr>\n",
       "    <tr>\n",
       "      <th>100408</th>\n",
       "      <td>Q3</td>\n",
       "      <td>Q03</td>\n",
       "      <td>M</td>\n",
       "      <td>31-35</td>\n",
       "      <td>True</td>\n",
       "      <td>1</td>\n",
       "      <td>1</td>\n",
       "      <td>4</td>\n",
       "      <td>100.0</td>\n",
       "      <td>True</td>\n",
       "      <td>...</td>\n",
       "      <td>2.0</td>\n",
       "      <td>108.79</td>\n",
       "      <td>98.04</td>\n",
       "      <td>2.0</td>\n",
       "      <td>52.6</td>\n",
       "      <td>114.01</td>\n",
       "      <td>113.59</td>\n",
       "      <td>1.76</td>\n",
       "      <td>2.0</td>\n",
       "      <td>1.68</td>\n",
       "    </tr>\n",
       "    <tr>\n",
       "      <th>100610</th>\n",
       "      <td>S900</td>\n",
       "      <td>Q08</td>\n",
       "      <td>M</td>\n",
       "      <td>26-30</td>\n",
       "      <td>True</td>\n",
       "      <td>2</td>\n",
       "      <td>1</td>\n",
       "      <td>4</td>\n",
       "      <td>100.0</td>\n",
       "      <td>True</td>\n",
       "      <td>...</td>\n",
       "      <td>2.0</td>\n",
       "      <td>122.25</td>\n",
       "      <td>110.45</td>\n",
       "      <td>0.0</td>\n",
       "      <td>38.6</td>\n",
       "      <td>84.84</td>\n",
       "      <td>85.31</td>\n",
       "      <td>1.92</td>\n",
       "      <td>1.0</td>\n",
       "      <td>1.88</td>\n",
       "    </tr>\n",
       "  </tbody>\n",
       "</table>\n",
       "<p>5 rows × 581 columns</p>\n",
       "</div>"
      ],
      "text/plain": [
       "        Release Acquisition Gender    Age  3T_Full_MR_Compl  T1_Count  \\\n",
       "Subject                                                                 \n",
       "100004     S900         Q06      M  22-25             False         0   \n",
       "100206     S900         Q11      M  26-30              True         1   \n",
       "100307       Q1         Q01      F  26-30              True         1   \n",
       "100408       Q3         Q03      M  31-35              True         1   \n",
       "100610     S900         Q08      M  26-30              True         2   \n",
       "\n",
       "         T2_Count  3T_RS-fMRI_Count  3T_RS-fMRI_PctCompl  3T_Full_Task_fMRI  \\\n",
       "Subject                                                                       \n",
       "100004          0                 0                  0.0              False   \n",
       "100206          1                 4                100.0               True   \n",
       "100307          1                 4                100.0               True   \n",
       "100408          1                 4                100.0               True   \n",
       "100610          1                 4                100.0               True   \n",
       "\n",
       "         ...  Noise_Comp  Odor_Unadj  Odor_AgeAdj  PainIntens_RawScore  \\\n",
       "Subject  ...                                                             \n",
       "100004   ...         5.2      101.12        86.45                  2.0   \n",
       "100206   ...         6.0      108.79        97.19                  1.0   \n",
       "100307   ...         3.6      101.12        86.45                  0.0   \n",
       "100408   ...         2.0      108.79        98.04                  2.0   \n",
       "100610   ...         2.0      122.25       110.45                  0.0   \n",
       "\n",
       "         PainInterf_Tscore  Taste_Unadj  Taste_AgeAdj  Mars_Log_Score  \\\n",
       "Subject                                                                 \n",
       "100004                45.9       107.17        105.31            1.80   \n",
       "100206                49.7        72.63         72.03            1.84   \n",
       "100307                38.6        71.69         71.76            1.76   \n",
       "100408                52.6       114.01        113.59            1.76   \n",
       "100610                38.6        84.84         85.31            1.92   \n",
       "\n",
       "         Mars_Errs  Mars_Final  \n",
       "Subject                         \n",
       "100004         0.0        1.80  \n",
       "100206         0.0        1.84  \n",
       "100307         0.0        1.76  \n",
       "100408         2.0        1.68  \n",
       "100610         1.0        1.88  \n",
       "\n",
       "[5 rows x 581 columns]"
      ]
     },
     "execution_count": 12,
     "metadata": {},
     "output_type": "execute_result"
    }
   ],
   "source": [
    "subject_data.head()"
   ]
  },
  {
   "cell_type": "code",
   "execution_count": 13,
   "id": "0acc3bf0",
   "metadata": {},
   "outputs": [
    {
     "data": {
      "text/html": [
       "<div>\n",
       "<style scoped>\n",
       "    .dataframe tbody tr th:only-of-type {\n",
       "        vertical-align: middle;\n",
       "    }\n",
       "\n",
       "    .dataframe tbody tr th {\n",
       "        vertical-align: top;\n",
       "    }\n",
       "\n",
       "    .dataframe thead th {\n",
       "        text-align: right;\n",
       "    }\n",
       "</style>\n",
       "<table border=\"1\" class=\"dataframe\">\n",
       "  <thead>\n",
       "    <tr style=\"text-align: right;\">\n",
       "      <th></th>\n",
       "      <th>Gender</th>\n",
       "      <th>Age</th>\n",
       "    </tr>\n",
       "    <tr>\n",
       "      <th>Subject</th>\n",
       "      <th></th>\n",
       "      <th></th>\n",
       "    </tr>\n",
       "  </thead>\n",
       "  <tbody>\n",
       "    <tr>\n",
       "      <th>100004</th>\n",
       "      <td>M</td>\n",
       "      <td>22-25</td>\n",
       "    </tr>\n",
       "    <tr>\n",
       "      <th>100206</th>\n",
       "      <td>M</td>\n",
       "      <td>26-30</td>\n",
       "    </tr>\n",
       "    <tr>\n",
       "      <th>100307</th>\n",
       "      <td>F</td>\n",
       "      <td>26-30</td>\n",
       "    </tr>\n",
       "    <tr>\n",
       "      <th>100408</th>\n",
       "      <td>M</td>\n",
       "      <td>31-35</td>\n",
       "    </tr>\n",
       "    <tr>\n",
       "      <th>100610</th>\n",
       "      <td>M</td>\n",
       "      <td>26-30</td>\n",
       "    </tr>\n",
       "  </tbody>\n",
       "</table>\n",
       "</div>"
      ],
      "text/plain": [
       "        Gender    Age\n",
       "Subject              \n",
       "100004       M  22-25\n",
       "100206       M  26-30\n",
       "100307       F  26-30\n",
       "100408       M  31-35\n",
       "100610       M  26-30"
      ]
     },
     "execution_count": 13,
     "metadata": {},
     "output_type": "execute_result"
    }
   ],
   "source": [
    "subject_data = subject_data[['Gender', 'Age']]\n",
    "subject_data.head()"
   ]
  },
  {
   "cell_type": "code",
   "execution_count": 14,
   "id": "55d1d96a",
   "metadata": {},
   "outputs": [
    {
     "data": {
      "text/plain": [
       "array([[ 0.     ,  0.61676,  9.5727 , ...,  0.38609, -0.18148,  2.4279 ],\n",
       "       [ 0.61676,  0.     ,  2.856  , ..., -0.7748 , -0.43767, -1.0479 ],\n",
       "       [ 9.5727 ,  2.856  ,  0.     , ...,  0.34688, -0.34526, -1.2173 ],\n",
       "       ...,\n",
       "       [ 0.38609, -0.7748 ,  0.34688, ...,  0.     , -0.30947,  3.0171 ],\n",
       "       [-0.18148, -0.43767, -0.34526, ..., -0.30947,  0.     ,  0.26007],\n",
       "       [ 2.4279 , -1.0479 , -1.2173 , ...,  3.0171 ,  0.26007,  0.     ]])"
      ]
     },
     "execution_count": 14,
     "metadata": {},
     "output_type": "execute_result"
    }
   ],
   "source": [
    "net_mat2[0]"
   ]
  },
  {
   "cell_type": "code",
   "execution_count": 15,
   "id": "09640c6c",
   "metadata": {},
   "outputs": [
    {
     "data": {
      "text/html": [
       "<div>\n",
       "<style scoped>\n",
       "    .dataframe tbody tr th:only-of-type {\n",
       "        vertical-align: middle;\n",
       "    }\n",
       "\n",
       "    .dataframe tbody tr th {\n",
       "        vertical-align: top;\n",
       "    }\n",
       "\n",
       "    .dataframe thead th {\n",
       "        text-align: right;\n",
       "    }\n",
       "</style>\n",
       "<table border=\"1\" class=\"dataframe\">\n",
       "  <thead>\n",
       "    <tr style=\"text-align: right;\">\n",
       "      <th></th>\n",
       "      <th>netmat</th>\n",
       "    </tr>\n",
       "  </thead>\n",
       "  <tbody>\n",
       "    <tr>\n",
       "      <th>100206</th>\n",
       "      <td>[[0.0, 0.61676, 9.5727, -5.4959, 0.34639, 3.00...</td>\n",
       "    </tr>\n",
       "    <tr>\n",
       "      <th>100307</th>\n",
       "      <td>[[0.0, -0.29664, 17.317, -9.0467, -0.28723, 1....</td>\n",
       "    </tr>\n",
       "    <tr>\n",
       "      <th>100408</th>\n",
       "      <td>[[0.0, 1.6486, 6.6189, -8.8877, 1.4337, 1.006,...</td>\n",
       "    </tr>\n",
       "    <tr>\n",
       "      <th>100610</th>\n",
       "      <td>[[0.0, -0.90275, 7.7215, -8.3907, 3.3144, 2.93...</td>\n",
       "    </tr>\n",
       "    <tr>\n",
       "      <th>101006</th>\n",
       "      <td>[[0.0, -0.088768, 9.4979, -10.412, 1.0646, 4.3...</td>\n",
       "    </tr>\n",
       "    <tr>\n",
       "      <th>...</th>\n",
       "      <td>...</td>\n",
       "    </tr>\n",
       "    <tr>\n",
       "      <th>992673</th>\n",
       "      <td>[[0.0, -0.11536, 7.1338, -5.5322, 0.34004, 1.6...</td>\n",
       "    </tr>\n",
       "    <tr>\n",
       "      <th>992774</th>\n",
       "      <td>[[0.0, 0.25353, 8.0265, -6.2072, 4.1589, 1.582...</td>\n",
       "    </tr>\n",
       "    <tr>\n",
       "      <th>993675</th>\n",
       "      <td>[[0.0, -1.0378, 10.709, -3.3224, -0.090704, 2....</td>\n",
       "    </tr>\n",
       "    <tr>\n",
       "      <th>994273</th>\n",
       "      <td>[[0.0, 0.64613, 11.471, -5.5137, 1.9357, 4.259...</td>\n",
       "    </tr>\n",
       "    <tr>\n",
       "      <th>996782</th>\n",
       "      <td>[[0.0, 1.6924, 10.201, -1.5257, 5.2389, 3.1335...</td>\n",
       "    </tr>\n",
       "  </tbody>\n",
       "</table>\n",
       "<p>1003 rows × 1 columns</p>\n",
       "</div>"
      ],
      "text/plain": [
       "                                                   netmat\n",
       "100206  [[0.0, 0.61676, 9.5727, -5.4959, 0.34639, 3.00...\n",
       "100307  [[0.0, -0.29664, 17.317, -9.0467, -0.28723, 1....\n",
       "100408  [[0.0, 1.6486, 6.6189, -8.8877, 1.4337, 1.006,...\n",
       "100610  [[0.0, -0.90275, 7.7215, -8.3907, 3.3144, 2.93...\n",
       "101006  [[0.0, -0.088768, 9.4979, -10.412, 1.0646, 4.3...\n",
       "...                                                   ...\n",
       "992673  [[0.0, -0.11536, 7.1338, -5.5322, 0.34004, 1.6...\n",
       "992774  [[0.0, 0.25353, 8.0265, -6.2072, 4.1589, 1.582...\n",
       "993675  [[0.0, -1.0378, 10.709, -3.3224, -0.090704, 2....\n",
       "994273  [[0.0, 0.64613, 11.471, -5.5137, 1.9357, 4.259...\n",
       "996782  [[0.0, 1.6924, 10.201, -1.5257, 5.2389, 3.1335...\n",
       "\n",
       "[1003 rows x 1 columns]"
      ]
     },
     "execution_count": 15,
     "metadata": {},
     "output_type": "execute_result"
    }
   ],
   "source": [
    "# Combine the netmats and id data in data frame\n",
    "net_mat_data = pd.Series(dict(zip(subject_IDs, net_mat2))).to_frame().rename(columns = {0 : 'netmat'})\n",
    "net_mat_data"
   ]
  },
  {
   "cell_type": "code",
   "execution_count": 16,
   "id": "ba69867a",
   "metadata": {},
   "outputs": [],
   "source": [
    "# Now merge the two lists\n",
    "data = subject_data.join(net_mat_data, how = 'right')"
   ]
  },
  {
   "cell_type": "code",
   "execution_count": 17,
   "id": "9aea5a9a",
   "metadata": {},
   "outputs": [
    {
     "data": {
      "text/html": [
       "<div>\n",
       "<style scoped>\n",
       "    .dataframe tbody tr th:only-of-type {\n",
       "        vertical-align: middle;\n",
       "    }\n",
       "\n",
       "    .dataframe tbody tr th {\n",
       "        vertical-align: top;\n",
       "    }\n",
       "\n",
       "    .dataframe thead th {\n",
       "        text-align: right;\n",
       "    }\n",
       "</style>\n",
       "<table border=\"1\" class=\"dataframe\">\n",
       "  <thead>\n",
       "    <tr style=\"text-align: right;\">\n",
       "      <th></th>\n",
       "      <th>Gender</th>\n",
       "      <th>Age</th>\n",
       "      <th>netmat</th>\n",
       "    </tr>\n",
       "  </thead>\n",
       "  <tbody>\n",
       "    <tr>\n",
       "      <th>100206</th>\n",
       "      <td>M</td>\n",
       "      <td>26-30</td>\n",
       "      <td>[[0.0, 0.61676, 9.5727, -5.4959, 0.34639, 3.00...</td>\n",
       "    </tr>\n",
       "    <tr>\n",
       "      <th>100307</th>\n",
       "      <td>F</td>\n",
       "      <td>26-30</td>\n",
       "      <td>[[0.0, -0.29664, 17.317, -9.0467, -0.28723, 1....</td>\n",
       "    </tr>\n",
       "    <tr>\n",
       "      <th>100408</th>\n",
       "      <td>M</td>\n",
       "      <td>31-35</td>\n",
       "      <td>[[0.0, 1.6486, 6.6189, -8.8877, 1.4337, 1.006,...</td>\n",
       "    </tr>\n",
       "    <tr>\n",
       "      <th>100610</th>\n",
       "      <td>M</td>\n",
       "      <td>26-30</td>\n",
       "      <td>[[0.0, -0.90275, 7.7215, -8.3907, 3.3144, 2.93...</td>\n",
       "    </tr>\n",
       "    <tr>\n",
       "      <th>101006</th>\n",
       "      <td>F</td>\n",
       "      <td>31-35</td>\n",
       "      <td>[[0.0, -0.088768, 9.4979, -10.412, 1.0646, 4.3...</td>\n",
       "    </tr>\n",
       "  </tbody>\n",
       "</table>\n",
       "</div>"
      ],
      "text/plain": [
       "       Gender    Age                                             netmat\n",
       "100206      M  26-30  [[0.0, 0.61676, 9.5727, -5.4959, 0.34639, 3.00...\n",
       "100307      F  26-30  [[0.0, -0.29664, 17.317, -9.0467, -0.28723, 1....\n",
       "100408      M  31-35  [[0.0, 1.6486, 6.6189, -8.8877, 1.4337, 1.006,...\n",
       "100610      M  26-30  [[0.0, -0.90275, 7.7215, -8.3907, 3.3144, 2.93...\n",
       "101006      F  31-35  [[0.0, -0.088768, 9.4979, -10.412, 1.0646, 4.3..."
      ]
     },
     "execution_count": 17,
     "metadata": {},
     "output_type": "execute_result"
    }
   ],
   "source": [
    "data.head()"
   ]
  },
  {
   "cell_type": "markdown",
   "id": "415ecc7c",
   "metadata": {},
   "source": [
    "## Vizualization\n",
    "\n",
    "Using NetMat 2"
   ]
  },
  {
   "cell_type": "code",
   "execution_count": 18,
   "id": "ab8aa5ee",
   "metadata": {},
   "outputs": [
    {
     "data": {
      "text/plain": [
       "<matplotlib.image.AxesImage at 0x7f7c00a0a6d0>"
      ]
     },
     "execution_count": 18,
     "metadata": {},
     "output_type": "execute_result"
    },
    {
     "data": {
      "image/png": "[encoded data removed]",
      "text/plain": [
       "<Figure size 700x500 with 2 Axes>"
      ]
     },
     "metadata": {},
     "output_type": "display_data"
    }
   ],
   "source": [
    "# Visualize the correlation matrix\n",
    "plotting.plot_matrix(\n",
    "    net_mat2[0], colorbar=True, vmax=0.8, vmin=-0.8, title = \"Pairwise Correlation of Resting State\")"
   ]
  },
  {
   "cell_type": "markdown",
   "id": "86868272",
   "metadata": {},
   "source": []
  },
  {
   "cell_type": "markdown",
   "id": "c2eacba4",
   "metadata": {},
   "source": [
    "## Exploratory Analysis"
   ]
  },
  {
   "cell_type": "code",
   "execution_count": null,
   "id": "f681d49c",
   "metadata": {},
   "outputs": [],
   "source": []
  },
  {
   "cell_type": "code",
   "execution_count": null,
   "id": "35856a51",
   "metadata": {},
   "outputs": [],
   "source": []
  },
  {
   "cell_type": "markdown",
   "id": "084211ef",
   "metadata": {},
   "source": [
    "## Andrew's Data"
   ]
  },
  {
   "cell_type": "code",
   "execution_count": null,
   "id": "bda934d8",
   "metadata": {},
   "outputs": [],
   "source": []
  }
 ],
 "metadata": {
  "kernelspec": {
   "display_name": "Python 3 (ipykernel)",
   "language": "python",
   "name": "python3"
  },
  "language_info": {
   "codemirror_mode": {
    "name": "ipython",
    "version": 3
   },
   "file_extension": ".py",
   "mimetype": "text/x-python",
   "name": "python",
   "nbconvert_exporter": "python",
   "pygments_lexer": "ipython3",
   "version": "3.9.13"
  }
 },
 "nbformat": 4,
 "nbformat_minor": 5
}
