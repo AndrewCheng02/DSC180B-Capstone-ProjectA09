{
 "cells": [
  {
   "cell_type": "code",
   "execution_count": 1,
   "id": "1c27071f",
   "metadata": {},
   "outputs": [],
   "source": [
    "#Imports\n",
    "#Dataprep\n",
    "import matplotlib.pyplot as plt\n",
    "import numpy as np\n",
    "from nilearn import datasets, plotting, image\n",
    "from nilearn.maskers import NiftiMapsMasker\n",
    "from sklearn.decomposition import FastICA\n",
    "import pandas as pd\n",
    "import tarfile\n",
    "import gzip\n",
    "#GNN required\n",
    "import torch\n",
    "import torch.nn.functional as F\n",
    "from torch.nn import Linear\n",
    "import torch.nn as nn\n",
    "import torch_geometric\n",
    "from torch_geometric.nn import GCNConv\n",
    "from torch_geometric.nn import SAGEConv\n",
    "from torch_geometric.nn import GraphConv\n",
    "from torch_geometric.data import Data\n",
    "from torch_geometric.loader import DataLoader"
   ]
  },
  {
   "cell_type": "markdown",
   "id": "8d45a387",
   "metadata": {},
   "source": [
    "## Data Clean from HCP Data notebook"
   ]
  },
  {
   "cell_type": "code",
   "execution_count": 2,
   "id": "53c3487b",
   "metadata": {},
   "outputs": [],
   "source": [
    "hcp_file = 'Data/netmats_3T_HCP1200_MSMAll_ICAd100_ts2.tar.gz'"
   ]
  },
  {
   "cell_type": "code",
   "execution_count": 3,
   "id": "e494cbd8",
   "metadata": {},
   "outputs": [],
   "source": [
    "# Read Network Matricies\n",
    "data_raw = []\n",
    "\n",
    "with gzip.open(hcp_file, 'rb') as gz_file:\n",
    "    with tarfile.open(fileobj=gz_file, mode='r') as tar:\n",
    "        \n",
    "        # Extract a text file\n",
    "        for file in tar.getnames():\n",
    "            if file.endswith('.txt'):\n",
    "                # Read the content and load it into a NumPy array\n",
    "                subjects = np.loadtxt(tar.extractfile(file), dtype=float)\n",
    "                \n",
    "                ICAd = int(np.sqrt(subjects.shape[1]))\n",
    "                \n",
    "                # Convert into matrix\n",
    "                matrix = np.array([np.reshape(i, (ICAd, ICAd)) for i in subjects])\n",
    "                data_raw.append(matrix)\n",
    "net_mat2 = data_raw[1]"
   ]
  },
  {
   "cell_type": "code",
   "execution_count": 4,
   "id": "32156e4d",
   "metadata": {},
   "outputs": [],
   "source": [
    "id_file = 'Data/IDs/subjectIDs.txt'\n",
    "id_recon1_file = 'Data/IDs/subjectIDs_recon1.txt'\n",
    "id_recon2_file = 'Data/IDs/subjectIDs_recon2.txt'\n",
    "subject_IDs = np.loadtxt(id_file, dtype=int)\n",
    "subject_data = pd.read_csv('Data/subjects.csv', index_col = 'Subject')\n",
    "subject_data = subject_data[['Gender', 'Age']]\n",
    "net_mat_data = pd.Series(dict(zip(subject_IDs, net_mat2))).to_frame().rename(columns = {0 : 'netmat'})\n",
    "data = subject_data.join(net_mat_data, how = 'right')"
   ]
  },
  {
   "cell_type": "code",
   "execution_count": 5,
   "id": "0431afea",
   "metadata": {
    "scrolled": false
   },
   "outputs": [
    {
     "data": {
      "text/html": [
       "<div>\n",
       "<style scoped>\n",
       "    .dataframe tbody tr th:only-of-type {\n",
       "        vertical-align: middle;\n",
       "    }\n",
       "\n",
       "    .dataframe tbody tr th {\n",
       "        vertical-align: top;\n",
       "    }\n",
       "\n",
       "    .dataframe thead th {\n",
       "        text-align: right;\n",
       "    }\n",
       "</style>\n",
       "<table border=\"1\" class=\"dataframe\">\n",
       "  <thead>\n",
       "    <tr style=\"text-align: right;\">\n",
       "      <th></th>\n",
       "      <th>Gender</th>\n",
       "      <th>Age</th>\n",
       "      <th>netmat</th>\n",
       "    </tr>\n",
       "  </thead>\n",
       "  <tbody>\n",
       "    <tr>\n",
       "      <th>100206</th>\n",
       "      <td>M</td>\n",
       "      <td>26-30</td>\n",
       "      <td>[[0.0, 0.61676, 9.5727, -5.4959, 0.34639, 3.00...</td>\n",
       "    </tr>\n",
       "    <tr>\n",
       "      <th>100307</th>\n",
       "      <td>F</td>\n",
       "      <td>26-30</td>\n",
       "      <td>[[0.0, -0.29664, 17.317, -9.0467, -0.28723, 1....</td>\n",
       "    </tr>\n",
       "    <tr>\n",
       "      <th>100408</th>\n",
       "      <td>M</td>\n",
       "      <td>31-35</td>\n",
       "      <td>[[0.0, 1.6486, 6.6189, -8.8877, 1.4337, 1.006,...</td>\n",
       "    </tr>\n",
       "    <tr>\n",
       "      <th>100610</th>\n",
       "      <td>M</td>\n",
       "      <td>26-30</td>\n",
       "      <td>[[0.0, -0.90275, 7.7215, -8.3907, 3.3144, 2.93...</td>\n",
       "    </tr>\n",
       "    <tr>\n",
       "      <th>101006</th>\n",
       "      <td>F</td>\n",
       "      <td>31-35</td>\n",
       "      <td>[[0.0, -0.088768, 9.4979, -10.412, 1.0646, 4.3...</td>\n",
       "    </tr>\n",
       "    <tr>\n",
       "      <th>...</th>\n",
       "      <td>...</td>\n",
       "      <td>...</td>\n",
       "      <td>...</td>\n",
       "    </tr>\n",
       "    <tr>\n",
       "      <th>992673</th>\n",
       "      <td>F</td>\n",
       "      <td>31-35</td>\n",
       "      <td>[[0.0, -0.11536, 7.1338, -5.5322, 0.34004, 1.6...</td>\n",
       "    </tr>\n",
       "    <tr>\n",
       "      <th>992774</th>\n",
       "      <td>M</td>\n",
       "      <td>31-35</td>\n",
       "      <td>[[0.0, 0.25353, 8.0265, -6.2072, 4.1589, 1.582...</td>\n",
       "    </tr>\n",
       "    <tr>\n",
       "      <th>993675</th>\n",
       "      <td>F</td>\n",
       "      <td>26-30</td>\n",
       "      <td>[[0.0, -1.0378, 10.709, -3.3224, -0.090704, 2....</td>\n",
       "    </tr>\n",
       "    <tr>\n",
       "      <th>994273</th>\n",
       "      <td>M</td>\n",
       "      <td>26-30</td>\n",
       "      <td>[[0.0, 0.64613, 11.471, -5.5137, 1.9357, 4.259...</td>\n",
       "    </tr>\n",
       "    <tr>\n",
       "      <th>996782</th>\n",
       "      <td>F</td>\n",
       "      <td>26-30</td>\n",
       "      <td>[[0.0, 1.6924, 10.201, -1.5257, 5.2389, 3.1335...</td>\n",
       "    </tr>\n",
       "  </tbody>\n",
       "</table>\n",
       "<p>1003 rows × 3 columns</p>\n",
       "</div>"
      ],
      "text/plain": [
       "       Gender    Age                                             netmat\n",
       "100206      M  26-30  [[0.0, 0.61676, 9.5727, -5.4959, 0.34639, 3.00...\n",
       "100307      F  26-30  [[0.0, -0.29664, 17.317, -9.0467, -0.28723, 1....\n",
       "100408      M  31-35  [[0.0, 1.6486, 6.6189, -8.8877, 1.4337, 1.006,...\n",
       "100610      M  26-30  [[0.0, -0.90275, 7.7215, -8.3907, 3.3144, 2.93...\n",
       "101006      F  31-35  [[0.0, -0.088768, 9.4979, -10.412, 1.0646, 4.3...\n",
       "...       ...    ...                                                ...\n",
       "992673      F  31-35  [[0.0, -0.11536, 7.1338, -5.5322, 0.34004, 1.6...\n",
       "992774      M  31-35  [[0.0, 0.25353, 8.0265, -6.2072, 4.1589, 1.582...\n",
       "993675      F  26-30  [[0.0, -1.0378, 10.709, -3.3224, -0.090704, 2....\n",
       "994273      M  26-30  [[0.0, 0.64613, 11.471, -5.5137, 1.9357, 4.259...\n",
       "996782      F  26-30  [[0.0, 1.6924, 10.201, -1.5257, 5.2389, 3.1335...\n",
       "\n",
       "[1003 rows x 3 columns]"
      ]
     },
     "execution_count": 5,
     "metadata": {},
     "output_type": "execute_result"
    }
   ],
   "source": [
    "data"
   ]
  },
  {
   "cell_type": "markdown",
   "id": "caece8ed",
   "metadata": {},
   "source": [
    "## Pytorch data preparing"
   ]
  },
  {
   "cell_type": "code",
   "execution_count": 6,
   "id": "34c39968",
   "metadata": {},
   "outputs": [
    {
     "data": {
      "text/plain": [
       "torch.Size([2, 4950])"
      ]
     },
     "execution_count": 6,
     "metadata": {},
     "output_type": "execute_result"
    }
   ],
   "source": [
    "import torch\n",
    "\n",
    "def create_edge_index(num_nodes):\n",
    "    # Calculate the total number of edges\n",
    "    num_edges = num_nodes * (num_nodes - 1) // 2\n",
    "\n",
    "    # Initialize source and target lists\n",
    "    source = []\n",
    "    target = []\n",
    "\n",
    "    # Iterate over each node\n",
    "    for i in range(num_nodes):\n",
    "        # Iterate over all other nodes\n",
    "        for j in range(i+1, num_nodes):\n",
    "            # Add a connection from i to j\n",
    "            source.append(i)\n",
    "            target.append(j)\n",
    "\n",
    "    # Create the edge_index tensor\n",
    "    edge_index = torch.tensor([source, target], dtype=torch.long)\n",
    "\n",
    "    return edge_index\n",
    "\n",
    "# Create an edge index for a fully connected graph with 100 nodes\n",
    "edges = create_edge_index(100)\n",
    "edges.size()"
   ]
  },
  {
   "cell_type": "code",
   "execution_count": 7,
   "id": "21e5a56b",
   "metadata": {},
   "outputs": [],
   "source": [
    "import networkx as nx"
   ]
  },
  {
   "cell_type": "code",
   "execution_count": 8,
   "id": "542aaf83",
   "metadata": {
    "scrolled": true
   },
   "outputs": [
    {
     "name": "stderr",
     "output_type": "stream",
     "text": [
      "C:\\Users\\terho\\AppData\\Local\\Programs\\Python\\Python311\\Lib\\site-packages\\torch_geometric\\data\\storage.py:449: UserWarning: Unable to accurately infer 'num_nodes' from the attribute set '{'edge_index'}'. Please explicitly set 'num_nodes' as an attribute of 'data' to suppress this warning\n",
      "  warnings.warn(\n"
     ]
    },
    {
     "data": {
      "image/png": "[encoded data removed]",
      "text/plain": [
       "<Figure size 640x480 with 1 Axes>"
      ]
     },
     "metadata": {},
     "output_type": "display_data"
    }
   ],
   "source": [
    "d = Data(x=None, edge_index=edges)\n",
    "g = torch_geometric.utils.to_networkx(d, to_undirected=True)\n",
    "nx.draw(g)"
   ]
  },
  {
   "cell_type": "code",
   "execution_count": 9,
   "id": "282bd120",
   "metadata": {},
   "outputs": [
    {
     "data": {
      "text/plain": [
       "tensor([[ 0,  0,  0,  ..., 97, 97, 98],\n",
       "        [ 1,  2,  3,  ..., 98, 99, 99]])"
      ]
     },
     "execution_count": 9,
     "metadata": {},
     "output_type": "execute_result"
    }
   ],
   "source": [
    "edges"
   ]
  },
  {
   "cell_type": "code",
   "execution_count": null,
   "id": "d63e609c",
   "metadata": {},
   "outputs": [],
   "source": []
  },
  {
   "cell_type": "code",
   "execution_count": 10,
   "id": "d32a7ab2",
   "metadata": {},
   "outputs": [],
   "source": [
    "data['Gender'] = data['Gender'].replace({\"M\":0, \"F\":1})"
   ]
  },
  {
   "cell_type": "code",
   "execution_count": 11,
   "id": "299e179c",
   "metadata": {},
   "outputs": [
    {
     "data": {
      "text/plain": [
       "100206    0\n",
       "100307    1\n",
       "100408    0\n",
       "100610    0\n",
       "101006    1\n",
       "         ..\n",
       "992673    1\n",
       "992774    0\n",
       "993675    1\n",
       "994273    0\n",
       "996782    1\n",
       "Name: Gender, Length: 1003, dtype: int64"
      ]
     },
     "execution_count": 11,
     "metadata": {},
     "output_type": "execute_result"
    }
   ],
   "source": [
    "data['Gender']"
   ]
  },
  {
   "cell_type": "code",
   "execution_count": null,
   "id": "39ab7c9f",
   "metadata": {},
   "outputs": [],
   "source": []
  },
  {
   "cell_type": "code",
   "execution_count": 12,
   "id": "0daad24d",
   "metadata": {
    "scrolled": true
   },
   "outputs": [
    {
     "data": {
      "text/plain": [
       "tensor([0, 1, 0,  ..., 1, 0, 1])"
      ]
     },
     "execution_count": 12,
     "metadata": {},
     "output_type": "execute_result"
    }
   ],
   "source": [
    "labels = torch.tensor(data['Gender'].values)\n",
    "labels"
   ]
  },
  {
   "cell_type": "code",
   "execution_count": 13,
   "id": "2c7f80f5",
   "metadata": {},
   "outputs": [],
   "source": [
    "edges = create_edge_index(100)"
   ]
  },
  {
   "cell_type": "code",
   "execution_count": 14,
   "id": "ba5a6001",
   "metadata": {},
   "outputs": [],
   "source": [
    "netmats = data['netmat']\n",
    "\n",
    "# Custom dataset class\n",
    "class CorrelationDataset(torch.utils.data.Dataset):\n",
    "    def __init__(self, netmats):\n",
    "        self.netmats = netmats\n",
    "        self.labels = labels\n",
    "\n",
    "    def __len__(self):\n",
    "        return len(self.netmats)\n",
    "\n",
    "    def __getitem__(self, idx):\n",
    "        nmap = self.netmats.iloc[idx]\n",
    "        nmap = torch.tensor(nmap)\n",
    "        nmap = nmap.float()\n",
    "        \n",
    "        edge_index = edges\n",
    "        graph_data = Data(x=nmap, edge_index=edge_index)\n",
    "        \n",
    "        label = self.labels[idx]\n",
    "\n",
    "        return graph_data, label\n",
    "\n",
    "# Create the custom dataset\n",
    "custom_dataset = CorrelationDataset(netmats)\n",
    "loader = DataLoader(custom_dataset, batch_size=1, shuffle=True)"
   ]
  },
  {
   "cell_type": "code",
   "execution_count": 15,
   "id": "5b66b67e",
   "metadata": {
    "scrolled": true
   },
   "outputs": [
    {
     "name": "stdout",
     "output_type": "stream",
     "text": [
      "[DataBatch(x=[100, 100], edge_index=[2, 4950], batch=[100], ptr=[2]), tensor([1])]\n"
     ]
    }
   ],
   "source": [
    "test = iter(loader)\n",
    "print(next(test))"
   ]
  },
  {
   "cell_type": "code",
   "execution_count": 16,
   "id": "baa4bc2b",
   "metadata": {},
   "outputs": [],
   "source": [
    "class GCN(nn.Module):\n",
    "    def __init__(self,):\n",
    "        super(GCN, self).__init__()\n",
    "        self.conv1 = GraphConv(100, 25)\n",
    "        self.conv2 = GraphConv(25, 16)\n",
    "        self.classifier = Linear(16, 1)\n",
    "\n",
    "    def forward(self, data):\n",
    "        x, edge_index = data.x, data.edge_index\n",
    "        \n",
    "        x = self.conv1(x, edge_index)\n",
    "        x = self.conv2(x, edge_index)\n",
    "        x = self.classifier(x).mean(dim=0)\n",
    "        return torch.sigmoid(x)"
   ]
  },
  {
   "cell_type": "code",
   "execution_count": 17,
   "id": "0ae8f268",
   "metadata": {},
   "outputs": [],
   "source": [
    "model = GCN()"
   ]
  },
  {
   "cell_type": "code",
   "execution_count": 59,
   "id": "20f0eed6",
   "metadata": {},
   "outputs": [],
   "source": [
    "criterion = nn.BCELoss()\n",
    "optimizer = torch.optim.Adam(model.parameters(), lr=0.03)"
   ]
  },
  {
   "cell_type": "code",
   "execution_count": null,
   "id": "dba10430",
   "metadata": {
    "scrolled": true
   },
   "outputs": [],
   "source": []
  },
  {
   "cell_type": "code",
   "execution_count": 60,
   "id": "5b60f986",
   "metadata": {},
   "outputs": [
    {
     "name": "stdout",
     "output_type": "stream",
     "text": [
      "[DataBatch(x=[100, 100], edge_index=[2, 4950], batch=[100], ptr=[2]), tensor([1])]\n"
     ]
    }
   ],
   "source": [
    "test = iter(loader)\n",
    "print(next(test))"
   ]
  },
  {
   "cell_type": "code",
   "execution_count": 61,
   "id": "ee300ef6",
   "metadata": {},
   "outputs": [
    {
     "data": {
      "text/plain": [
       "tensor([1.], grad_fn=<SigmoidBackward0>)"
      ]
     },
     "execution_count": 61,
     "metadata": {},
     "output_type": "execute_result"
    }
   ],
   "source": [
    "model(next(test)[0])"
   ]
  },
  {
   "cell_type": "code",
   "execution_count": 66,
   "id": "0a03953a",
   "metadata": {},
   "outputs": [
    {
     "data": {
      "text/plain": [
       "tensor(0., dtype=torch.float64)"
      ]
     },
     "execution_count": 66,
     "metadata": {},
     "output_type": "execute_result"
    }
   ],
   "source": [
    "criterion(torch.tensor([1]).double(),torch.tensor([1]).double())"
   ]
  },
  {
   "cell_type": "code",
   "execution_count": 67,
   "id": "a84193a3",
   "metadata": {
    "scrolled": true
   },
   "outputs": [
    {
     "name": "stdout",
     "output_type": "stream",
     "text": [
      "Epoch 1/5, Loss: 46.75972084\n",
      "Epoch 2/5, Loss: 46.75972084\n",
      "Epoch 3/5, Loss: 46.75972084\n",
      "Epoch 4/5, Loss: 46.75972084\n",
      "Epoch 5/5, Loss: 46.75972084\n"
     ]
    }
   ],
   "source": [
    "num_epochs = 5\n",
    "for epoch in range(num_epochs):\n",
    "    model.train()\n",
    "    total_loss = 0\n",
    "\n",
    "    for i_data, label in loader:\n",
    "        optimizer.zero_grad()\n",
    "        out = model(i_data)\n",
    "        loss = criterion(out.double(), label.double())\n",
    "        loss.backward()\n",
    "        optimizer.step()\n",
    "        total_loss += loss.item()\n",
    "\n",
    "    average_loss = total_loss / len(loader)\n",
    "    print(f'Epoch {epoch + 1}/{num_epochs}, Loss: {average_loss:.8f}')"
   ]
  },
  {
   "cell_type": "code",
   "execution_count": null,
   "id": "6b97fd0c",
   "metadata": {},
   "outputs": [],
   "source": []
  },
  {
   "cell_type": "code",
   "execution_count": null,
   "id": "37538a09",
   "metadata": {},
   "outputs": [],
   "source": []
  },
  {
   "cell_type": "code",
   "execution_count": null,
   "id": "a23f7ad3",
   "metadata": {},
   "outputs": [],
   "source": []
  }
 ],
 "metadata": {
  "kernelspec": {
   "display_name": "Python 3 (ipykernel)",
   "language": "python",
   "name": "python3"
  },
  "language_info": {
   "codemirror_mode": {
    "name": "ipython",
    "version": 3
   },
   "file_extension": ".py",
   "mimetype": "text/x-python",
   "name": "python",
   "nbconvert_exporter": "python",
   "pygments_lexer": "ipython3",
   "version": "3.11.2"
  }
 },
 "nbformat": 4,
 "nbformat_minor": 5
}
